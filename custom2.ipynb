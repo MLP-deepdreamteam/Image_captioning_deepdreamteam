{
  "cells": [
    {
      "cell_type": "markdown",
      "metadata": {
        "id": "view-in-github",
        "colab_type": "text"
      },
      "source": [
        "<a href=\"https://colab.research.google.com/github/MLP-deepdreamteam/Practice_captioning/blob/branch_%EB%B0%B1%EC%9A%B4%EC%B2%A0/custom2.ipynb\" target=\"_parent\"><img src=\"https://colab.research.google.com/assets/colab-badge.svg\" alt=\"Open In Colab\"/></a>"
      ]
    },
    {
      "cell_type": "markdown",
      "id": "760a7d3e",
      "metadata": {
        "id": "760a7d3e",
        "papermill": {
          "duration": 0.019222,
          "end_time": "2022-09-14T19:04:15.975893",
          "exception": false,
          "start_time": "2022-09-14T19:04:15.956671",
          "status": "completed"
        },
        "tags": []
      },
      "source": [
        "# Introduction\n",
        "\n",
        "> Image captioning is the task of generating textual descriptions of a given image, requiring  techniques of computer vision and natural language processing.\n",
        "\n",
        "It is a popular research area of Artificial Intelligence that deals with image understanding and a language description for that image. Generating well-formed sentences requires both syntactic and semantic understanding of the language. Being able to describe the content of an image using accurately formed sentences is a very challenging task, but it could also have a great impact, by helping visually impaired people better understand the content of images.  [source](https://www.analyticsvidhya.com/blog/2020/11/create-your-own-image-caption-generator-using-keras/) \n",
        "\n",
        "Here, I have used [COCO Dataset 2017](https://cocodataset.org/#download) which contains **12 different types of categories** and among them it has **80 types of sub-categories**. Each sub categories contain list of images and five captions to each image."
      ]
    },
    {
      "cell_type": "code",
      "execution_count": null,
      "id": "76f2f5dd",
      "metadata": {
        "_cell_guid": "b1076dfc-b9ad-4769-8c92-a6c4dae69d19",
        "_uuid": "8f2839f25d086af736a60e9eeb907d3b93b6e0e5",
        "colab": {
          "base_uri": "https://localhost:8080/"
        },
        "execution": {
          "iopub.execute_input": "2022-09-14T19:04:16.009347Z",
          "iopub.status.busy": "2022-09-14T19:04:16.008817Z",
          "iopub.status.idle": "2022-09-14T19:04:59.331885Z",
          "shell.execute_reply": "2022-09-14T19:04:59.330696Z"
        },
        "id": "76f2f5dd",
        "outputId": "f6638b50-ff78-450f-8a24-d7bb4fb6f835",
        "papermill": {
          "duration": 43.343284,
          "end_time": "2022-09-14T19:04:59.334552",
          "exception": false,
          "start_time": "2022-09-14T19:04:15.991268",
          "status": "completed"
        },
        "tags": []
      },
      "outputs": [
        {
          "output_type": "stream",
          "name": "stdout",
          "text": [
            "Looking in indexes: https://pypi.org/simple, https://us-python.pkg.dev/colab-wheels/public/simple/\n",
            "Requirement already satisfied: pycocotools in /usr/local/lib/python3.9/dist-packages (2.0.6)\n",
            "Requirement already satisfied: matplotlib>=2.1.0 in /usr/local/lib/python3.9/dist-packages (from pycocotools) (3.7.1)\n",
            "Requirement already satisfied: numpy in /usr/local/lib/python3.9/dist-packages (from pycocotools) (1.22.4)\n",
            "Requirement already satisfied: pillow>=6.2.0 in /usr/local/lib/python3.9/dist-packages (from matplotlib>=2.1.0->pycocotools) (8.4.0)\n",
            "Requirement already satisfied: fonttools>=4.22.0 in /usr/local/lib/python3.9/dist-packages (from matplotlib>=2.1.0->pycocotools) (4.39.2)\n",
            "Requirement already satisfied: cycler>=0.10 in /usr/local/lib/python3.9/dist-packages (from matplotlib>=2.1.0->pycocotools) (0.11.0)\n",
            "Requirement already satisfied: packaging>=20.0 in /usr/local/lib/python3.9/dist-packages (from matplotlib>=2.1.0->pycocotools) (23.0)\n",
            "Requirement already satisfied: importlib-resources>=3.2.0 in /usr/local/lib/python3.9/dist-packages (from matplotlib>=2.1.0->pycocotools) (5.12.0)\n",
            "Requirement already satisfied: contourpy>=1.0.1 in /usr/local/lib/python3.9/dist-packages (from matplotlib>=2.1.0->pycocotools) (1.0.7)\n",
            "Requirement already satisfied: kiwisolver>=1.0.1 in /usr/local/lib/python3.9/dist-packages (from matplotlib>=2.1.0->pycocotools) (1.4.4)\n",
            "Requirement already satisfied: pyparsing>=2.3.1 in /usr/local/lib/python3.9/dist-packages (from matplotlib>=2.1.0->pycocotools) (3.0.9)\n",
            "Requirement already satisfied: python-dateutil>=2.7 in /usr/local/lib/python3.9/dist-packages (from matplotlib>=2.1.0->pycocotools) (2.8.2)\n",
            "Requirement already satisfied: zipp>=3.1.0 in /usr/local/lib/python3.9/dist-packages (from importlib-resources>=3.2.0->matplotlib>=2.1.0->pycocotools) (3.15.0)\n",
            "Requirement already satisfied: six>=1.5 in /usr/local/lib/python3.9/dist-packages (from python-dateutil>=2.7->matplotlib>=2.1.0->pycocotools) (1.16.0)\n"
          ]
        },
        {
          "output_type": "stream",
          "name": "stderr",
          "text": [
            "[nltk_data] Downloading package stopwords to /root/nltk_data...\n",
            "[nltk_data]   Unzipping corpora/stopwords.zip.\n"
          ]
        }
      ],
      "source": [
        " !pip install pycocotools\n",
        "\n",
        "from pycocotools.coco import COCO # COCO python library\n",
        "import numpy as np\n",
        "import skimage.io as io\n",
        "import matplotlib.pyplot as plt\n",
        "import pylab\n",
        "\n",
        "import random\n",
        "import string\n",
        "\n",
        "import cv2\n",
        "import os\n",
        "from pickle import dump, load\n",
        "import json\n",
        "\n",
        "import nltk\n",
        "nltk.download(\"stopwords\")\n",
        "from nltk.corpus import stopwords\n",
        "\n",
        "import tensorflow as tf\n",
        "from tensorflow.keras.preprocessing.sequence import pad_sequences\n",
        "from tensorflow.keras.layers import Embedding, LSTM, Dense, Bidirectional, Input, Dropout, Attention\n",
        "from tensorflow.keras.preprocessing.text import Tokenizer\n",
        "from tensorflow.keras.models import Sequential\n",
        "from tensorflow.keras.optimizers import Adam\n",
        "from tensorflow.keras.applications.xception import Xception, preprocess_input\n",
        "from tensorflow.keras.preprocessing.image import load_img, img_to_array\n",
        "from tensorflow.keras.utils import to_categorical\n",
        "\n",
        "from keras.layers import add\n",
        "\n",
        "from tensorflow.keras.models import Model, load_model\n",
        "\n",
        "# small library for seeing the progress of loops.\n",
        "from tqdm.notebook import tqdm\n",
        "\n",
        "pylab.rcParams['figure.figsize'] = (8.0, 10.0)"
      ]
    },
    {
      "cell_type": "markdown",
      "id": "c69b215d",
      "metadata": {
        "id": "c69b215d",
        "papermill": {
          "duration": 0.016847,
          "end_time": "2022-09-14T19:04:59.368792",
          "exception": false,
          "start_time": "2022-09-14T19:04:59.351945",
          "status": "completed"
        },
        "tags": []
      },
      "source": [
        "# Exploring COCO Dataset\n",
        "\n",
        "#### Initialize COCO class and operate instances_train2017.json"
      ]
    },
    {
      "cell_type": "code",
      "execution_count": null,
      "id": "bjlTjf4SKGsi",
      "metadata": {
        "colab": {
          "base_uri": "https://localhost:8080/"
        },
        "id": "bjlTjf4SKGsi",
        "outputId": "16671861-aad1-4412-cfe3-87e8d1055e61"
      },
      "outputs": [
        {
          "output_type": "stream",
          "name": "stdout",
          "text": [
            "Mounted at /content/drive\n"
          ]
        }
      ],
      "source": [
        "from google.colab import drive\n",
        "drive.mount('/content/drive')"
      ]
    },
    {
      "cell_type": "code",
      "execution_count": null,
      "id": "acf0e73d",
      "metadata": {
        "colab": {
          "base_uri": "https://localhost:8080/"
        },
        "execution": {
          "iopub.execute_input": "2022-09-14T19:04:59.404437Z",
          "iopub.status.busy": "2022-09-14T19:04:59.403841Z",
          "iopub.status.idle": "2022-09-14T19:05:21.199801Z",
          "shell.execute_reply": "2022-09-14T19:05:21.198651Z"
        },
        "id": "acf0e73d",
        "outputId": "eb780584-c0e6-44fb-e1a4-2c8361259c0f",
        "papermill": {
          "duration": 21.816942,
          "end_time": "2022-09-14T19:05:21.202536",
          "exception": false,
          "start_time": "2022-09-14T19:04:59.385594",
          "status": "completed"
        },
        "tags": []
      },
      "outputs": [
        {
          "output_type": "stream",
          "name": "stdout",
          "text": [
            "loading annotations into memory...\n",
            "Done (t=34.44s)\n",
            "creating index...\n",
            "index created!\n"
          ]
        }
      ],
      "source": [
        "coco=COCO(\"/content/drive/MyDrive/coco_dataset/coco_ann2017/annotations/instances_train2017.json\")\n",
        "\n",
        "\n"
      ]
    },
    {
      "cell_type": "code",
      "source": [
        "\n",
        "\n",
        "with open(f'/content/drive/MyDrive/coco_dataset/coco_ann2017/annotations/captions_train2017.json', 'r') as f:\n",
        "    data = json.load(f)\n",
        "    data = data['annotations']\n",
        "\n",
        "img_cap_pairs = []\n",
        "\n",
        "for sample in data:\n",
        "    img_name = '%012d.jpg' % sample['image_id']\n",
        "    img_cap_pairs.append([img_name, sample['caption']])\n",
        "\n",
        "captions = pd.DataFrame(img_cap_pairs, columns=['image', 'caption'])\n",
        "captions['image'] = captions['image'].apply(\n",
        "    lambda x: f'/content/drive/MyDrive/coco_dataset//train2017/{x}'\n",
        ")\n",
        "captions = captions.sample(70000)\n",
        "captions = captions.reset_index(drop=True)\n",
        "captions.head()"
      ],
      "metadata": {
        "id": "3AYri0IC2rfj"
      },
      "id": "3AYri0IC2rfj",
      "execution_count": null,
      "outputs": []
    },
    {
      "cell_type": "code",
      "source": [
        "\n",
        "\n",
        "\n",
        "new_tokenizer = tf.keras.layers.TextVectorization(\n",
        "    max_tokens=VOCABULARY_SIZE,\n",
        "    standardize=None,\n",
        "    output_sequence_length=MAX_LENGTH)\n",
        "\n",
        "tokenizer.adapt(captions['caption'])\n"
      ],
      "metadata": {
        "id": "u5zHrzI92ihW"
      },
      "id": "u5zHrzI92ihW",
      "execution_count": null,
      "outputs": []
    },
    {
      "cell_type": "code",
      "execution_count": null,
      "id": "80fbdf41",
      "metadata": {
        "execution": {
          "iopub.execute_input": "2022-09-14T19:05:21.240117Z",
          "iopub.status.busy": "2022-09-14T19:05:21.239129Z",
          "iopub.status.idle": "2022-09-14T19:05:21.244024Z",
          "shell.execute_reply": "2022-09-14T19:05:21.242977Z"
        },
        "id": "80fbdf41",
        "papermill": {
          "duration": 0.025314,
          "end_time": "2022-09-14T19:05:21.246025",
          "exception": false,
          "start_time": "2022-09-14T19:05:21.220711",
          "status": "completed"
        },
        "tags": []
      },
      "outputs": [],
      "source": [
        "#### Find Categories"
      ]
    },
    {
      "cell_type": "code",
      "execution_count": null,
      "id": "31a90af6",
      "metadata": {
        "colab": {
          "base_uri": "https://localhost:8080/"
        },
        "execution": {
          "iopub.execute_input": "2022-09-14T19:05:21.282330Z",
          "iopub.status.busy": "2022-09-14T19:05:21.281740Z",
          "iopub.status.idle": "2022-09-14T19:05:21.328564Z",
          "shell.execute_reply": "2022-09-14T19:05:21.327069Z"
        },
        "id": "31a90af6",
        "outputId": "f9fc27d3-9ed7-438f-924f-c88a3eb48d89",
        "papermill": {
          "duration": 0.068033,
          "end_time": "2022-09-14T19:05:21.331198",
          "exception": false,
          "start_time": "2022-09-14T19:05:21.263165",
          "status": "completed"
        },
        "tags": []
      },
      "outputs": [
        {
          "output_type": "stream",
          "name": "stdout",
          "text": [
            "Number of main categories:  12\n",
            "List of main categories:  ['outdoor', 'animal', 'vehicle', 'kitchen', 'indoor', 'food', 'accessory', 'person', 'sports', 'appliance', 'furniture', 'electronic']\n"
          ]
        }
      ],
      "source": [
        "cats = coco.loadCats(coco.getCatIds())\n",
        "maincategories = list(set([cat['supercategory'] for cat in cats]))\n",
        "\n",
        "print(\"Number of main categories: \", len(maincategories))\n",
        "print(\"List of main categories: \", maincategories)"
      ]
    },
    {
      "cell_type": "markdown",
      "id": "f6e4cc81",
      "metadata": {
        "id": "f6e4cc81",
        "papermill": {
          "duration": 0.016932,
          "end_time": "2022-09-14T19:05:21.366227",
          "exception": false,
          "start_time": "2022-09-14T19:05:21.349295",
          "status": "completed"
        },
        "tags": []
      },
      "source": [
        "#### Find Sub Categories"
      ]
    },
    {
      "cell_type": "code",
      "execution_count": null,
      "id": "fe745f8e",
      "metadata": {
        "colab": {
          "base_uri": "https://localhost:8080/"
        },
        "execution": {
          "iopub.execute_input": "2022-09-14T19:05:21.402490Z",
          "iopub.status.busy": "2022-09-14T19:05:21.402149Z",
          "iopub.status.idle": "2022-09-14T19:05:21.407812Z",
          "shell.execute_reply": "2022-09-14T19:05:21.406874Z"
        },
        "id": "fe745f8e",
        "outputId": "42bea37c-4fcf-4df3-a0c4-a8d1b7bd3ae4",
        "papermill": {
          "duration": 0.02743,
          "end_time": "2022-09-14T19:05:21.410656",
          "exception": false,
          "start_time": "2022-09-14T19:05:21.383226",
          "status": "completed"
        },
        "tags": []
      },
      "outputs": [
        {
          "output_type": "stream",
          "name": "stdout",
          "text": [
            "Number of sub categories:  80\n",
            "List of sub categories:  ['person', 'bicycle', 'car', 'motorcycle', 'airplane', 'bus', 'train', 'truck', 'boat', 'traffic light', 'fire hydrant', 'stop sign', 'parking meter', 'bench', 'bird', 'cat', 'dog', 'horse', 'sheep', 'cow', 'elephant', 'bear', 'zebra', 'giraffe', 'backpack', 'umbrella', 'handbag', 'tie', 'suitcase', 'frisbee', 'skis', 'snowboard', 'sports ball', 'kite', 'baseball bat', 'baseball glove', 'skateboard', 'surfboard', 'tennis racket', 'bottle', 'wine glass', 'cup', 'fork', 'knife', 'spoon', 'bowl', 'banana', 'apple', 'sandwich', 'orange', 'broccoli', 'carrot', 'hot dog', 'pizza', 'donut', 'cake', 'chair', 'couch', 'potted plant', 'bed', 'dining table', 'toilet', 'tv', 'laptop', 'mouse', 'remote', 'keyboard', 'cell phone', 'microwave', 'oven', 'toaster', 'sink', 'refrigerator', 'book', 'clock', 'vase', 'scissors', 'teddy bear', 'hair drier', 'toothbrush']\n"
          ]
        }
      ],
      "source": [
        "subcategories = [cat['name'] for cat in cats]\n",
        "\n",
        "print(\"Number of sub categories: \", len(subcategories))\n",
        "print(\"List of sub categories: \", subcategories)"
      ]
    },
    {
      "cell_type": "markdown",
      "id": "0638e89b",
      "metadata": {
        "id": "0638e89b",
        "papermill": {
          "duration": 0.016893,
          "end_time": "2022-09-14T19:05:21.445566",
          "exception": false,
          "start_time": "2022-09-14T19:05:21.428673",
          "status": "completed"
        },
        "tags": []
      },
      "source": [
        "#### Find Sub categories with its corresponding IDs"
      ]
    },
    {
      "cell_type": "code",
      "execution_count": null,
      "id": "433d0231",
      "metadata": {
        "colab": {
          "base_uri": "https://localhost:8080/"
        },
        "execution": {
          "iopub.execute_input": "2022-09-14T19:05:21.482368Z",
          "iopub.status.busy": "2022-09-14T19:05:21.480728Z",
          "iopub.status.idle": "2022-09-14T19:05:21.490223Z",
          "shell.execute_reply": "2022-09-14T19:05:21.489276Z"
        },
        "id": "433d0231",
        "outputId": "192a8899-89e8-437a-fbc0-42ab2f5f0281",
        "papermill": {
          "duration": 0.029564,
          "end_time": "2022-09-14T19:05:21.492250",
          "exception": false,
          "start_time": "2022-09-14T19:05:21.462686",
          "status": "completed"
        },
        "tags": []
      },
      "outputs": [
        {
          "output_type": "stream",
          "name": "stdout",
          "text": [
            "Sub categories with IDs : {'person': 1, 'bicycle': 2, 'car': 3, 'motorcycle': 4, 'airplane': 5, 'bus': 6, 'train': 7, 'truck': 8, 'boat': 9, 'traffic light': 10, 'fire hydrant': 11, 'stop sign': 13, 'parking meter': 14, 'bench': 15, 'bird': 16, 'cat': 17, 'dog': 18, 'horse': 19, 'sheep': 20, 'cow': 21, 'elephant': 22, 'bear': 23, 'zebra': 24, 'giraffe': 25, 'backpack': 27, 'umbrella': 28, 'handbag': 31, 'tie': 32, 'suitcase': 33, 'frisbee': 34, 'skis': 35, 'snowboard': 36, 'sports ball': 37, 'kite': 38, 'baseball bat': 39, 'baseball glove': 40, 'skateboard': 41, 'surfboard': 42, 'tennis racket': 43, 'bottle': 44, 'wine glass': 46, 'cup': 47, 'fork': 48, 'knife': 49, 'spoon': 50, 'bowl': 51, 'banana': 52, 'apple': 53, 'sandwich': 54, 'orange': 55, 'broccoli': 56, 'carrot': 57, 'hot dog': 58, 'pizza': 59, 'donut': 60, 'cake': 61, 'chair': 62, 'couch': 63, 'potted plant': 64, 'bed': 65, 'dining table': 67, 'toilet': 70, 'tv': 72, 'laptop': 73, 'mouse': 74, 'remote': 75, 'keyboard': 76, 'cell phone': 77, 'microwave': 78, 'oven': 79, 'toaster': 80, 'sink': 81, 'refrigerator': 82, 'book': 84, 'clock': 85, 'vase': 86, 'scissors': 87, 'teddy bear': 88, 'hair drier': 89, 'toothbrush': 90}\n"
          ]
        }
      ],
      "source": [
        "catIds = coco.getCatIds(catNms=subcategories)\n",
        "\n",
        "subcategories_Ids = dict()\n",
        "for i in range(0,len(subcategories)):\n",
        "    subcategories_Ids[subcategories[i]] = catIds[i]\n",
        "\n",
        "print(\"Sub categories with IDs :\",subcategories_Ids)"
      ]
    },
    {
      "cell_type": "markdown",
      "id": "04dbf835",
      "metadata": {
        "id": "04dbf835",
        "papermill": {
          "duration": 0.01724,
          "end_time": "2022-09-14T19:05:21.526850",
          "exception": false,
          "start_time": "2022-09-14T19:05:21.509610",
          "status": "completed"
        },
        "tags": []
      },
      "source": [
        "#### Find total images with each sub categories"
      ]
    },
    {
      "cell_type": "code",
      "execution_count": null,
      "id": "835813b1",
      "metadata": {
        "colab": {
          "base_uri": "https://localhost:8080/"
        },
        "execution": {
          "iopub.execute_input": "2022-09-14T19:05:21.562850Z",
          "iopub.status.busy": "2022-09-14T19:05:21.562054Z",
          "iopub.status.idle": "2022-09-14T19:05:21.764828Z",
          "shell.execute_reply": "2022-09-14T19:05:21.763301Z"
        },
        "id": "835813b1",
        "outputId": "09b63b8e-d91d-4a5a-bd88-5cc1d822b1ab",
        "papermill": {
          "duration": 0.223377,
          "end_time": "2022-09-14T19:05:21.767407",
          "exception": false,
          "start_time": "2022-09-14T19:05:21.544030",
          "status": "completed"
        },
        "tags": []
      },
      "outputs": [
        {
          "output_type": "stream",
          "name": "stdout",
          "text": [
            "Sub categories with Image IDs : 80\n"
          ]
        }
      ],
      "source": [
        "subcategories_imageIds = dict()\n",
        "\n",
        "for i in range(0,len(catIds)):\n",
        "    imgIds = coco.getImgIds(catIds=catIds[i])\n",
        "    img = []\n",
        "    for j in imgIds: \n",
        "        img.append(j)\n",
        "    subcategories_imageIds[subcategories[i]] = img\n",
        "    \n",
        "print(\"Sub categories with Image IDs :\",len(subcategories_imageIds))"
      ]
    },
    {
      "cell_type": "code",
      "execution_count": null,
      "id": "a85eb47a",
      "metadata": {
        "colab": {
          "base_uri": "https://localhost:8080/"
        },
        "execution": {
          "iopub.execute_input": "2022-09-14T19:05:21.810351Z",
          "iopub.status.busy": "2022-09-14T19:05:21.809464Z",
          "iopub.status.idle": "2022-09-14T19:05:21.816495Z",
          "shell.execute_reply": "2022-09-14T19:05:21.815568Z"
        },
        "id": "a85eb47a",
        "outputId": "df696f42-1d32-4563-ac0b-1105f7839dea",
        "papermill": {
          "duration": 0.027625,
          "end_time": "2022-09-14T19:05:21.818672",
          "exception": false,
          "start_time": "2022-09-14T19:05:21.791047",
          "status": "completed"
        },
        "tags": []
      },
      "outputs": [
        {
          "output_type": "stream",
          "name": "stdout",
          "text": [
            "Total images in each sub categories:  {'person': 64115, 'bicycle': 3252, 'car': 12251, 'motorcycle': 3502, 'airplane': 2986, 'bus': 3952, 'train': 3588, 'truck': 6127, 'boat': 3025, 'traffic light': 4139, 'fire hydrant': 1711, 'stop sign': 1734, 'parking meter': 705, 'bench': 5570, 'bird': 3237, 'cat': 4114, 'dog': 4385, 'horse': 2941, 'sheep': 1529, 'cow': 1968, 'elephant': 2143, 'bear': 960, 'zebra': 1916, 'giraffe': 2546, 'backpack': 5528, 'umbrella': 3968, 'handbag': 6841, 'tie': 3810, 'suitcase': 2402, 'frisbee': 2184, 'skis': 3082, 'snowboard': 1654, 'sports ball': 4262, 'kite': 2261, 'baseball bat': 2506, 'baseball glove': 2629, 'skateboard': 3476, 'surfboard': 3486, 'tennis racket': 3394, 'bottle': 8501, 'wine glass': 2533, 'cup': 9189, 'fork': 3555, 'knife': 4326, 'spoon': 3529, 'bowl': 7111, 'banana': 2243, 'apple': 1586, 'sandwich': 2365, 'orange': 1699, 'broccoli': 1939, 'carrot': 1683, 'hot dog': 1222, 'pizza': 3166, 'donut': 1523, 'cake': 2925, 'chair': 12774, 'couch': 4423, 'potted plant': 4452, 'bed': 3682, 'dining table': 11837, 'toilet': 3353, 'tv': 4561, 'laptop': 3524, 'mouse': 1876, 'remote': 3076, 'keyboard': 2115, 'cell phone': 4803, 'microwave': 1547, 'oven': 2877, 'toaster': 217, 'sink': 4678, 'refrigerator': 2360, 'book': 5332, 'clock': 4659, 'vase': 3593, 'scissors': 947, 'teddy bear': 2140, 'hair drier': 189, 'toothbrush': 1007}\n"
          ]
        }
      ],
      "source": [
        "length_dict = {key: len(value) for key, value in subcategories_imageIds.items()}\n",
        "print(\"Total images in each sub categories: \", length_dict)"
      ]
    },
    {
      "cell_type": "code",
      "execution_count": null,
      "id": "752e1c68",
      "metadata": {
        "execution": {
          "iopub.execute_input": "2022-09-14T19:05:21.855608Z",
          "iopub.status.busy": "2022-09-14T19:05:21.854797Z",
          "iopub.status.idle": "2022-09-14T19:05:21.860392Z",
          "shell.execute_reply": "2022-09-14T19:05:21.859490Z"
        },
        "id": "752e1c68",
        "papermill": {
          "duration": 0.026826,
          "end_time": "2022-09-14T19:05:21.863038",
          "exception": false,
          "start_time": "2022-09-14T19:05:21.836212",
          "status": "completed"
        },
        "tags": []
      },
      "outputs": [],
      "source": [
        "#subcategories_imageIds['bicycle']"
      ]
    },
    {
      "cell_type": "markdown",
      "id": "fd7a3213",
      "metadata": {
        "id": "fd7a3213",
        "papermill": {
          "duration": 0.017283,
          "end_time": "2022-09-14T19:05:21.897743",
          "exception": false,
          "start_time": "2022-09-14T19:05:21.880460",
          "status": "completed"
        },
        "tags": []
      },
      "source": [
        "Here, I have selected two sub categories **Bicycle** and **Airplane** for accomplishing image caption generator project."
      ]
    },
    {
      "cell_type": "code",
      "execution_count": null,
      "id": "1ae4bf73",
      "metadata": {
        "colab": {
          "base_uri": "https://localhost:8080/"
        },
        "execution": {
          "iopub.execute_input": "2022-09-14T19:05:21.934308Z",
          "iopub.status.busy": "2022-09-14T19:05:21.933330Z",
          "iopub.status.idle": "2022-09-14T19:05:22.067944Z",
          "shell.execute_reply": "2022-09-14T19:05:22.066736Z"
        },
        "id": "1ae4bf73",
        "outputId": "817cf16e-6cb6-48bc-f739-84f0332d9e46",
        "papermill": {
          "duration": 0.15586,
          "end_time": "2022-09-14T19:05:22.070844",
          "exception": false,
          "start_time": "2022-09-14T19:05:21.914984",
          "status": "completed"
        },
        "tags": []
      },
      "outputs": [
        {
          "output_type": "stream",
          "name": "stdout",
          "text": [
            "Number of images containing all the  classes: 9563\n"
          ]
        }
      ],
      "source": [
        "# Define the classes (out of the 81) which you want to see. Others will not be shown.\n",
        "filterClasses = ['person', 'skateboard']\n",
        "filterClasses2 = ['person', 'sports ball']\n",
        "filterClasses3 = ['person', 'dog']\n",
        "\n",
        "# Fetch class IDs only corresponding to the filterClasses\n",
        "catIds = coco.getCatIds(catNms=filterClasses)\n",
        "catIds2 = coco.getCatIds(catNms=filterClasses2)\n",
        "catIds3 = coco.getCatIds(catNms=filterClasses3)\n",
        "# Get all images containing the above Category IDs\n",
        "imgIdss = coco.getImgIds(catIds=catIds) + coco.getImgIds(catIds=catIds2) +coco.getImgIds(catIds=catIds3)\n",
        "print(\"Number of images containing all the  classes:\", len(imgIdss))\n",
        "\n",
        "\n",
        "# train_cats = subcategories_imageIds['person, sports ball'] + subcategories_imageIds['person' , 'skateboard' ]\n",
        "# imgIdss = coco.getImgIds(imgIds = train_cats)\n",
        "# print(\"Total Images: \", len(imgIdss))"
      ]
    },
    {
      "cell_type": "markdown",
      "id": "96b20d64",
      "metadata": {
        "id": "96b20d64",
        "papermill": {
          "duration": 0.017347,
          "end_time": "2022-09-14T19:05:22.106347",
          "exception": false,
          "start_time": "2022-09-14T19:05:22.089000",
          "status": "completed"
        },
        "tags": []
      },
      "source": [
        "#### Load some of the random images"
      ]
    },
    {
      "cell_type": "code",
      "execution_count": null,
      "id": "8bdb048c",
      "metadata": {
        "execution": {
          "iopub.execute_input": "2022-09-14T19:05:22.143181Z",
          "iopub.status.busy": "2022-09-14T19:05:22.142226Z",
          "iopub.status.idle": "2022-09-14T19:05:22.155358Z",
          "shell.execute_reply": "2022-09-14T19:05:22.154470Z"
        },
        "id": "8bdb048c",
        "papermill": {
          "duration": 0.033586,
          "end_time": "2022-09-14T19:05:22.157378",
          "exception": false,
          "start_time": "2022-09-14T19:05:22.123792",
          "status": "completed"
        },
        "tags": []
      },
      "outputs": [],
      "source": [
        "import random\n",
        "random.shuffle(imgIdss)\n"
      ]
    },
    {
      "cell_type": "code",
      "execution_count": null,
      "id": "88480a53",
      "metadata": {
        "execution": {
          "iopub.execute_input": "2022-09-14T19:05:22.195297Z",
          "iopub.status.busy": "2022-09-14T19:05:22.194404Z",
          "iopub.status.idle": "2022-09-14T19:05:30.756364Z",
          "shell.execute_reply": "2022-09-14T19:05:30.755032Z"
        },
        "id": "88480a53",
        "papermill": {
          "duration": 8.593243,
          "end_time": "2022-09-14T19:05:30.768465",
          "exception": false,
          "start_time": "2022-09-14T19:05:22.175222",
          "status": "completed"
        },
        "tags": []
      },
      "outputs": [],
      "source": [
        "# fig = plt.gcf()\n",
        "# fig.set_size_inches(16, 16)\n",
        "\n",
        "# next_pix = imgIdss\n",
        "# random.shuffle(next_pix)\n",
        "\n",
        "# for i, img_path in enumerate(next_pix[0:12]):\n",
        "    \n",
        "#     sp = plt.subplot(4, 4, i + 1)\n",
        "#     sp.axis('Off')\n",
        "\n",
        "#     img = coco.loadImgs(img_path)[0]\n",
        "#     I = io.imread(img['coco_url'])\n",
        "#     plt.imshow(I)\n",
        "\n",
        "# plt.show()"
      ]
    },
    {
      "cell_type": "markdown",
      "id": "4a2b8e01",
      "metadata": {
        "id": "4a2b8e01",
        "papermill": {
          "duration": 0.031055,
          "end_time": "2022-09-14T19:05:30.830176",
          "exception": false,
          "start_time": "2022-09-14T19:05:30.799121",
          "status": "completed"
        },
        "tags": []
      },
      "source": [
        "#### Load some of the random images with segmented objects inside them "
      ]
    },
    {
      "cell_type": "code",
      "execution_count": null,
      "id": "cbfb925c",
      "metadata": {
        "execution": {
          "iopub.execute_input": "2022-09-14T19:05:30.890857Z",
          "iopub.status.busy": "2022-09-14T19:05:30.890501Z",
          "iopub.status.idle": "2022-09-14T19:05:38.926849Z",
          "shell.execute_reply": "2022-09-14T19:05:38.925889Z"
        },
        "id": "cbfb925c",
        "papermill": {
          "duration": 8.078292,
          "end_time": "2022-09-14T19:05:38.937711",
          "exception": false,
          "start_time": "2022-09-14T19:05:30.859419",
          "status": "completed"
        },
        "tags": []
      },
      "outputs": [],
      "source": [
        "# fig = plt.gcf()\n",
        "# fig.set_size_inches(16, 16)\n",
        "\n",
        "# for i, img_path in enumerate(next_pix[0:12]):\n",
        "    \n",
        "#     sp = plt.subplot(4, 4, i + 1)\n",
        "#     sp.axis('Off')\n",
        "\n",
        "#     img = coco.loadImgs(img_path)[0]\n",
        "#     I = io.imread(img['coco_url'])\n",
        "#     plt.imshow(I)\n",
        "#     annIds = coco.getAnnIds(imgIds=img['id'], catIds=catIds, iscrowd=None)\n",
        "#     anns = coco.loadAnns(annIds)\n",
        "#     # print(anns)\n",
        "#     coco.showAnns(anns)\n",
        "    \n",
        "\n",
        "# plt.show()"
      ]
    },
    {
      "cell_type": "markdown",
      "id": "b71d50fe",
      "metadata": {
        "id": "b71d50fe",
        "papermill": {
          "duration": 0.042814,
          "end_time": "2022-09-14T19:05:39.024233",
          "exception": false,
          "start_time": "2022-09-14T19:05:38.981419",
          "status": "completed"
        },
        "tags": []
      },
      "source": [
        "#### Load images with keypoints objects"
      ]
    },
    {
      "cell_type": "code",
      "execution_count": null,
      "id": "dabc70db",
      "metadata": {
        "colab": {
          "base_uri": "https://localhost:8080/"
        },
        "execution": {
          "iopub.execute_input": "2022-09-14T19:05:39.109824Z",
          "iopub.status.busy": "2022-09-14T19:05:39.108792Z",
          "iopub.status.idle": "2022-09-14T19:05:48.983816Z",
          "shell.execute_reply": "2022-09-14T19:05:48.982417Z"
        },
        "id": "dabc70db",
        "outputId": "53cfdfb9-7c39-43dc-9040-da1719dd53ef",
        "papermill": {
          "duration": 9.921061,
          "end_time": "2022-09-14T19:05:48.986785",
          "exception": false,
          "start_time": "2022-09-14T19:05:39.065724",
          "status": "completed"
        },
        "tags": []
      },
      "outputs": [
        {
          "output_type": "stream",
          "name": "stdout",
          "text": [
            "loading annotations into memory...\n",
            "Done (t=10.82s)\n",
            "creating index...\n",
            "index created!\n"
          ]
        }
      ],
      "source": [
        "\n",
        "annFile = \"/content/drive/MyDrive/coco_dataset/coco_ann2017/annotations/person_keypoints_train2017.json\"\n",
        "coco_kps=COCO(annFile)"
      ]
    },
    {
      "cell_type": "code",
      "execution_count": null,
      "id": "84199d18",
      "metadata": {
        "execution": {
          "iopub.execute_input": "2022-09-14T19:05:49.071591Z",
          "iopub.status.busy": "2022-09-14T19:05:49.070801Z",
          "iopub.status.idle": "2022-09-14T19:05:58.033637Z",
          "shell.execute_reply": "2022-09-14T19:05:58.032564Z"
        },
        "id": "84199d18",
        "papermill": {
          "duration": 9.021985,
          "end_time": "2022-09-14T19:05:58.050188",
          "exception": false,
          "start_time": "2022-09-14T19:05:49.028203",
          "status": "completed"
        },
        "tags": []
      },
      "outputs": [],
      "source": [
        "# fig = plt.gcf()\n",
        "# fig.set_size_inches(16, 16)\n",
        "\n",
        "# for i, img_path in enumerate(next_pix[0:12]):\n",
        "    \n",
        "#     sp = plt.subplot(4, 4, i + 1)\n",
        "#     sp.axis('Off')\n",
        "\n",
        "#     img = coco.loadImgs(img_path)[0]\n",
        "#     I = io.imread(img['coco_url'])\n",
        "#     plt.imshow(I)\n",
        "#     annIds = coco_kps.getAnnIds(imgIds=img['id'], catIds=catIds, iscrowd=None)\n",
        "#     anns = coco_kps.loadAnns(annIds)\n",
        "#     coco_kps.showAnns(anns)\n",
        "    \n",
        "\n",
        "# plt.show()"
      ]
    },
    {
      "cell_type": "markdown",
      "id": "be05e34c",
      "metadata": {
        "id": "be05e34c",
        "papermill": {
          "duration": 0.086323,
          "end_time": "2022-09-14T19:05:58.226318",
          "exception": false,
          "start_time": "2022-09-14T19:05:58.139995",
          "status": "completed"
        },
        "tags": []
      },
      "source": [
        "#### Load images with respective captions"
      ]
    },
    {
      "cell_type": "code",
      "execution_count": null,
      "id": "32be9b50",
      "metadata": {
        "colab": {
          "base_uri": "https://localhost:8080/"
        },
        "execution": {
          "iopub.execute_input": "2022-09-14T19:05:58.396664Z",
          "iopub.status.busy": "2022-09-14T19:05:58.395464Z",
          "iopub.status.idle": "2022-09-14T19:06:00.432181Z",
          "shell.execute_reply": "2022-09-14T19:06:00.430972Z"
        },
        "id": "32be9b50",
        "outputId": "cb0216f4-957e-440a-ab76-1b00f413ed63",
        "papermill": {
          "duration": 2.124052,
          "end_time": "2022-09-14T19:06:00.434831",
          "exception": false,
          "start_time": "2022-09-14T19:05:58.310779",
          "status": "completed"
        },
        "tags": []
      },
      "outputs": [
        {
          "output_type": "stream",
          "name": "stdout",
          "text": [
            "loading annotations into memory...\n",
            "Done (t=2.48s)\n",
            "creating index...\n",
            "index created!\n"
          ]
        }
      ],
      "source": [
        "annFile = \"/content/drive/MyDrive/coco_dataset/coco_ann2017/annotations/captions_train2017.json\"\n",
        "coco_caps=COCO(annFile)"
      ]
    },
    {
      "cell_type": "code",
      "execution_count": null,
      "id": "5eecd39a",
      "metadata": {
        "execution": {
          "iopub.execute_input": "2022-09-14T19:06:00.544543Z",
          "iopub.status.busy": "2022-09-14T19:06:00.544179Z",
          "iopub.status.idle": "2022-09-14T19:06:01.480549Z",
          "shell.execute_reply": "2022-09-14T19:06:01.479728Z"
        },
        "id": "5eecd39a",
        "papermill": {
          "duration": 0.997897,
          "end_time": "2022-09-14T19:06:01.485686",
          "exception": false,
          "start_time": "2022-09-14T19:06:00.487789",
          "status": "completed"
        },
        "tags": []
      },
      "outputs": [],
      "source": [
        "# img = coco.loadImgs(next_pix[0])[0]\n",
        "# I = io.imread(img['coco_url'])\n",
        "# plt.imshow(I)\n",
        "# annIds = coco_caps.getAnnIds(imgIds=img['id']);\n",
        "# anns = coco_caps.loadAnns(annIds)\n",
        "# coco_caps.showAnns(anns)\n",
        "# plt.show()"
      ]
    },
    {
      "cell_type": "code",
      "execution_count": null,
      "id": "7397b811",
      "metadata": {
        "execution": {
          "iopub.execute_input": "2022-09-14T19:06:01.610199Z",
          "iopub.status.busy": "2022-09-14T19:06:01.609221Z",
          "iopub.status.idle": "2022-09-14T19:06:02.534682Z",
          "shell.execute_reply": "2022-09-14T19:06:02.533784Z"
        },
        "id": "7397b811",
        "papermill": {
          "duration": 0.992641,
          "end_time": "2022-09-14T19:06:02.540678",
          "exception": false,
          "start_time": "2022-09-14T19:06:01.548037",
          "status": "completed"
        },
        "tags": []
      },
      "outputs": [],
      "source": [
        "# img = coco.loadImgs(next_pix[1])[0]\n",
        "# I = io.imread(img['coco_url'])\n",
        "# plt.imshow(I)\n",
        "# annIds = coco_caps.getAnnIds(imgIds=img['id']);\n",
        "# anns = coco_caps.loadAnns(annIds)\n",
        "# coco_caps.showAnns(anns)\n",
        "# plt.show()"
      ]
    },
    {
      "cell_type": "code",
      "execution_count": null,
      "id": "c850165e",
      "metadata": {
        "execution": {
          "iopub.execute_input": "2022-09-14T19:06:02.675839Z",
          "iopub.status.busy": "2022-09-14T19:06:02.675373Z",
          "iopub.status.idle": "2022-09-14T19:06:03.584394Z",
          "shell.execute_reply": "2022-09-14T19:06:03.583566Z"
        },
        "id": "c850165e",
        "papermill": {
          "duration": 0.982826,
          "end_time": "2022-09-14T19:06:03.591612",
          "exception": false,
          "start_time": "2022-09-14T19:06:02.608786",
          "status": "completed"
        },
        "tags": []
      },
      "outputs": [],
      "source": [
        "# img = coco.loadImgs(next_pix[10])[0]\n",
        "# I = io.imread(img['coco_url'])\n",
        "# plt.imshow(I)\n",
        "# annIds = coco_caps.getAnnIds(imgIds=img['id']);\n",
        "# anns = coco_caps.loadAnns(annIds)\n",
        "# coco_caps.showAnns(anns)\n",
        "# plt.show()"
      ]
    },
    {
      "cell_type": "markdown",
      "id": "fec0cfe4",
      "metadata": {
        "id": "fec0cfe4",
        "papermill": {
          "duration": 0.078955,
          "end_time": "2022-09-14T19:06:03.746872",
          "exception": false,
          "start_time": "2022-09-14T19:06:03.667917",
          "status": "completed"
        },
        "tags": []
      },
      "source": [
        "# Image caption generator\n",
        "#### Here I have taken \"Bicycle\" and \"Airplane\" images and captions only.\n"
      ]
    },
    {
      "cell_type": "code",
      "execution_count": null,
      "id": "ff27d24a",
      "metadata": {
        "colab": {
          "base_uri": "https://localhost:8080/"
        },
        "execution": {
          "iopub.execute_input": "2022-09-14T19:06:03.890956Z",
          "iopub.status.busy": "2022-09-14T19:06:03.890588Z",
          "iopub.status.idle": "2022-09-14T19:06:03.895784Z",
          "shell.execute_reply": "2022-09-14T19:06:03.894824Z"
        },
        "id": "ff27d24a",
        "outputId": "29564b02-43d2-49c4-bd89-8563e3ba80dd",
        "papermill": {
          "duration": 0.081488,
          "end_time": "2022-09-14T19:06:03.898292",
          "exception": false,
          "start_time": "2022-09-14T19:06:03.816804",
          "status": "completed"
        },
        "tags": []
      },
      "outputs": [
        {
          "output_type": "stream",
          "name": "stdout",
          "text": [
            "Total images for training:  9563\n"
          ]
        }
      ],
      "source": [
        "print(\"Total images for training: \", len(imgIdss))"
      ]
    },
    {
      "cell_type": "markdown",
      "id": "431ab1d5",
      "metadata": {
        "id": "431ab1d5",
        "papermill": {
          "duration": 0.071474,
          "end_time": "2022-09-14T19:06:04.040306",
          "exception": false,
          "start_time": "2022-09-14T19:06:03.968832",
          "status": "completed"
        },
        "tags": []
      },
      "source": [
        "# Prepare Dataset \n",
        "\n",
        "#### Group all captions together having the same image and store them in dict."
      ]
    },
    {
      "cell_type": "code",
      "execution_count": null,
      "id": "675c50ce",
      "metadata": {
        "colab": {
          "base_uri": "https://localhost:8080/"
        },
        "execution": {
          "iopub.execute_input": "2022-09-14T19:06:04.187040Z",
          "iopub.status.busy": "2022-09-14T19:06:04.186441Z",
          "iopub.status.idle": "2022-09-14T19:06:04.623818Z",
          "shell.execute_reply": "2022-09-14T19:06:04.621879Z"
        },
        "id": "675c50ce",
        "outputId": "2ff3bb3e-bb96-42f9-e8ea-cc5e5ffc9481",
        "papermill": {
          "duration": 0.514444,
          "end_time": "2022-09-14T19:06:04.626861",
          "exception": false,
          "start_time": "2022-09-14T19:06:04.112417",
          "status": "completed"
        },
        "tags": []
      },
      "outputs": [
        {
          "output_type": "stream",
          "name": "stdout",
          "text": [
            "Length of Dataset:  9446\n",
            "type of Dataset:  <class 'dict'>\n"
          ]
        }
      ],
      "source": [
        "dataset = dict()\n",
        "imgcaptions = []\n",
        "\n",
        "for imgid in imgIdss:\n",
        "    img = coco.loadImgs(imgid)[0]\n",
        "    annIds = coco_caps.getAnnIds(imgIds=img['id']);\n",
        "    anns = coco_caps.loadAnns(annIds)\n",
        "    imgcaptions = []\n",
        "    for cap in anns:\n",
        "        \n",
        "        # Remove punctuation\n",
        "        cap = cap['caption'].translate(str.maketrans('', '', string.punctuation))\n",
        "        \n",
        "        # Replace - to blank\n",
        "        cap = cap.replace(\"-\",\" \")\n",
        "        \n",
        "        # Split string into word list and Convert each word into lower case\n",
        "        cap = cap.split()\n",
        "        cap = [word.lower() for word in cap]\n",
        "        \n",
        "        # join word list into sentence and <start> and <end> tag to each sentence which helps \n",
        "        # LSTM encoder-decoder model while training.\n",
        "        \n",
        "        cap = '<start> ' + \" \".join(cap) + ' <end>'\n",
        "        imgcaptions.append(cap)\n",
        "        \n",
        "    dataset[img['coco_url']] = imgcaptions \n",
        "    \n",
        "print(\"Length of Dataset: \",len(dataset))\n",
        "# print(dataset['http://images.cocodataset.org/train2017/000000047084.jpg'])\n",
        "#dataset\n",
        "\n",
        "print(\"type of Dataset: \" ,type(dataset))\n",
        "\n"
      ]
    },
    {
      "cell_type": "code",
      "execution_count": null,
      "id": "621Vpy2_MIGo",
      "metadata": {
        "id": "621Vpy2_MIGo"
      },
      "outputs": [],
      "source": [
        "import itertools\n",
        "\n",
        "\n",
        "# 임시 : sample은 개수\n",
        "\n",
        "SAMPLE_NUM=10\n",
        "testsample_dict= dict(itertools.islice(dataset.items(), SAMPLE_NUM))\n",
        "\n",
        "\n",
        "\n"
      ]
    },
    {
      "cell_type": "markdown",
      "id": "d5340e16",
      "metadata": {
        "id": "d5340e16",
        "papermill": {
          "duration": 0.070949,
          "end_time": "2022-09-14T19:06:04.768885",
          "exception": false,
          "start_time": "2022-09-14T19:06:04.697936",
          "status": "completed"
        },
        "tags": []
      },
      "source": [
        "# Preprocess and tokenize the captions"
      ]
    },
    {
      "cell_type": "code",
      "execution_count": null,
      "id": "33e9dbc7",
      "metadata": {
        "execution": {
          "iopub.execute_input": "2022-09-14T19:06:04.916084Z",
          "iopub.status.busy": "2022-09-14T19:06:04.915538Z",
          "iopub.status.idle": "2022-09-14T19:06:05.649909Z",
          "shell.execute_reply": "2022-09-14T19:06:05.647472Z"
        },
        "id": "33e9dbc7",
        "papermill": {
          "duration": 0.811025,
          "end_time": "2022-09-14T19:06:05.652869",
          "exception": false,
          "start_time": "2022-09-14T19:06:04.841844",
          "status": "completed"
        },
        "tags": []
      },
      "outputs": [],
      "source": [
        "from itertools import chain\n",
        "\n",
        "def tokenize_mycaption(dataset, total_words=0):\n",
        "  \n",
        "  flatten_list = list(chain.from_iterable(dataset.values())) #[[1,3],[4,8]] = [1,3,4,8]\n",
        "\n",
        "  tokenizer = Tokenizer(oov_token='<oov>') # For those words which are not found in word_index\n",
        "  tokenizer.fit_on_texts(flatten_list)\n",
        "  total_words = len(tokenizer.word_index) + 1\n",
        "\n",
        "  print(\"Vocabulary length: \", total_words)\n",
        "  # print(\"Bicycle ID: \", tokenizer.word_index['bicycle'])\n",
        "  # print(\"Airplane ID: \", tokenizer.word_index['airplane'])\n",
        "  print(list(tokenizer.word_index.keys())[:10])\n",
        "  return tokenizer, total_words\n"
      ]
    },
    {
      "cell_type": "code",
      "execution_count": null,
      "id": "ibtk06mRkEqR",
      "metadata": {
        "colab": {
          "base_uri": "https://localhost:8080/"
        },
        "id": "ibtk06mRkEqR",
        "outputId": "68ccfc96-118a-42ba-dc67-0011d6407047"
      },
      "outputs": [
        {
          "output_type": "stream",
          "name": "stdout",
          "text": [
            "Vocabulary length:  6429\n",
            "['<oov>', 'a', 'end', 'start', 'on', 'the', 'in', 'man', 'tennis', 'of']\n",
            "sample:\n",
            "Vocabulary length:  171\n",
            "['<oov>', 'a', 'start', 'end', 'on', 'the', 'tennis', 'of', 'is', 'dog']\n"
          ]
        }
      ],
      "source": [
        "\n",
        "import csv\n",
        "with open('/content/drive/MyDrive/3조/donut_token', 'r') as f:\n",
        "    csv_reader = csv.reader(f)\n",
        "    for line in csv_reader:\n",
        "     flatten_list =  line\n",
        "\n",
        "with open('/content/drive/MyDrive/3조/dataset', 'r') as f2:\n",
        "    csv_reader = csv.reader(f2)\n",
        "    for line in csv_reader:\n",
        "     dataset =  dataset\n",
        "\n",
        "\n",
        "# tokenizer = Tokenizer(oov_token='<oov>') # For those words which are not found in word_index\n",
        "# tokenizer.fit_on_texts(flatten_list)\n",
        "# total_words = len(tokenizer.word_index) + 1\n",
        "\n",
        "tokenizer, total_words= tokenize_mycaption(dataset)\n",
        "print(\"sample:\")\n",
        "sample_tokenizer , sample_total_words = tokenize_mycaption(testsample_dict)\n"
      ]
    },
    {
      "cell_type": "code",
      "execution_count": null,
      "id": "Ues5nDPSWC9c",
      "metadata": {
        "colab": {
          "base_uri": "https://localhost:8080/"
        },
        "id": "Ues5nDPSWC9c",
        "outputId": "86855bdc-119f-4046-f8ba-287ceb71de22"
      },
      "outputs": [
        {
          "output_type": "stream",
          "name": "stdout",
          "text": [
            "6429\n",
            "{'<oov>': 1, 'a': 2, 'end': 3, 'start': 4, 'on': 5, 'the': 6, 'in': 7, 'man': 8, 'tennis': 9, 'of': 10, 'skateboard': 11, 'with': 12, 'is': 13, 'ball': 14, 'and': 15, 'to': 16, 'dog': 17, 'baseball': 18, 'at': 19, 'player': 20, 'his': 21, 'playing': 22, 'young': 23, 'riding': 24, 'person': 25, 'woman': 26, 'boy': 27, 'people': 28, 'skate': 29, 'court': 30, 'holding': 31, 'two': 32, 'soccer': 33, 'standing': 34, 'game': 35, 'field': 36, 'are': 37, 'trick': 38, 'skateboarder': 39, 'down': 40, 'doing': 41, 'while': 42, 'racket': 43, 'air': 44, 'board': 45, 'park': 46, 'an': 47, 'group': 48, 'sitting': 49, 'bat': 50, 'ramp': 51, 'street': 52, 'hit': 53, 'white': 54, 'up': 55, 'that': 56, 'swinging': 57, 'next': 58, 'men': 59, 'jumping': 60, 'black': 61, 'racquet': 62, 'her': 63, 'top': 64, 'skateboarding': 65, 'hitting': 66, 'girl': 67, 'as': 68, 'some': 69, 'small': 70, 'wearing': 71, 'front': 72, 'shirt': 73, 'players': 74, 'during': 75, 'near': 76, 'walking': 77, 'dogs': 78, 'over': 79, 'for': 80, 'little': 81, 'by': 82, 'ready': 83, 'skateboards': 84, 'their': 85, 'beach': 86, 'guy': 87, 'frisbee': 88, 'tricks': 89, 'batter': 90, 'throwing': 91, 'there': 92, 'side': 93, 'child': 94, 'male': 95, 'red': 96, 'about': 97, 'watching': 98, 'blue': 99, 'couple': 100, 'swing': 101, 'performing': 102, 'one': 103, 'sidewalk': 104, 'through': 105, 'pitcher': 106, 'other': 107, 'bench': 108, 'has': 109, 'boys': 110, 'around': 111, 'children': 112, 'getting': 113, 'out': 114, 'three': 115, 'large': 116, 'pitch': 117, 'flying': 118, 'hand': 119, 'back': 120, 'off': 121, 'road': 122, 'from': 123, 'outside': 124, 'grass': 125, 'it': 126, 'looking': 127, 'crowd': 128, 'picture': 129, 'another': 130, 'match': 131, 'green': 132, 'kids': 133, 'him': 134, 'play': 135, 'serve': 136, 'behind': 137, 'kid': 138, 'skating': 139, 'rail': 140, 'brown': 141, 'several': 142, 'rides': 143, 'laying': 144, 'women': 145, 'who': 146, 'running': 147, 'into': 148, 'female': 149, 'stands': 150, 'its': 151, 'city': 152, 'photo': 153, 'water': 154, 'catcher': 155, 'taking': 156, 'watch': 157, 'plate': 158, 'wall': 159, 'helmet': 160, 'he': 161, 'jump': 162, 'ground': 163, 'couch': 164, 'swings': 165, 'trying': 166, 'going': 167, 'being': 168, 'does': 169, 'base': 170, 'area': 171, 'hat': 172, 'image': 173, 'this': 174, 'holds': 175, 'kicking': 176, 'bed': 177, 'prepares': 178, 'building': 179, 'home': 180, 'uniform': 181, 'car': 182, 'concrete': 183, 'preparing': 184, 'skateboarders': 185, 'lady': 186, 'girls': 187, 'room': 188, 'jumps': 189, 'catch': 190, 'yellow': 191, 'professional': 192, 'together': 193, 'throw': 194, 'lot': 195, 'middle': 196, 'high': 197, 'mid': 198, 'sits': 199, 'boat': 200, 'table': 201, 'watches': 202, 'across': 203, 'leash': 204, 'along': 205, 'bike': 206, 'each': 207, 'head': 208, 'shorts': 209, 'cement': 210, 'towards': 211, 'pitching': 212, 'horse': 213, 'parking': 214, 'boarder': 215, 'performs': 216, 'snow': 217, 'action': 218, 'balls': 219, 'wooden': 220, 'rackets': 221, 'stand': 222, 'mound': 223, 'hits': 224, 'after': 225, 'steps': 226, 'floor': 227, 'many': 228, 'looks': 229, 'kite': 230, 'edge': 231, 'sheep': 232, 'stairs': 233, 'team': 234, 'someone': 235, 'practicing': 236, 'basketball': 237, 'background': 238, 'day': 239, 'motorcycle': 240, 'four': 241, 'umpire': 242, 'feet': 243, 'stunt': 244, 'under': 245, 'fence': 246, 'just': 247, 'very': 248, 'net': 249, 'pipe': 250, 'hands': 251, 'kick': 252, 'them': 253, 'night': 254, 'others': 255, 'catching': 256, 'serving': 257, 'view': 258, 'dirt': 259, 'old': 260, 'surfboard': 261, 'boarding': 262, 'cat': 263, 'guys': 264, 'posing': 265, 'glove': 266, 'against': 267, 'window': 268, 'boards': 269, 'shot': 270, 'mouth': 271, 'orange': 272, 'half': 273, 'inside': 274, 'throws': 275, 'open': 276, 'shoes': 277, 'living': 278, 'chair': 279, 'reaching': 280, 'bunch': 281, 'above': 282, 'ride': 283, 'dressed': 284, 'carrying': 285, 'kitchen': 286, 'railing': 287, 'waiting': 288, 'teams': 289, 'ledge': 290, 'gets': 291, 'pool': 292, 'truck': 293, 'bus': 294, 'using': 295, 'attempting': 296, 'close': 297, 'bowl': 298, 'grassy': 299, 'cones': 300, 'umbrella': 301, 'look': 302, 'beside': 303, 'onto': 304, 'laptop': 305, 'plays': 306, 'skater': 307, 'food': 308, 'walk': 309, 'photograph': 310, 'foot': 311, 'hill': 312, 'between': 313, 'do': 314, 'jacket': 315, 'pink': 316, 'return': 317, 'sit': 318, 'football': 319, 'spectators': 320, 'big': 321, 'walks': 322, 'parked': 323, 'lap': 324, 'batting': 325, 'arm': 326, 'bicycle': 327, 'mitt': 328, 'outdoor': 329, 'covered': 330, 'baby': 331, 'ocean': 332, 'long': 333, 'having': 334, 'smiling': 335, 'something': 336, 'empty': 337, 'horses': 338, 'set': 339, 'legs': 340, 'older': 341, 'toward': 342, 'she': 343, 'dress': 344, 'camera': 345, 'eating': 346, 'indoor': 347, 'lying': 348, 'softball': 349, 'talking': 350, 'jeans': 351, 'grinding': 352, 'brick': 353, 'graffiti': 354, 'mirror': 355, 'trees': 356, 'metal': 357, 'yard': 358, 'owner': 359, 'computer': 360, 'leaning': 361, 'clay': 362, 'takes': 363, 'shirtless': 364, 'kites': 365, 'face': 366, 'kneeling': 367, 'sand': 368, 'full': 369, 'midair': 370, 'gear': 371, 'cars': 372, 'all': 373, 'stadium': 374, 'cake': 375, 'phone': 376, 'be': 377, 'uniforms': 378, 'pavement': 379, 'sleeping': 380, 'puppy': 381, 'motion': 382, 'past': 383, 'pictures': 384, 'beautiful': 385, 'purple': 386, 'coming': 387, 'skis': 388, 'course': 389, 'surface': 390, 'outfit': 391, 'played': 392, 'path': 393, 'sky': 394, 'racquets': 395, 'few': 396, 'sliding': 397, 'elephant': 398, 'nearby': 399, 'different': 400, 'balancing': 401, 'sunny': 402, 'competition': 403, 'skatepark': 404, 'before': 405, 'reaches': 406, 'runs': 407, 'number': 408, 'doubles': 409, 'goal': 410, 'gray': 411, 'thrown': 412, 'slope': 413, 'time': 414, 'adult': 415, 'get': 416, 'basket': 417, 'league': 418, 'pants': 419, 'returning': 420, 'making': 421, 'backpack': 422, 'pair': 423, 'lays': 424, 'glasses': 425, 'persons': 426, 'chasing': 427, 'teenager': 428, 'petting': 429, 'tries': 430, 'hair': 431, 'busy': 432, 'shows': 433, 'grey': 434, 'skirt': 435, 'dark': 436, 'flip': 437, 'house': 438, 'television': 439, 'audience': 440, 'arms': 441, 'sign': 442, 'pulling': 443, 'stuffed': 444, 'traffic': 445, 'tv': 446, 'pads': 447, 'flipping': 448, 'animals': 449, 'fire': 450, 'progress': 451, 'low': 452, 'same': 453, 'volley': 454, 'line': 455, 'train': 456, 'fun': 457, 'cage': 458, 'surf': 459, 'toy': 460, 'tee': 461, 'ramps': 462, 'can': 463, 'go': 464, 'cap': 465, 'hanging': 466, 'jersey': 467, 'pitched': 468, 'onlookers': 469, 'curb': 470, 'they': 471, 'attempts': 472, 'adults': 473, 'both': 474, 'enjoying': 475, 'corner': 476, 'seat': 477, 'catches': 478, 'bag': 479, 'goes': 480, 'tree': 481, 'body': 482, 'practice': 483, 'pose': 484, 'herd': 485, 'paved': 486, 'box': 487, 'cute': 488, 'showing': 489, 'photos': 490, 'run': 491, 'make': 492, 'like': 493, 'knee': 494, 'have': 495, 'skates': 496, 'moving': 497, 'pitchers': 498, 'store': 499, 'cross': 500, 'block': 501, 'family': 502, 'buildings': 503, 'resting': 504, 'poses': 505, 'opponent': 506, 'rider': 507, 'volleyball': 508, 'wii': 509, 'leaping': 510, 'public': 511, 'hard': 512, 'pole': 513, 'skiing': 514, 'catchers': 515, 'suit': 516, 'how': 517, 'stunts': 518, 'walkway': 519, 'tall': 520, 'scene': 521, 'airborne': 522, 'aerial': 523, 'hydrant': 524, 'cell': 525, 'wheels': 526, 'take': 527, 'book': 528, 'mans': 529, 'tshirt': 530, 'plastic': 531, 'approaching': 532, 'sandy': 533, 'friends': 534, 'bikes': 535, 'images': 536, 'way': 537, 'scooter': 538, 'snowy': 539, 'animal': 540, 'swimming': 541, 'pizza': 542, 'sunglasses': 543, 'teenage': 544, 'outdoors': 545, 'event': 546, 'bottle': 547, 'hitter': 548, 'leaps': 549, 'goalie': 550, 'halfpipe': 551, 'bridge': 552, 'short': 553, 'fans': 554, 'desk': 555, 'crowded': 556, 'right': 557, 'pushing': 558, 'elephants': 559, 'where': 560, 'sports': 561, 'fly': 562, 'balances': 563, 'boats': 564, 'various': 565, 'toddler': 566, 'lake': 567, 'strike': 568, 'gathered': 569, 'cows': 570, 'stone': 571, 'hold': 572, 'video': 573, 'wood': 574, 'show': 575, 'leg': 576, 'fenced': 577, 'urban': 578, 'obstacle': 579, 'sun': 580, 'seen': 581, 'sneakers': 582, 'reading': 583, 'bouncing': 584, 'was': 585, 'first': 586, 'winding': 587, 'incoming': 588, 'no': 589, 'light': 590, 'intersection': 591, 'waits': 592, 'teen': 593, 'chairs': 594, 'serves': 595, 'setting': 596, 'or': 597, 'filled': 598, 'youth': 599, 'tossing': 600, 'surfboards': 601, 'grinds': 602, 'garage': 603, 'coach': 604, 'safety': 605, 'shown': 606, 'position': 607, 'cart': 608, 'flight': 609, 'piece': 610, 'himself': 611, 'driving': 612, 'colorful': 613, 'moves': 614, 'someones': 615, 'falling': 616, 'platform': 617, 'taken': 618, 'stretching': 619, 'surrounded': 620, 'remote': 621, 'process': 622, 'river': 623, 'putting': 624, 'reach': 625, 'returns': 626, 'traveling': 627, 'clothes': 628, 'umbrellas': 629, 'country': 630, 'vintage': 631, 'perform': 632, 'diamond': 633, 'herding': 634, 'costume': 635, 'away': 636, 'rain': 637, 'kicks': 638, 'pug': 639, 'blanket': 640, 'crossing': 641, 'counter': 642, 'helmets': 643, 'stop': 644, 'opposing': 645, 'rolling': 646, 'flips': 647, 'shirts': 648, 'runner': 649, 'drinking': 650, 'pretty': 651, 'flies': 652, 'carriage': 653, 'pulled': 654, 'frisbees': 655, 'object': 656, 'backhand': 657, 'double': 658, 'makes': 659, 'not': 660, 'stair': 661, 'bicycles': 662, 'lots': 663, 'forward': 664, 'blurry': 665, 'teenagers': 666, 'boarders': 667, 'without': 668, 'distance': 669, 'birthday': 670, 'door': 671, 'teeth': 672, 'leans': 673, 'paddle': 674, 'engaged': 675, 'underneath': 676, 'skills': 677, 'wears': 678, 'following': 679, 'bending': 680, 'caught': 681, 'backyard': 682, 'pet': 683, 'vehicle': 684, 'sofa': 685, 'courts': 686, 'control': 687, 'competing': 688, 'statue': 689, 'lush': 690, 'striped': 691, 'shop': 692, 'wet': 693, 'bleachers': 694, 'referee': 695, 'held': 696, 'rugby': 697, 'seated': 698, 'bottom': 699, 'winds': 700, 'shore': 701, 'upside': 702, 'rim': 703, 'place': 704, 'suitcase': 705, 'shoe': 706, 'lawn': 707, 'motor': 708, 'striking': 709, 'indoors': 710, 'shots': 711, 'town': 712, 'cloudy': 713, 'touching': 714, 'five': 715, 'multiple': 716, 'attached': 717, 'display': 718, 'lined': 719, 'turn': 720, 'slide': 721, 'plaid': 722, 'step': 723, 'picnic': 724, 'learning': 725, 'asphalt': 726, 'approaches': 727, 'glass': 728, 'equipment': 729, 'snowboard': 730, 'stick': 731, 'giving': 732, 'adorable': 733, 'disc': 734, 'individual': 735, 'wheelchair': 736, 'school': 737, 'cow': 738, 'tball': 739, 'trail': 740, 'swung': 741, 'atop': 742, 'bear': 743, 'luggage': 744, 'polo': 745, 'pull': 746, 'benches': 747, 'feeding': 748, 'structure': 749, 'pitches': 750, 'uses': 751, 'left': 752, 'smiles': 753, 'sweater': 754, 'ski': 755, 'relaxing': 756, 'sticking': 757, 'fast': 758, 'toys': 759, 'cone': 760, 'also': 761, 'blonde': 762, 'tie': 763, 'part': 764, 'ladies': 765, 'mountain': 766, 'steep': 767, 'move': 768, 'screen': 769, 'colored': 770, 'hugging': 771, 'square': 772, 'surfers': 773, 'carries': 774, 'friend': 775, 'womans': 776, 'misses': 777, 'forest': 778, 'contact': 779, 'sniffing': 780, 'balance': 781, 'guitar': 782, 'working': 783, 'which': 784, 'made': 785, 'compete': 786, 'grind': 787, 'reflection': 788, 'try': 789, 'golf': 790, 'woods': 791, 'fall': 792, 'opposite': 793, 'residential': 794, 'shaking': 795, 'leather': 796, 'cats': 797, 'wheel': 798, 'pack': 799, 'stretches': 800, 'outfield': 801, 'rear': 802, 'restaurant': 803, 'dock': 804, 'cattle': 805, 'giant': 806, 'tan': 807, 'grab': 808, 'pick': 809, 'males': 810, 'arena': 811, 'bananas': 812, 'skaters': 813, 'lights': 814, 'lies': 815, 'painted': 816, 'closeup': 817, 'motorcycles': 818, 'hot': 819, 'protective': 820, 'forehand': 821, 'games': 822, 'coffee': 823, 'shoulder': 824, 'appears': 825, 'gym': 826, 'huge': 827, 'slides': 828, 'bats': 829, 'lunges': 830, 'leading': 831, 'staring': 832, 'owners': 833, 'series': 834, 'handstand': 835, 'helping': 836, '2': 837, 'delivering': 838, 'passing': 839, 'crouching': 840, 'driveway': 841, 'squatting': 842, 'flat': 843, 'police': 844, 'riders': 845, 'clothing': 846, 'plaza': 847, 'pile': 848, 'cup': 849, 'drink': 850, 'raised': 851, 'see': 852, 'major': 853, 'alone': 854, 'tank': 855, 'track': 856, 'ridding': 857, 'dry': 858, 'row': 859, 'falls': 860, 'kind': 861, 'clear': 862, 'surfer': 863, 'chain': 864, 'bright': 865, 'knees': 866, 'elderly': 867, 'courtyard': 868, 'uniformed': 869, 'sport': 870, 'these': 871, 'sunset': 872, 'maneuver': 873, 'human': 874, 'drawn': 875, 'raquet': 876, 'poised': 877, 'sideways': 878, 'handed': 879, 'fighting': 880, 'stance': 881, 'racing': 882, 'photographs': 883, 'gloves': 884, 'so': 885, 'case': 886, 'if': 887, 'neighborhood': 888, 'bird': 889, 'deck': 890, 'tied': 891, 'foreground': 892, 'life': 893, 'pets': 894, 'teaching': 895, 'party': 896, 'vehicles': 897, 'athlete': 898, 'items': 899, 'shadow': 900, 'bearded': 901, 'skier': 902, 'wait': 903, 'tournament': 904, 'split': 905, 'handrail': 906, 'tent': 907, 'puppies': 908, 'good': 909, 'practices': 910, 'bulldog': 911, 'fishing': 912, 'preforming': 913, 'longboard': 914, 'stopped': 915, 'eye': 916, 'here': 917, 'gentleman': 918, 'comes': 919, 'pass': 920, 'roadway': 921, 'licking': 922, 'purse': 923, 'headphones': 924, 'roller': 925, 'race': 926, 'facing': 927, 'happy': 928, 'surfing': 929, 'keyboard': 930, 'pedestrians': 931, 'christmas': 932, 'hovers': 933, 'missed': 934, 'playground': 935, 'lip': 936, 'tongue': 937, 'stage': 938, 'waves': 939, 'dude': 940, 'stepping': 941, 'well': 942, 'use': 943, 'collar': 944, 'rink': 945, 'sink': 946, 'dalmatian': 947, 'baseman': 948, 'vest': 949, 'haired': 950, 'porch': 951, 'alongside': 952, 'dryer': 953, 'lapse': 954, 'stroller': 955, 'nice': 956, 'poles': 957, 'grabbing': 958, 'displaying': 959, 'husky': 960, 'shoulders': 961, 'office': 962, 'oncoming': 963, 'great': 964, 'attempt': 965, 'fountain': 966, 'lit': 967, 'leashes': 968, 'asian': 969, 'but': 970, 'land': 971, 'pit': 972, 'palm': 973, 'lunging': 974, 'pillow': 975, 'chase': 976, 'athletes': 977, 'rock': 978, 'i': 979, 'tosses': 980, 'painting': 981, 'trash': 982, 'passes': 983, 'jumped': 984, 'heading': 985, 'pier': 986, 'wide': 987, 'ping': 988, 'pong': 989, 'wagon': 990, 'deliver': 991, 'trucks': 992, 'bikini': 993, 'brushing': 994, 'athletic': 995, 'collage': 996, 'bent': 997, 'single': 998, 'pathway': 999, 'neck': 1000, 'son': 1001, 'patio': 1002, 'station': 1003, 'chewing': 1004, 'overhead': 1005, 'posed': 1006, 'mouse': 1007, 'third': 1008, 'warming': 1009, 'coat': 1010, 'controller': 1011, 'planter': 1012, 'snowboarder': 1013, 'asleep': 1014, 'passenger': 1015, 'canoe': 1016, 'sticks': 1017, 'flag': 1018, 'staircase': 1019, 'speed': 1020, 'bowling': 1021, 'follows': 1022, 'stares': 1023, 'crosswalk': 1024, 'picking': 1025, 'walls': 1026, 'barrier': 1027, 'threw': 1028, 'wear': 1029, 'golden': 1030, 'positions': 1031, 'far': 1032, 'readies': 1033, 'followed': 1034, 'link': 1035, 'barefoot': 1036, 'clock': 1037, 'bunt': 1038, 'books': 1039, 'kayak': 1040, 'balanced': 1041, 'floating': 1042, 'when': 1043, 'meal': 1044, 'passengers': 1045, 'teddy': 1046, 'poodle': 1047, 'pickup': 1048, 'second': 1049, 'outstretched': 1050, 'boardwalk': 1051, 'alley': 1052, 'break': 1053, 'post': 1054, 'bull': 1055, 'headed': 1056, 'tag': 1057, 'crouches': 1058, 'walked': 1059, 'rug': 1060, 'been': 1061, 'hoop': 1062, 'shaped': 1063, 'decorated': 1064, 'gathering': 1065, 'talks': 1066, 'ties': 1067, 't': 1068, 'treat': 1069, 'father': 1070, 'watched': 1071, 'incline': 1072, 'hoodie': 1073, 'crate': 1074, 'eyes': 1075, 'grabs': 1076, 'hats': 1077, 'direction': 1078, 'santa': 1079, 'crouched': 1080, 'horseback': 1081, 'pen': 1082, 'parents': 1083, 'towel': 1084, 'streets': 1085, 'market': 1086, 'wave': 1087, 'heads': 1088, 'batters': 1089, 'come': 1090, 'ollie': 1091, 'bounces': 1092, 'hangs': 1093, 'shake': 1094, 'blond': 1095, 'rolls': 1096, 'bath': 1097, 'what': 1098, 'dugout': 1099, 'extends': 1100, 'officer': 1101, 'raft': 1102, 'seats': 1103, 'center': 1104, 'rests': 1105, 'birds': 1106, 'photographed': 1107, 'brush': 1108, 'stretched': 1109, 'obstacles': 1110, 'blurred': 1111, 'individuals': 1112, 'retriever': 1113, 'starting': 1114, 'youths': 1115, 'had': 1116, 'lone': 1117, 'mother': 1118, 'among': 1119, 'trailer': 1120, 'rared': 1121, 'blow': 1122, 'doorway': 1123, 'skiers': 1124, 'trunk': 1125, 'backwards': 1126, 'new': 1127, 'difficult': 1128, 'space': 1129, 'downhill': 1130, 'slice': 1131, 'curvy': 1132, 'houses': 1133, 'almost': 1134, 'plates': 1135, 'chest': 1136, 'served': 1137, 'border': 1138, 'teens': 1139, 'wit': 1140, 'fruit': 1141, 'tables': 1142, 'checking': 1143, 'thats': 1144, 'missing': 1145, 'kneels': 1146, 'dropping': 1147, 's': 1148, 'stack': 1149, 'herself': 1150, 'cellphone': 1151, 'hind': 1152, 'refrigerator': 1153, 'shepherd': 1154, 'we': 1155, 'pulls': 1156, 'nose': 1157, 'blocking': 1158, 'seems': 1159, 'climbing': 1160, 'will': 1161, 'tube': 1162, 'gate': 1163, 'ship': 1164, 'squats': 1165, 'van': 1166, 'waters': 1167, 'boxes': 1168, 'us': 1169, 'enclosed': 1170, 'winter': 1171, 'fireplace': 1172, 'fashioned': 1173, 'listening': 1174, 'mountains': 1175, 'elbow': 1176, 'terrier': 1177, 'soft': 1178, 'mens': 1179, 'order': 1180, 'below': 1181, 'garden': 1182, 'leap': 1183, 'sleeps': 1184, 'bar': 1185, 'bags': 1186, 'extended': 1187, 'sides': 1188, 'identical': 1189, 'magazine': 1190, 'diving': 1191, 'writing': 1192, 'heels': 1193, 'round': 1194, 'banana': 1195, 'cowboy': 1196, 'drivers': 1197, 'farm': 1198, 'stairway': 1199, 'sexy': 1200, 'fight': 1201, 'fish': 1202, 'german': 1203, 'ice': 1204, 'art': 1205, 'pedestrian': 1206, 'donut': 1207, 'attire': 1208, 'shopping': 1209, 'competitive': 1210, 'wheelie': 1211, 'cooking': 1212, 'meter': 1213, 'harness': 1214, 'pro': 1215, 'dusk': 1216, 'signing': 1217, 'outfits': 1218, 'master': 1219, 'robot': 1220, 'sailing': 1221, 'furry': 1222, 'club': 1223, 'bunting': 1224, 'beneath': 1225, 'midswing': 1226, 'tower': 1227, 'overlooking': 1228, 'launching': 1229, 'chihuahua': 1230, 'paws': 1231, 'enjoy': 1232, 'boots': 1233, 'pushes': 1234, 'presents': 1235, 'raises': 1236, 'inflatable': 1237, 'toilet': 1238, 'turns': 1239, 'sporting': 1240, 'performed': 1241, 'rocks': 1242, 'drives': 1243, 'type': 1244, 'buses': 1245, 'sweatshirt': 1246, 'hang': 1247, 'cover': 1248, 'bald': 1249, 'handing': 1250, 'desert': 1251, 'slab': 1252, 'lab': 1253, 'chases': 1254, 'color': 1255, 'raising': 1256, 'sized': 1257, 'prepare': 1258, 'beer': 1259, 'stove': 1260, 'beard': 1261, 'things': 1262, 'curled': 1263, 'meet': 1264, 'dried': 1265, 'score': 1266, 'bends': 1267, 'antique': 1268, 'nun': 1269, 'gather': 1270, 'marina': 1271, 'rural': 1272, 'advertisement': 1273, 'underwear': 1274, 'kissing': 1275, 'wind': 1276, 'maneuvering': 1277, 'scarf': 1278, 'females': 1279, 'aiming': 1280, 'womens': 1281, 'narrow': 1282, 'curved': 1283, 'talk': 1284, 'warm': 1285, 'float': 1286, 'helmeted': 1287, 'interacting': 1288, 'hockey': 1289, 'eat': 1290, 'best': 1291, 'childrens': 1292, 'skateboarded': 1293, 'training': 1294, 'tattoo': 1295, 'homemade': 1296, 'bare': 1297, 'either': 1298, 'parade': 1299, 'caption': 1300, 'wire': 1301, 'hole': 1302, 'apartment': 1303, 'lane': 1304, 'flock': 1305, 'eats': 1306, 'herds': 1307, 'sheet': 1308, 'cut': 1309, 'doors': 1310, 'fuzzy': 1311, 'hillside': 1312, 'still': 1313, 'tagged': 1314, 'tricky': 1315, 'begging': 1316, 'tow': 1317, 'gap': 1318, 'rest': 1319, 'sidecar': 1320, 'opponents': 1321, 'lifting': 1322, 'overhand': 1323, 'lower': 1324, '3': 1325, 'dribbles': 1326, 'then': 1327, 'driver': 1328, 'mounted': 1329, 'connect': 1330, 'autographs': 1331, 'midst': 1332, 'biting': 1333, 'service': 1334, 'captured': 1335, 'excited': 1336, 'nintendo': 1337, 'six': 1338, 'conversation': 1339, 'dad': 1340, 'tail': 1341, 'trainer': 1342, 'flags': 1343, 'grazing': 1344, 'upright': 1345, 'releasing': 1346, 'flown': 1347, 'dining': 1348, 'tug': 1349, 'war': 1350, 'members': 1351, 'travels': 1352, 'displayed': 1353, 'deep': 1354, 'kitten': 1355, 'curve': 1356, 'dual': 1357, 'thing': 1358, 'greeting': 1359, 'organized': 1360, 'touches': 1361, 'bases': 1362, 'wheeled': 1363, 'laces': 1364, 'kickflip': 1365, 'including': 1366, 'prepared': 1367, 'maroon': 1368, 'lifts': 1369, 'siting': 1370, 'silver': 1371, 'daytime': 1372, 'neon': 1373, 'sculpture': 1374, 'barrel': 1375, 'trains': 1376, 'paper': 1377, 'style': 1378, 'airport': 1379, 'music': 1380, 'jerseys': 1381, 'cutting': 1382, 'leaves': 1383, 'hay': 1384, 'wooded': 1385, 'butt': 1386, 'blocks': 1387, 'puts': 1388, 'closely': 1389, 'fellow': 1390, 'shoreline': 1391, 'frames': 1392, 'giants': 1393, 'highway': 1394, 'floats': 1395, 'enclosure': 1396, 'reads': 1397, 'intently': 1398, 'checkered': 1399, 'itself': 1400, 'photographer': 1401, 'tilting': 1402, 'starts': 1403, 'pillows': 1404, 'farmer': 1405, 'contending': 1406, 'doughnut': 1407, 'kneepads': 1408, 'fallen': 1409, 'angle': 1410, 'separated': 1411, 'waving': 1412, 'mom': 1413, 'shaggy': 1414, 'flipped': 1415, 'awaiting': 1416, 'sets': 1417, 'keep': 1418, 'socks': 1419, 'dodgers': 1420, 'meeting': 1421, 'stomach': 1422, 'furniture': 1423, 'begins': 1424, 'elevated': 1425, 'circle': 1426, 'amongst': 1427, 'funny': 1428, 'ducks': 1429, 'turned': 1430, 'fur': 1431, 'skinny': 1432, 'business': 1433, 'tiny': 1434, 'opening': 1435, 'depicting': 1436, 'mini': 1437, 'lay': 1438, 'crosses': 1439, 'work': 1440, 'quickly': 1441, 'sidelines': 1442, 'turning': 1443, 'jackets': 1444, 'features': 1445, 'paw': 1446, 'laughing': 1447, 'towed': 1448, 'gymnasium': 1449, 'themselves': 1450, 'cigarette': 1451, 'featuring': 1452, 'tight': 1453, 'ha': 1454, 'suits': 1455, 'teenaged': 1456, 'transit': 1457, 'teammate': 1458, 'carrier': 1459, 'bite': 1460, 'extending': 1461, 'milk': 1462, 'biker': 1463, 'cool': 1464, 'american': 1465, 'pointing': 1466, 'docked': 1467, 'covering': 1468, 'band': 1469, 'only': 1470, 'calm': 1471, 'parrot': 1472, 'candle': 1473, 'sandwich': 1474, 'scattered': 1475, 'wine': 1476, 'weaving': 1477, 'tagging': 1478, 'fisheye': 1479, 'nighttime': 1480, 'waist': 1481, 'battle': 1482, 'too': 1483, 'vests': 1484, 'attractive': 1485, 'blackandwhite': 1486, 'outfielder': 1487, 'stopping': 1488, 'patiently': 1489, '4': 1490, 'controllers': 1491, 'awaits': 1492, 'daughter': 1493, 'cushion': 1494, 'coaches': 1495, 'hooded': 1496, 'self': 1497, 'backseat': 1498, 'tunnel': 1499, 'matching': 1500, 'carpet': 1501, 'beagle': 1502, 'empire': 1503, 'mixed': 1504, 'cast': 1505, 'phones': 1506, 'aged': 1507, 'construction': 1508, 'suburban': 1509, 'lunch': 1510, 'cafe': 1511, 'strikes': 1512, 'badminton': 1513, 'rollerblading': 1514, 'dresses': 1515, 'nap': 1516, 'silhouette': 1517, 'fluffy': 1518, 'moped': 1519, 'dribbling': 1520, 'closed': 1521, 'college': 1522, 'pushed': 1523, 'worn': 1524, 'spread': 1525, 'quiet': 1526, 'tray': 1527, 'bathing': 1528, 'couples': 1529, 'chocolate': 1530, 'evening': 1531, 'variety': 1532, 'gives': 1533, 'broom': 1534, 'am': 1535, 'weather': 1536, 'complex': 1537, 'shadows': 1538, 'visible': 1539, 'roof': 1540, 'childs': 1541, 'bandana': 1542, 'spray': 1543, 'shining': 1544, 'windows': 1545, 'level': 1546, 'boston': 1547, 'scooters': 1548, 'dachshund': 1549, 'pizzas': 1550, 'reflected': 1551, 'laptops': 1552, 'younger': 1553, 'motorcyclist': 1554, 'leads': 1555, 'placing': 1556, 'provide': 1557, 'grown': 1558, 'gold': 1559, 'intense': 1560, 'judge': 1561, 'dodge': 1562, 'escalator': 1563, 'fridge': 1564, 'broken': 1565, 'baseballs': 1566, 'skies': 1567, 'read': 1568, 'carrot': 1569, 'cages': 1570, 'cricket': 1571, 'sandals': 1572, 'recreational': 1573, 'dives': 1574, 'canal': 1575, 'couches': 1576, 'suitcases': 1577, 'works': 1578, 'hug': 1579, 'directions': 1580, 'oven': 1581, 'visor': 1582, 'celebrating': 1583, 'official': 1584, 'families': 1585, 'robotic': 1586, 'paddling': 1587, 'vertical': 1588, 'release': 1589, 'plants': 1590, 'most': 1591, 'groomed': 1592, 'carry': 1593, 'frisbe': 1594, 'smile': 1595, 'medium': 1596, 'muzzle': 1597, 'peeking': 1598, 'dalmation': 1599, 'beat': 1600, 'goats': 1601, 'trip': 1602, 'bank': 1603, 'else': 1604, 'learn': 1605, 'help': 1606, 'blown': 1607, 'mat': 1608, 'mitts': 1609, 'juggling': 1610, 'preparation': 1611, 'rack': 1612, 'upward': 1613, 'waterway': 1614, 'put': 1615, 'm': 1616, 'frame': 1617, 'local': 1618, 'casually': 1619, 'soccerball': 1620, 'rocky': 1621, 'interesting': 1622, 'expression': 1623, 'beginning': 1624, 'camping': 1625, 'guarding': 1626, 'teammates': 1627, 'drive': 1628, 'tile': 1629, 'groups': 1630, 'drawing': 1631, 'feeds': 1632, 'executes': 1633, 'smaller': 1634, 'rainbow': 1635, 'grooming': 1636, 'slightly': 1637, 'industrial': 1638, 'backdrop': 1639, 'rounding': 1640, 'performance': 1641, 'bit': 1642, 'finger': 1643, 'rubber': 1644, 'infant': 1645, 'speeds': 1646, 'might': 1647, 'propping': 1648, 'keeping': 1649, 'backs': 1650, 'miss': 1651, 'sail': 1652, 'vert': 1653, 'bedroom': 1654, 'monitor': 1655, 'ad': 1656, 'real': 1657, 'barricade': 1658, 'hills': 1659, 'crossed': 1660, 'duplicate': 1661, 'san': 1662, 'fetch': 1663, 'tattooed': 1664, 'doll': 1665, 'rackett': 1666, 'rails': 1667, 'serious': 1668, 'unable': 1669, 'collie': 1670, 'altered': 1671, 'suspended': 1672, 'observing': 1673, 'skill': 1674, 'tub': 1675, 'dinner': 1676, 'shelf': 1677, 'signs': 1678, 'positioned': 1679, 'wants': 1680, 'stairwell': 1681, 'executing': 1682, 'bricked': 1683, 'mask': 1684, 'losing': 1685, 'shade': 1686, 'skatboard': 1687, 'tops': 1688, 'amateur': 1689, 'vegetables': 1690, 'selling': 1691, 'lift': 1692, 'donuts': 1693, 'heavy': 1694, 'classic': 1695, 'bowls': 1696, 'machine': 1697, 'convertible': 1698, 'spectator': 1699, 'bun': 1700, 'signed': 1701, 'portrait': 1702, 'fell': 1703, 'soccor': 1704, 'shades': 1705, 'string': 1706, 'packed': 1707, 'skyline': 1708, 'peoples': 1709, 'than': 1710, 'naked': 1711, 'makeshift': 1712, 'strawberries': 1713, 'mount': 1714, 'snowboarding': 1715, 'croquet': 1716, 'officers': 1717, 'windup': 1718, 'maneuvers': 1719, 'ladder': 1720, 'goers': 1721, 'pirate': 1722, 'snack': 1723, 'candles': 1724, 'scratching': 1725, 'lounging': 1726, 'trailers': 1727, 'rusty': 1728, 'breaks': 1729, 'mlb': 1730, 'electric': 1731, 'brushed': 1732, 'swiftly': 1733, 'friendly': 1734, 'launch': 1735, 'thru': 1736, 'words': 1737, 'surrounding': 1738, 'handbag': 1739, 'giraffe': 1740, 'lens': 1741, 'lamp': 1742, 'brace': 1743, 'labrador': 1744, 'flowers': 1745, 'sailboat': 1746, 'motorbike': 1747, 'frozen': 1748, 'manual': 1749, 'caged': 1750, 'failing': 1751, 'quarter': 1752, 'ridden': 1753, 'warehouse': 1754, 'parallel': 1755, 'everyone': 1756, 'drying': 1757, 'carefully': 1758, 'dunking': 1759, 'skat': 1760, 'pointed': 1761, 'upwards': 1762, 'doesnt': 1763, 'silly': 1764, 'gliding': 1765, 'may': 1766, 'done': 1767, 'appear': 1768, 'camp': 1769, 'sleep': 1770, 'concentrates': 1771, 'military': 1772, 'remotes': 1773, 'moment': 1774, 'hoping': 1775, 'log': 1776, 'stream': 1777, 'fist': 1778, 'cluttered': 1779, 'washing': 1780, 'subway': 1781, 'ring': 1782, 'buggy': 1783, 'taxi': 1784, 'helps': 1785, 'gnar': 1786, 'lacrosse': 1787, 'sunlight': 1788, 'students': 1789, 'class': 1790, 'pops': 1791, 'ahead': 1792, 'sidebyside': 1793, 'monument': 1794, 'spots': 1795, 'jogging': 1796, 'jockey': 1797, 'puddle': 1798, 'begin': 1799, 'carnival': 1800, 'rowing': 1801, 'costumes': 1802, 'used': 1803, 'separate': 1804, 'cliff': 1805, 'sea': 1806, 'own': 1807, 'iron': 1808, 'session': 1809, 'strange': 1810, 'ripped': 1811, 'relaxes': 1812, 'pajamas': 1813, 'francisco': 1814, 'speeding': 1815, 'storefront': 1816, 'hall': 1817, 'pretending': 1818, 'you': 1819, 'smoking': 1820, 'barking': 1821, 'drinks': 1822, 'patch': 1823, 'sepia': 1824, 'follow': 1825, 'grafitti': 1826, 'more': 1827, 'lines': 1828, 'commercial': 1829, 'tracks': 1830, 'deserted': 1831, 'goofy': 1832, 'hike': 1833, 'places': 1834, 'cobblestone': 1835, 'strapped': 1836, 'power': 1837, 'spreads': 1838, 'ear': 1839, 'fancy': 1840, 'strong': 1841, 'abandoned': 1842, 'photoshopped': 1843, 'sheepdog': 1844, 'lamb': 1845, 'glides': 1846, 'instructing': 1847, 'bucket': 1848, 'mean': 1849, 'banner': 1850, 'cop': 1851, 'wedding': 1852, 'special': 1853, 'tour': 1854, 'grocery': 1855, 'sniffs': 1856, 'blankets': 1857, 'finishing': 1858, 'design': 1859, 'hose': 1860, 'firetruck': 1861, 'avoid': 1862, 'sails': 1863, 'paying': 1864, 'infield': 1865, 'pike': 1866, 'hes': 1867, 'state': 1868, 'pillars': 1869, 'branches': 1870, 'teaches': 1871, 'crouch': 1872, 'somebody': 1873, 'mascot': 1874, 'act': 1875, 'toss': 1876, 'casual': 1877, 'trio': 1878, 'mall': 1879, 'baord': 1880, 'concentrating': 1881, 'hood': 1882, 'injured': 1883, 'harbor': 1884, 'heard': 1885, 'skatebaord': 1886, 'facility': 1887, 'call': 1888, 'army': 1889, 'biking': 1890, 'hops': 1891, 'headband': 1892, 'cold': 1893, 'stylized': 1894, 'basebal': 1895, 'travel': 1896, 'filmed': 1897, 'star': 1898, 'aisle': 1899, 'trunks': 1900, 'completing': 1901, 'today': 1902, 'cycle': 1903, 'navigating': 1904, 'tooth': 1905, 'your': 1906, 'tiled': 1907, 'chased': 1908, 'containing': 1909, 'stretch': 1910, 'fastball': 1911, 'bushes': 1912, 'scenery': 1913, 'humans': 1914, 'whose': 1915, 'mates': 1916, 'gravel': 1917, 'letting': 1918, 'written': 1919, 'tethered': 1920, 'were': 1921, 'arriving': 1922, 'point': 1923, 'festival': 1924, 'minor': 1925, 'herded': 1926, 'sideline': 1927, 'relax': 1928, 'section': 1929, 'curving': 1930, 'nike': 1931, 'intensely': 1932, 'stores': 1933, 'possession': 1934, 'descend': 1935, 'foam': 1936, 'hunched': 1937, 'soldier': 1938, 'hey': 1939, 'ollies': 1940, 'brightly': 1941, 'spotted': 1942, 'unusual': 1943, 'leaguer': 1944, 'partially': 1945, 'rushing': 1946, 'bicyclists': 1947, 'motorized': 1948, 'vying': 1949, 'mate': 1950, 'dirty': 1951, 'overweight': 1952, 'pond': 1953, 'bow': 1954, 'carried': 1955, 'papers': 1956, 'stacked': 1957, 'orioles': 1958, 'could': 1959, 'dangerous': 1960, 'bush': 1961, 'defensive': 1962, 'sloped': 1963, 'coupe': 1964, 'safe': 1965, 'newspaper': 1966, 'gripping': 1967, 'waterfront': 1968, 'pup': 1969, 'objects': 1970, 'instrument': 1971, 'oversized': 1972, 'lighthouse': 1973, 'viewing': 1974, 'texting': 1975, 'weird': 1976, 'within': 1977, 'climb': 1978, 'greenery': 1979, 'onlooker': 1980, 'dragon': 1981, 'golfer': 1982, 'gifts': 1983, 'soda': 1984, 'bathroom': 1985, 'bin': 1986, 'embankment': 1987, 'much': 1988, 'propped': 1989, 'trophy': 1990, 'leaving': 1991, 'guiding': 1992, 'rainy': 1993, 'fit': 1994, 'disk': 1995, 'preforms': 1996, 'cartoon': 1997, 'touch': 1998, 'tying': 1999, 'filed': 2000, 'returned': 2001, 'mickey': 2002, 'backpacks': 2003, 'dancing': 2004, 'mill': 2005, 'tilted': 2006, 'says': 2007, 'crater': 2008, 'petted': 2009, 'destination': 2010, 'slam': 2011, 'oval': 2012, 'pomeranian': 2013, 'hiker': 2014, 'produce': 2015, 'university': 2016, 'tents': 2017, 'figures': 2018, 'beige': 2019, 'obama': 2020, 'faces': 2021, 'fed': 2022, 'push': 2023, 'poster': 2024, 'miniature': 2025, 'points': 2026, 'towing': 2027, 'rope': 2028, 'stuck': 2029, 'numerous': 2030, 'lounge': 2031, 'nine': 2032, 'fixing': 2033, 'reflecting': 2034, 'airplane': 2035, 'australian': 2036, 'motorboat': 2037, 'fan': 2038, 'smiley': 2039, 'accompanied': 2040, 'o': 2041, 'barely': 2042, 'films': 2043, 'filming': 2044, 'thin': 2045, 'form': 2046, 'overturned': 2047, 'hikers': 2048, 'lie': 2049, 'win': 2050, 'bottles': 2051, 'entering': 2052, 'stops': 2053, 'sort': 2054, 'onlooking': 2055, 'resort': 2056, 'partners': 2057, 'squatted': 2058, 'liberty': 2059, 'paddles': 2060, 'steel': 2061, 'plane': 2062, 'guide': 2063, 'marked': 2064, 'landing': 2065, 'shoot': 2066, 'packs': 2067, 'guards': 2068, 'church': 2069, 'even': 2070, 'converse': 2071, 'pasture': 2072, 'payer': 2073, 'highchair': 2074, 'kicked': 2075, 'cupcake': 2076, 'visiting': 2077, 'blacktop': 2078, 'frizbee': 2079, 'bone': 2080, 'sharing': 2081, 'dunk': 2082, 'turf': 2083, 'participating': 2084, 'tilts': 2085, 'slanted': 2086, 'afternoon': 2087, 'sled': 2088, 'launches': 2089, 'forth': 2090, 'now': 2091, 'tailgate': 2092, 'pop': 2093, 'grill': 2094, 'mannequin': 2095, 'gorilla': 2096, 'cream': 2097, 'cooler': 2098, 'turkey': 2099, 'ambulance': 2100, 'policeman': 2101, 'cuts': 2102, 'cleaning': 2103, 'important': 2104, 'ten': 2105, 'happily': 2106, 'live': 2107, 'multicolored': 2108, 'messing': 2109, 'toothbrush': 2110, 'ones': 2111, 'community': 2112, 'stroke': 2113, 'rows': 2114, 'hipster': 2115, 'react': 2116, 'boating': 2117, 'pylons': 2118, 'structures': 2119, 'pairs': 2120, 'mostly': 2121, 'zoo': 2122, 'tshirts': 2123, 'shiny': 2124, 'reflects': 2125, 'hardwood': 2126, 'midflight': 2127, 'eagerly': 2128, 'pause': 2129, 'bleacher': 2130, 'bicyclist': 2131, 'rearview': 2132, 'booth': 2133, 'roll': 2134, 'deciding': 2135, 'framed': 2136, 'bringing': 2137, 'marble': 2138, 'observes': 2139, 'ankles': 2140, 'slid': 2141, 'goalkeeper': 2142, 'competitors': 2143, 'judges': 2144, 'overpass': 2145, 'apparel': 2146, 'send': 2147, 'pan': 2148, 'parent': 2149, 'retrieving': 2150, 'races': 2151, 'age': 2152, 'got': 2153, 'rushes': 2154, 'partner': 2155, 'height': 2156, 'fouling': 2157, 'lakeside': 2158, 'fielder': 2159, 'ribbon': 2160, 'gentlemen': 2161, 'bullpen': 2162, 'steering': 2163, 'attention': 2164, 'toes': 2165, 'nest': 2166, 'exposure': 2167, 'distant': 2168, 'terrain': 2169, 'extreme': 2170, 'built': 2171, 'stall': 2172, 'tipping': 2173, 'underside': 2174, 'conversing': 2175, 'hurdle': 2176, 'populated': 2177, 'tricycle': 2178, 'lob': 2179, 'equipped': 2180, 'laundry': 2181, 'grasping': 2182, 'awkward': 2183, 'pad': 2184, 'focused': 2185, 'skillfully': 2186, 'shallow': 2187, 'recording': 2188, 'bricks': 2189, 'interact': 2190, 'crowds': 2191, 'given': 2192, 'smash': 2193, 'goggles': 2194, 'love': 2195, 'stuff': 2196, 'beanie': 2197, 'bites': 2198, 'me': 2199, 'driven': 2200, 'quite': 2201, 'impressive': 2202, 'dreadlocks': 2203, 'shredding': 2204, 'tourists': 2205, 'bigger': 2206, 'artistic': 2207, 'enthusiastic': 2208, 'railings': 2209, 'baseline': 2210, 'storm': 2211, 'sweat': 2212, 'straight': 2213, 'pauses': 2214, 'placed': 2215, 'rocking': 2216, 'advertising': 2217, 'prop': 2218, 'assorted': 2219, 'reacts': 2220, 'coats': 2221, 'drop': 2222, 'appearing': 2223, 'guard': 2224, 'cheering': 2225, 'sprints': 2226, 'loaded': 2227, 'fake': 2228, 'tea': 2229, 'heavily': 2230, 'circus': 2231, 'montage': 2232, 'clad': 2233, 'khaki': 2234, 'attacking': 2235, 'garbage': 2236, 'dumpster': 2237, 'booties': 2238, 'personnel': 2239, 'signal': 2240, 're': 2241, 'whom': 2242, 'classroom': 2243, 'strip': 2244, 'canyon': 2245, 'plater': 2246, 'cheek': 2247, 'snowboarders': 2248, 'sharp': 2249, 'snowboards': 2250, 'columns': 2251, 'rip': 2252, 'struggles': 2253, 'server': 2254, 'finished': 2255, 'somewhere': 2256, 'boxers': 2257, 'calling': 2258, 'surround': 2259, 'shape': 2260, 'flannel': 2261, 'stages': 2262, 'ma': 2263, 'mit': 2264, 'hound': 2265, 'graffitied': 2266, 'student': 2267, 'folding': 2268, 'vendor': 2269, 'hundreds': 2270, 'longboarder': 2271, 'foggy': 2272, 'graffiticovered': 2273, 'locker': 2274, 'herder': 2275, 'wiffle': 2276, 'seem': 2277, 'sparse': 2278, 'shepard': 2279, 'pictured': 2280, 'underway': 2281, 'hiking': 2282, 'ketchup': 2283, 'canvas': 2284, 'observe': 2285, 'besides': 2286, 'word': 2287, 'opened': 2288, 'forested': 2289, 'skatebord': 2290, 'decker': 2291, 'mets': 2292, 'wild': 2293, 'patrol': 2294, 'midjump': 2295, 'fox': 2296, 'downtown': 2297, 'occupied': 2298, 'forcefully': 2299, 'hopping': 2300, 'umpires': 2301, 'hotdogs': 2302, 'airborn': 2303, 'slow': 2304, 'african': 2305, 'sox': 2306, 'upon': 2307, 'blade': 2308, 'model': 2309, 'wrestles': 2310, 'ford': 2311, 'leashed': 2312, 'main': 2313, 'skaeboard': 2314, 'thumbs': 2315, 'snoozing': 2316, 'walkers': 2317, 'chin': 2318, 'platforms': 2319, 'really': 2320, 'homebase': 2321, 'cubicle': 2322, 'shops': 2323, 'sneaker': 2324, 'dish': 2325, 'homeless': 2326, 'soars': 2327, 'chatting': 2328, 'linked': 2329, 'details': 2330, 'warmly': 2331, 'eaten': 2332, 'enthusiast': 2333, 'artwork': 2334, 'bikers': 2335, 'tackled': 2336, 'aims': 2337, 'wilderness': 2338, 'ramping': 2339, 'possibly': 2340, 'bernard': 2341, 'department': 2342, 'unique': 2343, 'skyscrapers': 2344, 'manuever': 2345, 'n': 2346, 'soaring': 2347, 'raring': 2348, 'engage': 2349, 'includes': 2350, 'areas': 2351, 'dotted': 2352, 'receive': 2353, 'gloved': 2354, 'umping': 2355, 'keeps': 2356, 'swim': 2357, 'waling': 2358, 'struck': 2359, 'receives': 2360, 'crust': 2361, 'composite': 2362, 'seven': 2363, 'baggage': 2364, 'guides': 2365, 'sanding': 2366, 'inner': 2367, 'navy': 2368, 'rode': 2369, 'column': 2370, 'dont': 2371, 'demonstrating': 2372, 'landscape': 2373, 'vie': 2374, 'enter': 2375, 'mohawk': 2376, 'barefooted': 2377, 'soldiers': 2378, 'story': 2379, 'able': 2380, 'youngsters': 2381, 'wars': 2382, 'kits': 2383, 'straining': 2384, 'late': 2385, 'oxygen': 2386, 'figure': 2387, 'sweaty': 2388, 'valley': 2389, 'eight': 2390, 'complete': 2391, 'though': 2392, 'hotel': 2393, 'check': 2394, 'approach': 2395, 'indian': 2396, 'apples': 2397, 'picks': 2398, 'typing': 2399, 'harley': 2400, 'babies': 2401, 'connects': 2402, 'astro': 2403, 'blocked': 2404, 'cloth': 2405, 'bust': 2406, 'broke': 2407, 'splits': 2408, 'breaking': 2409, 'recliner': 2410, 'early': 2411, 'formal': 2412, 'theres': 2413, 'hugs': 2414, 'cardboard': 2415, 'plywood': 2416, 'divider': 2417, 'notebook': 2418, 'attending': 2419, 'gelato': 2420, 'coaching': 2421, 'deflated': 2422, 'splashing': 2423, 'rolled': 2424, 'receiving': 2425, 'residence': 2426, 'brought': 2427, 'awning': 2428, 'basement': 2429, 'twin': 2430, 'kayaks': 2431, 'horizontal': 2432, 'paid': 2433, 'cubs': 2434, 'money': 2435, 'partly': 2436, 'clouds': 2437, 'pokes': 2438, 'hip': 2439, 'skaterboarder': 2440, 'must': 2441, 'logo': 2442, 'rather': 2443, 'happening': 2444, 'cushions': 2445, 'directing': 2446, 'rancher': 2447, 'colorfully': 2448, 'crashing': 2449, 'padding': 2450, 'mesh': 2451, 'fitted': 2452, 'temporary': 2453, 'scoring': 2454, 'beam': 2455, 'strolling': 2456, 'travelling': 2457, 'participant': 2458, 'clutching': 2459, 'homeplate': 2460, 'grimacing': 2461, 'never': 2462, 'shes': 2463, 'groomer': 2464, 'seaside': 2465, 'entertaining': 2466, 'midstride': 2467, 'oakland': 2468, 'infront': 2469, 'actively': 2470, 'times': 2471, 'lounges': 2472, 'readying': 2473, 'wanting': 2474, 'drained': 2475, 'ridge': 2476, 'dropped': 2477, 'treats': 2478, 'member': 2479, 'mouths': 2480, 'los': 2481, 'angeles': 2482, 'fingers': 2483, 'facial': 2484, 'instead': 2485, 'swining': 2486, 'corgi': 2487, 'controlling': 2488, 'range': 2489, 'juggles': 2490, 'contest': 2491, 'para': 2492, 'records': 2493, 'filtered': 2494, 'straw': 2495, 'dogg': 2496, 'belongings': 2497, 'extra': 2498, 'washed': 2499, 'flops': 2500, 'baltimore': 2501, 'wrestling': 2502, 'mud': 2503, 'buttocks': 2504, 'ally': 2505, 'suspension': 2506, 'overlooks': 2507, 'nearing': 2508, 'horsedrawn': 2509, 'scramble': 2510, 'odd': 2511, 'strains': 2512, 'larger': 2513, 'grate': 2514, 'nears': 2515, 'navigates': 2516, 'finishes': 2517, 'floors': 2518, 'california': 2519, 'milking': 2520, 'feature': 2521, 'hunting': 2522, 'straddling': 2523, 'handle': 2524, 'took': 2525, 'ability': 2526, 'rodeo': 2527, 'sandwiches': 2528, 'chews': 2529, 'farmers': 2530, 'goat': 2531, 'print': 2532, 'factory': 2533, 'seashore': 2534, 'clowns': 2535, 'dim': 2536, 'embracing': 2537, 'collection': 2538, 'coke': 2539, 'basin': 2540, 'world': 2541, 'nerf': 2542, 'device': 2543, 'peak': 2544, 'sanctioned': 2545, 'grand': 2546, 'mariners': 2547, 'launched': 2548, 'spending': 2549, 'delivers': 2550, 'plank': 2551, 'pot': 2552, 'successful': 2553, 'alert': 2554, 'zooms': 2555, 'shift': 2556, 'cuddling': 2557, 'ballplayer': 2558, 'whole': 2559, 'twisting': 2560, 'silhouetted': 2561, 'plush': 2562, 'upper': 2563, 'released': 2564, 'focuses': 2565, 'offers': 2566, 'dolls': 2567, 'pieces': 2568, 'appreciating': 2569, 'looked': 2570, 'fame': 2571, 'hopefully': 2572, 'bay': 2573, 'western': 2574, 'ump': 2575, 'bbq': 2576, 'dead': 2577, 'hauling': 2578, 'finish': 2579, 'muddy': 2580, 'scoreboard': 2581, 'demonstration': 2582, 'tar': 2583, 'claycourt': 2584, 'displays': 2585, '7': 2586, 'tried': 2587, 'cyclists': 2588, 'commuter': 2589, 'admiring': 2590, 'spot': 2591, 'monochrome': 2592, 'misty': 2593, 'fog': 2594, 'amish': 2595, 'fruits': 2596, 'whites': 2597, 'downward': 2598, 'tucked': 2599, 'popping': 2600, 'reclining': 2601, 'becomes': 2602, 'stride': 2603, 'lead': 2604, 'dreads': 2605, 'european': 2606, 'brings': 2607, 'retrieves': 2608, 'cuddled': 2609, 'curly': 2610, 'spoon': 2611, 'lookers': 2612, 'surroundings': 2613, 'connecting': 2614, 'jean': 2615, 'latest': 2616, 'throughout': 2617, 'cresting': 2618, 'swats': 2619, 'snacks': 2620, 'sight': 2621, 'learns': 2622, 'card': 2623, 'village': 2624, 'shed': 2625, 'smoke': 2626, 'spraying': 2627, 'cheese': 2628, 'types': 2629, 'pregnant': 2630, 'keeper': 2631, 'ron': 2632, 'paul': 2633, 'site': 2634, 'sideview': 2635, 'sequence': 2636, 'crowding': 2637, 'climbs': 2638, 'rubbing': 2639, 'towels': 2640, '5': 2641, 'leaf': 2642, 'baggy': 2643, 'dodging': 2644, 'mothers': 2645, 'effort': 2646, 'connected': 2647, 'loop': 2648, 'capture': 2649, 'attempted': 2650, 'rescue': 2651, 'nearly': 2652, 'youngster': 2653, 'rising': 2654, 'parachute': 2655, 'shopped': 2656, 'modern': 2657, 'similar': 2658, 'heated': 2659, 'lunge': 2660, 'attended': 2661, 'hallway': 2662, 'circular': 2663, 'makeup': 2664, 'mural': 2665, 'poking': 2666, 'midleap': 2667, 'fresh': 2668, 'fencing': 2669, 'instructor': 2670, 'manhole': 2671, 'descending': 2672, 'lowers': 2673, 'peaceful': 2674, 'meat': 2675, 'bored': 2676, 'picked': 2677, 'torches': 2678, 'century': 2679, 'halfway': 2680, 'photographing': 2681, 'passed': 2682, 'possible': 2683, 'ther': 2684, 'multi': 2685, 'steet': 2686, 'captures': 2687, 'dump': 2688, 'successfully': 2689, 'fashion': 2690, 'carves': 2691, 'nutella': 2692, 'onward': 2693, 'playful': 2694, 'activities': 2695, 'stare': 2696, 'teeball': 2697, 'st': 2698, 'tossed': 2699, 'setup': 2700, 'bounds': 2701, 'dragging': 2702, 'siblings': 2703, 'wile': 2704, 'leisurely': 2705, '1': 2706, 'neat': 2707, 'massive': 2708, 'pingpong': 2709, 'item': 2710, 'sailboats': 2711, 'canopy': 2712, 'celebrates': 2713, 'discs': 2714, 'patterned': 2715, 'planes': 2716, 'morning': 2717, 'toddlers': 2718, 'fishermen': 2719, 'crash': 2720, 'penn': 2721, 'crown': 2722, 'checks': 2723, 'heeled': 2724, 'spinning': 2725, 'hotels': 2726, 'trouble': 2727, 'lambs': 2728, 'corral': 2729, '3d': 2730, 'tablet': 2731, 'breed': 2732, 'chow': 2733, 'descent': 2734, 'inspects': 2735, 'ladys': 2736, 'stake': 2737, 'sling': 2738, 'hung': 2739, 'tired': 2740, 'thee': 2741, 'arranged': 2742, 'bears': 2743, 'geese': 2744, 'aggressively': 2745, 'entrance': 2746, 'security': 2747, 'shaved': 2748, 'shirted': 2749, 'dishwasher': 2750, 'meadow': 2751, 'middleaged': 2752, 'pigeons': 2753, 'perspective': 2754, 'yankees': 2755, 'ears': 2756, 'present': 2757, 'surprised': 2758, 'blades': 2759, 'remain': 2760, 'energy': 2761, 'icy': 2762, 'panting': 2763, 'racketts': 2764, 'cupcakes': 2765, 'careful': 2766, 'donkey': 2767, 'barn': 2768, 'oppenent': 2769, 'releases': 2770, 'pouring': 2771, 'engaging': 2772, 'draws': 2773, 'salon': 2774, 'manner': 2775, 'featured': 2776, 'powerful': 2777, 'whacked': 2778, 'any': 2779, 'earphones': 2780, 'performer': 2781, 'totally': 2782, 'bread': 2783, 'know': 2784, 'leaned': 2785, 'somewhat': 2786, 'lifted': 2787, 'tool': 2788, 'trooper': 2789, 'library': 2790, 'feed': 2791, 'robes': 2792, 'progression': 2793, 'crosscountry': 2794, 'unit': 2795, 'muscles': 2796, 'bad': 2797, 'comical': 2798, 'timelapse': 2799, 'hump': 2800, 'begs': 2801, 'defenders': 2802, 'yawns': 2803, 'save': 2804, 'outer': 2805, 'lobby': 2806, 'twenty': 2807, 'enjoys': 2808, 'loving': 2809, 'figurine': 2810, 'bumping': 2811, 'hank': 2812, 'drops': 2813, 'backhanded': 2814, 'popular': 2815, 'scoop': 2816, 'smack': 2817, 'underhanded': 2818, 'gazing': 2819, 'backside': 2820, 'arch': 2821, 'summer': 2822, 'idiot': 2823, 'wound': 2824, 'blur': 2825, 'vans': 2826, 'swimsuit': 2827, 'backward': 2828, 'camo': 2829, 'tire': 2830, 'wrapped': 2831, 'manipulated': 2832, 'ref': 2833, 'attemping': 2834, 'skateborder': 2835, 'shaded': 2836, 'fourwheeler': 2837, 'drills': 2838, 'terminal': 2839, 'lingerie': 2840, 'involved': 2841, 'snuggled': 2842, 'hairy': 2843, 'atv': 2844, 'balll': 2845, 'arrows': 2846, 'mirrored': 2847, 'entertainment': 2848, 'humping': 2849, 'flower': 2850, 'grips': 2851, 'bot': 2852, 'diaper': 2853, 'advanced': 2854, 'piercing': 2855, 'ratchet': 2856, 'peer': 2857, 'licks': 2858, 'motorcyclists': 2859, 'thinking': 2860, 'smell': 2861, 'flamingos': 2862, 'cobble': 2863, 'robots': 2864, 'attachment': 2865, 'fair': 2866, 'techniques': 2867, 'flatbed': 2868, 'cabin': 2869, 'proper': 2870, 'tending': 2871, 'climbed': 2872, 'marker': 2873, 'award': 2874, 'carving': 2875, 'engine': 2876, 'eiffel': 2877, 'batsman': 2878, 'convention': 2879, 'wildwood': 2880, 'wheelchairs': 2881, 'accident': 2882, 'splashes': 2883, 'splash': 2884, 'baking': 2885, 'condiments': 2886, 'health': 2887, 'schools': 2888, 'pace': 2889, 'location': 2890, 'controlled': 2891, 'astroturf': 2892, 'canoeing': 2893, 'saying': 2894, 'castle': 2895, 'highest': 2896, 'cash': 2897, 'chicago': 2898, 'barry': 2899, 'bonds': 2900, '754': 2901, 'payers': 2902, 'microphone': 2903, 'materials': 2904, 'chance': 2905, 'crack': 2906, 'refridgerator': 2907, 'buy': 2908, 'chained': 2909, 'beards': 2910, 'uncommon': 2911, 'slip': 2912, 'vacant': 2913, 'telephone': 2914, 'hid': 2915, 'peeks': 2916, 'named': 2917, 'retrievers': 2918, 'cooks': 2919, 'seating': 2920, 'underpass': 2921, 'sprinkled': 2922, 'frosted': 2923, 'snout': 2924, 'nets': 2925, 'grove': 2926, 'layer': 2927, 'slices': 2928, 'volleying': 2929, 'museum': 2930, 'sculptures': 2931, 'wreath': 2932, 'foul': 2933, 'bounce': 2934, 'singles': 2935, 'taller': 2936, 'laced': 2937, 'stationary': 2938, 'pursues': 2939, 'toe': 2940, 'sprinting': 2941, 'uncovered': 2942, 'shakes': 2943, 'teeshirt': 2944, 'plenty': 2945, 'penalty': 2946, 'depot': 2947, 'grouped': 2948, 'yoga': 2949, 'grandson': 2950, 'etching': 2951, 'gated': 2952, 'technique': 2953, 'partial': 2954, 'int': 2955, 'anticipation': 2956, 'pay': 2957, 'rises': 2958, 'mmm': 2959, 'mm': 2960, 'taped': 2961, 'discussing': 2962, 'ballgame': 2963, 'manager': 2964, 'chat': 2965, 'blockade': 2966, 'amount': 2967, 'flow': 2968, 'campers': 2969, 'belly': 2970, 'fabulous': 2971, 'doormat': 2972, 'kisses': 2973, 'tipped': 2974, 'once': 2975, 'dividers': 2976, 'peeping': 2977, 'description': 2978, 'applied': 2979, 'flexing': 2980, 'suspenders': 2981, '24': 2982, 'clutter': 2983, 'packing': 2984, 'riverbed': 2985, 'holidng': 2986, 'cane': 2987, 'officials': 2988, 'lonely': 2989, 'napping': 2990, 'tips': 2991, 'appliances': 2992, 'buggie': 2993, 'rat': 2994, 'helped': 2995, 'ayi': 2996, 'g': 2997, 'dingy': 2998, 'batman': 2999, 'sakte': 3000, 'propel': 3001, 'toa': 3002, 'sands': 3003, 'pointy': 3004, 'snowshoes': 3005, 'tugowar': 3006, 'dishes': 3007, 'woma': 3008, 'braves': 3009, 'extend': 3010, 'playroom': 3011, 'exact': 3012, 'movie': 3013, 'camouflage': 3014, 'clause': 3015, 'bars': 3016, 'markings': 3017, 'slopes': 3018, 'stricking': 3019, 'jogs': 3020, 'jog': 3021, 'kneeled': 3022, 'milling': 3023, 'gears': 3024, 'meanwhile': 3025, 'degree': 3026, 'fisherman': 3027, 'dam': 3028, 'broad': 3029, 'huts': 3030, 'paint': 3031, 'competitor': 3032, 'fedora': 3033, 'mounting': 3034, 'tinted': 3035, 'pin': 3036, 'wrangling': 3037, 'hangout': 3038, 'venue': 3039, 'system': 3040, 'ram': 3041, 'clears': 3042, 'shared': 3043, 'boaters': 3044, 'eagle': 3045, 'examples': 3046, 'models': 3047, 'wrapping': 3048, 'hawk': 3049, 'rod': 3050, 'oldfashioned': 3051, 'twice': 3052, 'dot': 3053, 'referees': 3054, 'pausing': 3055, 'further': 3056, 'sprinkles': 3057, 'potted': 3058, 'acket': 3059, 'posture': 3060, 'whiffle': 3061, 'inflated': 3062, 'netting': 3063, 'seethrough': 3064, 'emperors': 3065, 'pays': 3066, 'scruffy': 3067, 'businessman': 3068, 'watering': 3069, 'nail': 3070, 'chalk': 3071, 'kiss': 3072, 'folks': 3073, 'bring': 3074, 'greyhound': 3075, 'gun': 3076, 'elongated': 3077, 'plans': 3078, 'sloping': 3079, 'occupy': 3080, 'apathetic': 3081, 'flexibility': 3082, 'colors': 3083, 'props': 3084, 'participate': 3085, 'slap': 3086, 'exactly': 3087, 'housing': 3088, 'sings': 3089, 'daylight': 3090, 'ace': 3091, 'particular': 3092, 'unfamiliar': 3093, 'finds': 3094, 'chew': 3095, 'advertisements': 3096, 'garb': 3097, 'adolescent': 3098, 'poorly': 3099, 'enough': 3100, 'canine': 3101, 'beverage': 3102, 'island': 3103, 'eager': 3104, 'intends': 3105, 'siberian': 3106, 'bathtub': 3107, 'perches': 3108, 'personal': 3109, 'paired': 3110, 'ion': 3111, 'loading': 3112, 'pocket': 3113, 'fastmoving': 3114, 'underhand': 3115, 'aim': 3116, 'proudly': 3117, 'caps': 3118, 'grows': 3119, 'plushie': 3120, 'elbows': 3121, 'venice': 3122, 'abstract': 3123, 'windmill': 3124, 'always': 3125, 'afro': 3126, 'upcoming': 3127, 'minnie': 3128, 'rounds': 3129, 'panels': 3130, 'jostling': 3131, 'homerun': 3132, 'attired': 3133, 'bean': 3134, 'neath': 3135, 'skipping': 3136, 'poor': 3137, 'sell': 3138, 'plain': 3139, 'theyre': 3140, 'piles': 3141, 'mopeds': 3142, 'agility': 3143, 'tonight': 3144, 'nude': 3145, 'statues': 3146, 'pacifier': 3147, 'yorkie': 3148, 'investigating': 3149, 'dread': 3150, 'locks': 3151, 'surfaces': 3152, 'wth': 3153, 'bookstore': 3154, 'relaxed': 3155, 'trolley': 3156, 'tenses': 3157, 'sander': 3158, 'testing': 3159, 'stool': 3160, 'outward': 3161, 'feat': 3162, 'scrambles': 3163, 'longboarding': 3164, 'fixes': 3165, 'shortly': 3166, 'cant': 3167, 'legged': 3168, 'pensive': 3169, 'smacked': 3170, 'roger': 3171, 'federer': 3172, 'goaltender': 3173, 'runnign': 3174, 'expanse': 3175, 'paperwork': 3176, 'cab': 3177, 'cluster': 3178, 'cliffs': 3179, 'doggie': 3180, 'lodge': 3181, 'mist': 3182, 'bump': 3183, 'cathing': 3184, 'skateing': 3185, 'groceries': 3186, 'adding': 3187, 'thighs': 3188, 'exhibit': 3189, 'blurs': 3190, 'ceiling': 3191, 'york': 3192, 'rundown': 3193, 'conductor': 3194, 'sittign': 3195, 'president': 3196, 'zone': 3197, 'bulls': 3198, 'depicted': 3199, 'goods': 3200, 'worker': 3201, 'sale': 3202, 'determined': 3203, 'hounds': 3204, 'hunt': 3205, 'equestrian': 3206, 'auditorium': 3207, 'least': 3208, 'innings': 3209, 'sons': 3210, 'patriotic': 3211, 'trainers': 3212, 'revealing': 3213, 'stoops': 3214, 'lighted': 3215, 'pursuit': 3216, 'steeply': 3217, 'punk': 3218, 'dextrous': 3219, 'laid': 3220, 'lapsed': 3221, 'edited': 3222, 'upsidedown': 3223, 'skateramp': 3224, 'share': 3225, 'lifeguard': 3226, 'assortment': 3227, 'probably': 3228, 'boar': 3229, 'hipsters': 3230, 'flaming': 3231, 'steal': 3232, 'cheeks': 3233, 'pony': 3234, 'magnets': 3235, 'freezer': 3236, 'rust': 3237, 'sparsely': 3238, 'backflip': 3239, 'necktie': 3240, 'cruising': 3241, 'boot': 3242, 'marks': 3243, 'pound': 3244, 'cameraman': 3245, 'cutout': 3246, 'xwing': 3247, 'pouch': 3248, 'tugofwar': 3249, 'sometimes': 3250, 'extremely': 3251, 'went': 3252, 'converted': 3253, 'maintain': 3254, 'treelined': 3255, 'posts': 3256, 'chelsea': 3257, 'coached': 3258, 'ing': 3259, 'racqet': 3260, 'sewer': 3261, 'southern': 3262, 'flood': 3263, 'give': 3264, 'character': 3265, 'busses': 3266, 'maybe': 3267, 'because': 3268, 'entertainer': 3269, 'pillar': 3270, 'themed': 3271, 'intercept': 3272, 'wetsuit': 3273, 'buick': 3274, 'desktop': 3275, 'casting': 3276, 'jockeys': 3277, 'photography': 3278, 'taps': 3279, 'handicapped': 3280, 'rowboat': 3281, 'gotten': 3282, 'slippery': 3283, 'shoelace': 3284, 'tugging': 3285, 'lace': 3286, 'expectantly': 3287, 'create': 3288, 'wiener': 3289, 'bra': 3290, 'naps': 3291, 'wonder': 3292, 'parklike': 3293, 'adorned': 3294, 'gay': 3295, 'thick': 3296, 'maintained': 3297, 'record': 3298, 'completely': 3299, 'lamps': 3300, 'heals': 3301, 'handful': 3302, 'file': 3303, 'lost': 3304, 'bass': 3305, 'join': 3306, 'raining': 3307, 'topped': 3308, 'lurches': 3309, 'native': 3310, 'therapy': 3311, 'bandanna': 3312, 'protest': 3313, 'gesture': 3314, 'views': 3315, 'skilled': 3316, 'blading': 3317, 'cobbled': 3318, 'skiis': 3319, 'film': 3320, 'skatboarding': 3321, 'kneel': 3322, 'holder': 3323, 'uneven': 3324, 'leafy': 3325, 'metropolitan': 3326, 'designed': 3327, 'ponytail': 3328, 'retrieve': 3329, 'kangaroo': 3330, 'comforter': 3331, 'exercise': 3332, 'ascend': 3333, 'hiding': 3334, 'wintery': 3335, 'lining': 3336, 'hartru': 3337, 'attentively': 3338, 'easily': 3339, 'polaroid': 3340, 'laughs': 3341, 'curlyhaired': 3342, 'machines': 3343, 'panorama': 3344, 'computers': 3345, 'conference': 3346, 'unmown': 3347, 'dimly': 3348, 'luck': 3349, 'sees': 3350, 'th': 3351, 'skatboards': 3352, 'depression': 3353, 'ugly': 3354, 'soon': 3355, 'peering': 3356, 'rise': 3357, 'shines': 3358, 'came': 3359, 'reacting': 3360, 'braid': 3361, 'pattern': 3362, 'octopus': 3363, 'force': 3364, 'calls': 3365, 'taught': 3366, 'managed': 3367, 'twirls': 3368, 'vending': 3369, 'taco': 3370, 'congregate': 3371, 'turquoise': 3372, 'backpacker': 3373, 'rings': 3374, 'signals': 3375, 'unhappy': 3376, 'ruby': 3377, 'tropical': 3378, 'lagoon': 3379, 'infielder': 3380, 'size': 3381, 'hilly': 3382, 'examines': 3383, 'text': 3384, 'ups': 3385, 'delivery': 3386, 'copy': 3387, 'juvenile': 3388, 'cups': 3389, 'graphic': 3390, 'scrambling': 3391, 'fireworks': 3392, 'squares': 3393, 'such': 3394, 'bold': 3395, 'swigning': 3396, 'handlers': 3397, 'ramped': 3398, 'clean': 3399, 'yorkshire': 3400, 'leagues': 3401, 'backboard': 3402, 'warmup': 3403, 'uncommonly': 3404, 'entrancing': 3405, 'whos': 3406, 'perimeter': 3407, 'sad': 3408, 'robe': 3409, 'witches': 3410, 'sending': 3411, 'caution': 3412, 'goofing': 3413, 'ripe': 3414, 'exciting': 3415, 'solid': 3416, 'knows': 3417, 'blakc': 3418, 'preventing': 3419, 'videos': 3420, 'bicycling': 3421, 'controls': 3422, 'pretend': 3423, 'arches': 3424, 'protectors': 3425, 'feild': 3426, 'moved': 3427, 'skateboad': 3428, 'fatigues': 3429, 'whit': 3430, 'bording': 3431, 'afraid': 3432, 'unleash': 3433, 'easy': 3434, 'generated': 3435, 'animated': 3436, 'rooftop': 3437, 'brief': 3438, 'flyer': 3439, 'defending': 3440, 'guardrail': 3441, 'adog': 3442, 'guinea': 3443, 'pig': 3444, 'heel': 3445, 'spatula': 3446, 'messy': 3447, 'paints': 3448, 'showcasing': 3449, 'delivered': 3450, 'transportation': 3451, 'nailing': 3452, 'hedge': 3453, 'apart': 3454, 'capitol': 3455, 'wiimote': 3456, 'wig': 3457, 'avid': 3458, 'examining': 3459, 'limbo': 3460, 'tracking': 3461, 'crawling': 3462, 'matt': 3463, 'crawls': 3464, 'studying': 3465, 'actions': 3466, 'snapshot': 3467, 'sunbathing': 3468, 'didnt': 3469, 'spotlight': 3470, 'hips': 3471, 'surveying': 3472, 'opens': 3473, 'bookshelf': 3474, 'spaniel': 3475, 'mote': 3476, 'priests': 3477, 'want': 3478, 'pant': 3479, 'texas': 3480, 'handrails': 3481, 'astride': 3482, 'monitors': 3483, 'gras': 3484, 'taxis': 3485, 'hours': 3486, 'videotapes': 3487, 'portable': 3488, 'interactive': 3489, 'gaming': 3490, 'sheets': 3491, 'decided': 3492, 'smelling': 3493, 'frizzbe': 3494, 'battling': 3495, 'dane': 3496, 'teach': 3497, 'telling': 3498, 'crosslegged': 3499, 'burgundy': 3500, 'atvs': 3501, 'yawning': 3502, 'gentle': 3503, 'fielders': 3504, 'effect': 3505, 'combined': 3506, 'loses': 3507, 'let': 3508, 'carpeted': 3509, 'roadside': 3510, 'businesses': 3511, 'tip': 3512, 'reddish': 3513, 'reverse': 3514, 'legos': 3515, 'lego': 3516, 'entire': 3517, 'angry': 3518, 'tell': 3519, 'cloths': 3520, 'autumn': 3521, 'sunlit': 3522, 'travelers': 3523, 'versus': 3524, 'plated': 3525, 'titled': 3526, 'dreary': 3527, 'murals': 3528, 'aaron': 3529, 'famous': 3530, 'beloved': 3531, 'button': 3532, 'every': 3533, 'median': 3534, 'asians': 3535, 'aimed': 3536, 'truckbed': 3537, 'laps': 3538, 'bannister': 3539, 'arching': 3540, 'bal': 3541, 'dyed': 3542, 'booty': 3543, 'sprawled': 3544, 'upturned': 3545, 'fouls': 3546, 'aggressive': 3547, 'tangle': 3548, 'brother': 3549, 'stacks': 3550, 'fifties': 3551, 'defy': 3552, 'exhibition': 3553, 'fat': 3554, 'homes': 3555, 'hurt': 3556, 'expert': 3557, 'fathers': 3558, 'whack': 3559, 'oversize': 3560, 'pursue': 3561, 'demonstrates': 3562, 'already': 3563, 'jester': 3564, 'pallets': 3565, 'via': 3566, 'struggling': 3567, 'inspecting': 3568, 'sure': 3569, 'cot': 3570, 'energetic': 3571, 'active': 3572, 'crystal': 3573, 'horizontally': 3574, 'smells': 3575, 'guided': 3576, 'sniff': 3577, 'sidearm': 3578, 'campfire': 3579, 'shred': 3580, 'obstetrical': 3581, 'my': 3582, 'posted': 3583, 'sweating': 3584, 'etc': 3585, 'strings': 3586, 'tangled': 3587, 'cops': 3588, 'listens': 3589, 'dips': 3590, 'sweeping': 3591, 'arrive': 3592, 'carriages': 3593, 'stepped': 3594, 'contorts': 3595, 'davidson': 3596, 'tripping': 3597, 'tennsi': 3598, 'darkhaired': 3599, 'watery': 3600, 'offering': 3601, 'lively': 3602, 'touched': 3603, 'wiping': 3604, 'trails': 3605, 'chilly': 3606, 'tattoos': 3607, 'did': 3608, 'supplies': 3609, 'artificial': 3610, 'wool': 3611, 'ditch': 3612, 'mannequins': 3613, 'yells': 3614, 'include': 3615, 'needles': 3616, 'called': 3617, 'hightop': 3618, 'chainlink': 3619, 'thousands': 3620, 'suite': 3621, 'preform': 3622, 'similarly': 3623, 'frowning': 3624, 'covers': 3625, 'watchers': 3626, 'dozens': 3627, 'hotdog': 3628, 'daring': 3629, 'knife': 3630, 'speaking': 3631, 'straps': 3632, 'teetering': 3633, 'apple': 3634, 'doge': 3635, 'cycles': 3636, 'spider': 3637, 'strategy': 3638, 'newspapers': 3639, 'graffitti': 3640, 'bib': 3641, 'charging': 3642, 'frisbie': 3643, 'tons': 3644, 'closer': 3645, 'kickball': 3646, 'rough': 3647, 'twelve': 3648, 'dance': 3649, 'pugs': 3650, 'law': 3651, 'croissants': 3652, 'dye': 3653, 'countryside': 3654, 'manipulating': 3655, 'rank': 3656, 'courthouse': 3657, 'corrugated': 3658, 'campus': 3659, 'spaghetti': 3660, 'backswing': 3661, 'semi': 3662, 'b': 3663, 'shoeless': 3664, 'barriers': 3665, 'ages': 3666, 'hoody': 3667, 'pinstripe': 3668, 'shine': 3669, 'flintstones': 3670, 'met': 3671, 'claim': 3672, 'shooting': 3673, 'page': 3674, 'sparkler': 3675, 'lime': 3676, 'jack': 3677, 'russell': 3678, 'exchanging': 3679, 'decoration': 3680, 'racers': 3681, 'companion': 3682, 'package': 3683, 'figurines': 3684, 'comfortable': 3685, 'sold': 3686, 'peacefully': 3687, 'basball': 3688, 'recoiling': 3689, 'confetti': 3690, 'lesson': 3691, 'noses': 3692, 'clown': 3693, 'wavy': 3694, 'wheelers': 3695, 'blazer': 3696, 'register': 3697, 'convenience': 3698, '1800s': 3699, 'exchange': 3700, 'adopted': 3701, 'hitching': 3702, 'closet': 3703, 'concert': 3704, 'july': 3705, 'reflective': 3706, 'future': 3707, 'panties': 3708, 'everywhere': 3709, 'peaking': 3710, 'poop': 3711, 'currently': 3712, 'contemplating': 3713, 'briefly': 3714, 'avoiding': 3715, 'shack': 3716, 'colliding': 3717, 'loosing': 3718, 'parasol': 3719, 'beds': 3720, 'cyclist': 3721, 'lightly': 3722, 'nasa': 3723, 'sleeves': 3724, 'fireman': 3725, 'ends': 3726, 'container': 3727, 'fiving': 3728, 'followthrough': 3729, 'trellis': 3730, 'rollerskating': 3731, 'doubled': 3732, 'union': 3733, 'picket': 3734, 'yamaha': 3735, 'backhands': 3736, 'pastries': 3737, 'nearest': 3738, 'message': 3739, 'doughnuts': 3740, 'gum': 3741, 'frisby': 3742, 'novelty': 3743, 'corralling': 3744, 'seagull': 3745, 'pursued': 3746, 'splaying': 3747, 'slicing': 3748, 'dos': 3749, 'abus': 3750, 'apparently': 3751, 'standingg': 3752, 'painful': 3753, 'episode': 3754, 'microsoft': 3755, 'technicians': 3756, 'fetching': 3757, 'standup': 3758, 'zips': 3759, 'carelessly': 3760, 'fear': 3761, 'straddles': 3762, 'sections': 3763, 'lolling': 3764, 'aperson': 3765, 'manuvering': 3766, 'projector': 3767, 'bots': 3768, 'moveable': 3769, 'meme': 3770, 'spired': 3771, 'cranes': 3772, 'riverside': 3773, 'lowflying': 3774, 'sepiatone': 3775, 'matches': 3776, 'tackling': 3777, 'paperback': 3778, 'crabs': 3779, 'frrisbeee': 3780, 'windown': 3781, 'blind': 3782, 'tasks': 3783, 'beating': 3784, 'eyed': 3785, 'domed': 3786, 'oposing': 3787, 'recuperating': 3788, 'elizabethan': 3789, 'bicolored': 3790, 'lanes': 3791, 'annoyed': 3792, 'smashes': 3793, 'firstperson': 3794, 'tiedye': 3795, 'halfundressed': 3796, 'preserver': 3797, 'whether': 3798, 'piano': 3799, 'mantle': 3800, 'routine': 3801, 'slateboard': 3802, 'directly': 3803, 'lowering': 3804, 'enfenced': 3805, 'footbridge': 3806, 'snoot': 3807, 'erected': 3808, 'roped': 3809, 'flowered': 3810, 'layered': 3811, 'iced': 3812, 'layers': 3813, 'beehive': 3814, 'removed': 3815, 'plan': 3816, 'skated': 3817, 'supervised': 3818, 'congregating': 3819, 'cook': 3820, 'peppering': 3821, 'garland': 3822, 'blouse': 3823, 'flooring': 3824, 'known': 3825, '43': 3826, 'movingand': 3827, 'excellent': 3828, 'strolls': 3829, 'bursons': 3830, 'textured': 3831, 'yes': 3832, 'curtain': 3833, 'chunk': 3834, 'pavers': 3835, 'stray': 3836, 'longboarders': 3837, 'congregation': 3838, 'playiong': 3839, 'sande': 3840, 'beginner': 3841, 'sorts': 3842, 'grinning': 3843, 'enthusiastically': 3844, 'peoole': 3845, 'grandmother': 3846, 'whizzing': 3847, 'yoenis': 3848, 'cespedes': 3849, 'goaly': 3850, 'protectively': 3851, 'trck': 3852, 'tastefullyconstructed': 3853, 'apark': 3854, 'prow': 3855, 'lazing': 3856, 'diners': 3857, 'attach': 3858, 'generations': 3859, 'adept': 3860, 'speaks': 3861, 'precision': 3862, 'baseballin': 3863, 'mmmm': 3864, 'wideopen': 3865, 'playmates': 3866, 'breast': 3867, 'sin': 3868, 'skii': 3869, 'snowcapped': 3870, 'suckers': 3871, 'rectangular': 3872, 'halfpipes': 3873, 'quarterpipes': 3874, 'reached': 3875, 'contoured': 3876, 'axles': 3877, 'pressure': 3878, 'la': 3879, 'twirling': 3880, 'fingertips': 3881, 'sshirt': 3882, 'concealed': 3883, 'highrise': 3884, 'rolex': 3885, 'skateboaring': 3886, 'social': 3887, 'occasion': 3888, 'boldly': 3889, 'iin': 3890, 'tick': 3891, 'akte': 3892, 'robo': 3893, 'futball': 3894, 'learned': 3895, 'sportswear': 3896, 'shading': 3897, 'strength': 3898, 'parasail': 3899, 'drift': 3900, 'separating': 3901, 'wade': 3902, 'dividing': 3903, 'fixed': 3904, 'kiteboarder': 3905, 'parasailing': 3906, 'blustery': 3907, 'taping': 3908, 'pekinese': 3909, 'decal': 3910, 'clownish': 3911, 'bandannas': 3912, 'doin': 3913, 'roomful': 3914, 'corgy': 3915, 'wading': 3916, 'iwth': 3917, 'whle': 3918, 'neatly': 3919, 'sprayed': 3920, 'apparent': 3921, 'wardrobe': 3922, '46': 3923, 'practising': 3924, 'illuminate': 3925, 'numbers': 3926, 'creek': 3927, 'thre': 3928, 'hadn': 3929, 'tenns': 3930, 'decision': 3931, 'floral': 3932, 'knit': 3933, 'reality': 3934, 'fantasy': 3935, 'unaware': 3936, 'smartphone': 3937, 'youtube': 3938, 'mobile': 3939, 'bitten': 3940, 'hopes': 3941, 'leach': 3942, 'hurting': 3943, 'lands': 3944, 'cemetery': 3945, 'elegantly': 3946, 'gown': 3947, 'hush': 3948, 'located': 3949, 'humongous': 3950, 'stately': 3951, 'baor': 3952, 'achieves': 3953, 'abll': 3954, 'viewers': 3955, 'coaster': 3956, 'clenched': 3957, 'passangers': 3958, 'leasurely': 3959, 'stagecoach': 3960, 'baselines': 3961, 'sketched': 3962, 'improvised': 3963, 'rmap': 3964, 'reigns': 3965, 'gust': 3966, 'joke': 3967, 'buddies': 3968, 'romping': 3969, 'squat': 3970, 'rigging': 3971, 'fights': 3972, 'illuminated': 3973, 'gloomy': 3974, 'waterside': 3975, 'maze': 3976, 'atlanta': 3977, 'khakis': 3978, 'chuch': 3979, 'attend': 3980, 'racks': 3981, 'fild': 3982, 'watchin': 3983, 'organize': 3984, 'bouquet': 3985, 'struggle': 3986, 'runners': 3987, 'parks': 3988, 'milks': 3989, 'eventually': 3990, 'authentic': 3991, 'studio': 3992, 'crook': 3993, 'rifle': 3994, 'cutouts': 3995, 'hunter': 3996, 'goalies': 3997, 'protect': 3998, 'unzipping': 3999, 'triptych': 4000, 'shuffle': 4001, 'lieing': 4002, 'daintily': 4003, 'frolic': 4004, 'hasnt': 4005, 'yet': 4006, 'crisp': 4007, 'outstanding': 4008, 'rare': 4009, 'allowed': 4010, 'fore': 4011, 'desks': 4012, 'roping': 4013, 'villagers': 4014, 'walkong': 4015, 'brimmed': 4016, 'greens': 4017, 'racquetball': 4018, 'vietinm': 4019, 'kcd': 4020, 'poising': 4021, 'rainboots': 4022, 'styrofoam': 4023, 'turing': 4024, 'baller': 4025, 'thrre': 4026, 'patrolling': 4027, 'ago': 4028, 'depended': 4029, 'brake': 4030, 'knelling': 4031, 'sear': 4032, 'hilltop': 4033, 'oddlooking': 4034, 'wrong': 4035, 'familly': 4036, 'yound': 4037, 'manueverin': 4038, 'staples': 4039, 'instructs': 4040, 'boath': 4041, 'trained': 4042, 'entertain': 4043, 'headdresses': 4044, 'barriered': 4045, 'grube': 4046, 'sandpit': 4047, 'sall': 4048, 'antics': 4049, 'bottled': 4050, 'rivers': 4051, 'riverbank': 4052, 'bug': 4053, 'fulled': 4054, 'footrest': 4055, 'thighsdown': 4056, 'apex': 4057, 'tony': 4058, 'bucketful': 4059, 'jogger': 4060, 'dashing': 4061, 'diwn': 4062, 'dental': 4063, 'dentist': 4064, 'scrubs': 4065, 'tailing': 4066, 'scored': 4067, 'profiling': 4068, 'superhero': 4069, 'assisted': 4070, 'reins': 4071, 'bullhorn': 4072, 'equestrians': 4073, 'civil': 4074, 'enactors': 4075, 'lack': 4076, 'emptiedout': 4077, 'wating': 4078, 'foursome': 4079, 'loom': 4080, 'porsche': 4081, 'welkin': 4082, 'scatter': 4083, 'wwith': 4084, 'balloon': 4085, 'forearm': 4086, 'safeco': 4087, 'dribble': 4088, 'twist': 4089, 'busies': 4090, 'investigates': 4091, 'peson': 4092, 'tilt': 4093, 'partition': 4094, 'holographic': 4095, 'shadowy': 4096, 'hurls': 4097, 'quick': 4098, 'tricolor': 4099, 'tanned': 4100, 'garment': 4101, 'litter': 4102, 'freeway': 4103, 'colorado': 4104, 'rockies': 4105, 'prson': 4106, 'chalkboard': 4107, 'praising': 4108, 'rewarding': 4109, 'blackboard': 4110, 'maintains': 4111, 'pplaying': 4112, 'tights': 4113, 'moments': 4114, 'requires': 4115, 'coordination': 4116, 'poodles': 4117, 'dollhouse': 4118, 'backback': 4119, 'machete': 4120, 'nearground': 4121, 'hollywood': 4122, 'hollywoods': 4123, 'midaction': 4124, 'needs': 4125, 'competes': 4126, 'fo': 4127, 'illustration': 4128, 'wrangle': 4129, 'ba': 4130, 'rocked': 4131, 'led': 4132, 'gnawing': 4133, 'tennisball': 4134, 'multinational': 4135, 'burka': 4136, 'islamic': 4137, 'skeat': 4138, 'pall': 4139, 'grilling': 4140, 'monkey': 4141, 'arguing': 4142, 'bridal': 4143, 'sipping': 4144, 'curls': 4145, 'mug': 4146, 'desolate': 4147, 'roundcornered': 4148, 'concealing': 4149, 'upramp': 4150, 'beams': 4151, 'shoiwing': 4152, 'related': 4153, 'crops': 4154, 'huskie': 4155, 'drier': 4156, 'examine': 4157, 'backgound': 4158, 'largewheeled': 4159, 'oddly': 4160, 'wih': 4161, 'dome': 4162, 'domes': 4163, 'bicycler': 4164, 'apparatus': 4165, 'tobacco': 4166, 'grinch': 4167, 'antlers': 4168, 'claus': 4169, 'moonlight': 4170, 'baker': 4171, 'apron': 4172, 'sakeboard': 4173, 'curbed': 4174, 'newest': 4175, 'segments': 4176, 'skaetboard': 4177, 'marlins': 4178, 'panthers': 4179, 'kitty': 4180, 'bluedressed': 4181, 'backing': 4182, 'plow': 4183, 'blood': 4184, 'threesome': 4185, 'pins': 4186, 'disney': 4187, 'characters': 4188, 'wrestle': 4189, 'pictorial': 4190, 'target': 4191, 'specific': 4192, 'baton': 4193, 'slotted': 4194, 'advantage': 4195, 'capturing': 4196, 'oar': 4197, 'wake': 4198, 'scanning': 4199, '19': 4200, 'pretends': 4201, 'baskeball': 4202, 'multitasking': 4203, 'electronics': 4204, 'accelerates': 4205, 'minimize': 4206, 'drag': 4207, 'attic': 4208, 'bedrom': 4209, 'alcove': 4210, 'somersault': 4211, 'mogul': 4212, 'peaked': 4213, 'dubious': 4214, 'outwards': 4215, 'camaraderie': 4216, 'napkin': 4217, 'icing': 4218, 'tands': 4219, 'plus': 4220, 'tennins': 4221, 'melted': 4222, 'gayoso': 4223, 'avenue': 4224, 'clinches': 4225, 'accessing': 4226, 'wheely': 4227, 'eachother': 4228, 'paris': 4229, 'described': 4230, 'streetlights': 4231, 'reflect': 4232, 'skatpark': 4233, 'googles': 4234, 'exercising': 4235, 'snowing': 4236, 'sedan': 4237, 'highlighted': 4238, 'sculptured': 4239, 'waking': 4240, 'lad': 4241, 'baseballlike': 4242, 'mab': 4243, 'instruction': 4244, 'seeing': 4245, 'mulling': 4246, 'pub': 4247, 'citifield': 4248, 'rig': 4249, 'observation': 4250, 'job': 4251, 'cereal': 4252, 'pic': 4253, 'umbrealla': 4254, 'courageous': 4255, 'nfl': 4256, 'trolly': 4257, 'harnesses': 4258, 'aloft': 4259, 'angels': 4260, 'ethier': 4261, 'yrd': 4262, 'wand': 4263, 'trial': 4264, 'collies': 4265, 'theater': 4266, 'acrobatic': 4267, 'popup': 4268, 'snapping': 4269, 'tone': 4270, 'easter': 4271, 'heinz': 4272, 'squirt': 4273, 'matter': 4274, 'rag': 4275, 'frizzy': 4276, 'cupboards': 4277, 'autographing': 4278, 'immediately': 4279, 'moterbikes': 4280, 'withe': 4281, 'devil': 4282, 'slavemaster': 4283, 'attack': 4284, 'mexicans': 4285, 'persued': 4286, 'contemplates': 4287, 'meaning': 4288, 'bonnies': 4289, 'reviewing': 4290, 'hedges': 4291, 'dauchsand': 4292, 'measuring': 4293, 'measures': 4294, 'bicylce': 4295, 'cycling': 4296, 'rice': 4297, 'grizzled': 4298, 'catering': 4299, 'concession': 4300, 'north': 4301, 'carolina': 4302, 'gift': 4303, 'wrappings': 4304, 'bomb': 4305, 'shoots': 4306, 'sprout': 4307, 'rebellious': 4308, 'dork': 4309, 'hovercraft': 4310, 'hovering': 4311, 'oriental': 4312, 'squirted': 4313, 'region': 4314, 'raquets': 4315, 'coalition': 4316, 'forces': 4317, 'afghanis': 4318, 'kabul': 4319, 'opposes': 4320, 'neglected': 4321, 'mishaped': 4322, 'toppings': 4323, 'freezing': 4324, 'tools': 4325, 'persong': 4326, 'jp': 4327, 'morgan': 4328, 'traped': 4329, 'infielders': 4330, 'pickle': 4331, 'trapped': 4332, 'railroad': 4333, 'satchel': 4334, 'candid': 4335, 'disguised': 4336, 'joe': 4337, 'biden': 4338, 'changed': 4339, 'barack': 4340, 'barrack': 4341, 'comment': 4342, 'our': 4343, 'tax': 4344, 'dollars': 4345, 'tractor': 4346, 'steer': 4347, 'steers': 4348, 'wander': 4349, 'playsign': 4350, 'rackes': 4351, 'beaded': 4352, 'necklaces': 4353, 'beads': 4354, 'projection': 4355, 'stools': 4356, 'newborn': 4357, 'seati': 4358, 'bt': 4359, 'swipes': 4360, 'shopkeeper': 4361, 'agent': 4362, 'inspect': 4363, 'k9': 4364, 'upfront': 4365, 'handles': 4366, 'protestors': 4367, 'petitioning': 4368, 'cannot': 4369, 'restraining': 4370, 'trailed': 4371, 'skatboarder': 4372, 'skiboards': 4373, 'vigorous': 4374, 'kitche': 4375, 'uniforming': 4376, 'paradfe': 4377, '742': 4378, 'safely': 4379, 'bagels': 4380, 'oriole': 4381, 'wolf': 4382, 'lions': 4383, 'cling': 4384, 'god': 4385, 'continuing': 4386, 'angled': 4387, 'dug': 4388, 'whips': 4389, 'wizardry': 4390, 'bake': 4391, 'backpac': 4392, 'compartment': 4393, 'goodbye': 4394, 'kissed': 4395, 'observers': 4396, 'lifeguards': 4397, 'devices': 4398, 'strewn': 4399, 'feather': 4400, 'slipper': 4401, 'fireball': 4402, 'sheeps': 4403, 'tightly': 4404, 'traditional': 4405, 'applauding': 4406, 'peeps': 4407, 'icomes': 4408, 'mana': 4409, 'standingthe': 4410, 'cants': 4411, 'portion': 4412, 'puffed': 4413, 'outflung': 4414, 'playerr': 4415, 'acting': 4416, 'dueling': 4417, 'stickers': 4418, 'sayings': 4419, 'bnp': 4420, 'paribas': 4421, 'oversees': 4422, 'tattered': 4423, 'holes': 4424, 'why': 4425, 'skull': 4426, 'bloody': 4427, 'shit': 4428, 'arrives': 4429, 'calming': 4430, 'yp': 4431, 'listened': 4432, 'clasps': 4433, 'retrieved': 4434, 'coverings': 4435, 'grafittied': 4436, 'limo': 4437, 'wrecked': 4438, 'eselcator': 4439, 'sakter': 4440, 'companions': 4441, 'host': 4442, 'ot': 4443, 'cocacola': 4444, 'sends': 4445, 'alike': 4446, '20': 4447, 'spring': 4448, 'f': 4449, 'batgirl': 4450, 'evergreen': 4451, 'snowboading': 4452, 'paddleboarding': 4453, 'junk': 4454, 'wands': 4455, 'medical': 4456, 'adjust': 4457, 'eyeglasses': 4458, 'appendages': 4459, 'cough': 4460, 'wiyh': 4461, 'lunches': 4462, 'welldesigned': 4463, 'kit': 4464, 'china': 4465, 'bracing': 4466, 'mix': 4467, 'semiprofessional': 4468, 'bircher': 4469, 'cubicles': 4470, 'ahuman': 4471, 'youn': 4472, 'pastel': 4473, 'breeze': 4474, 'skydiver': 4475, 'playng': 4476, 'underfoot': 4477, 'graffitiladen': 4478, 'former': 4479, 'iowa': 4480, 'seam': 4481, 'playfully': 4482, 'beg': 4483, 'bye': 4484, 'elementary': 4485, 'console': 4486, 'grandfather': 4487, 'whiile': 4488, 'bark': 4489, 'buss': 4490, 'texts': 4491, 'smart': 4492, 'starring': 4493, 'blindfolded': 4494, 'coning': 4495, '4wheeled': 4496, 'peek': 4497, 'slaloming': 4498, 'superman': 4499, 'intenselooking': 4500, 'edges': 4501, 'commences': 4502, 'nylon': 4503, 'toted': 4504, 'springs': 4505, 'purpose': 4506, 'meen': 4507, 'preparatory': 4508, 'concentration': 4509, 'videotaping': 4510, 'transport': 4511, 'dropkick': 4512, 'officiating': 4513, 'crowns': 4514, 'towering': 4515, 'grafiti': 4516, 'participants': 4517, 'clusters': 4518, 'hobbyist': 4519, 'smacks': 4520, 'pluto': 4521, 'scateboarder': 4522, 'scope': 4523, 'nibbling': 4524, 'jeep': 4525, 'utility': 4526, 'urinates': 4527, 'deer': 4528, 'beaglelike': 4529, 'farmland': 4530, 'broadcasting': 4531, 'jar': 4532, 'spoonful': 4533, 'rapidly': 4534, 'ft': 4535, 'veteran': 4536, 'cincrete': 4537, 'surfboars': 4538, 'thigh': 4539, 'bales': 4540, 'english': 4541, 'coasting': 4542, 'sleeve': 4543, 'vigorously': 4544, 'grandpa': 4545, 'dachund': 4546, 'elf': 4547, 'proud': 4548, 'watchs': 4549, 'jumpsuit': 4550, 'stances': 4551, 'inclined': 4552, 'thecement': 4553, 'wiped': 4554, 'overexposed': 4555, 'obscene': 4556, 'rollerblades': 4557, 'huddled': 4558, 'screens': 4559, 'camel': 4560, 'upended': 4561, 'prize': 4562, 'coned': 4563, 'bared': 4564, 'decorations': 4565, 'material': 4566, 'spokes': 4567, 'dances': 4568, 'flys': 4569, 'fuschia': 4570, 'overly': 4571, 'wow': 4572, 'stariway': 4573, 'modifgied': 4574, 'alleyway': 4575, 'santas': 4576, 'crushed': 4577, 'outfitted': 4578, 'shampoo': 4579, 'linens': 4580, 'contains': 4581, 'bendy': 4582, 'floorboard': 4583, 'plying': 4584, 'armchair': 4585, 'longer': 4586, 'expected': 4587, 'raincoat': 4588, 'abraham': 4589, 'lincoln': 4590, 'upraised': 4591, 'okay': 4592, 'rollers': 4593, 'compact': 4594, 'skateboardingon': 4595, 'cargo': 4596, 'season': 4597, 'kitefliers': 4598, 'practiced': 4599, 'coo': 4600, 'sidewaolk': 4601, 'wilson': 4602, 'ropes': 4603, 'braids': 4604, 'unwilling': 4605, 'adventure': 4606, 'spectate': 4607, 'narrowly': 4608, 'kinds': 4609, 'shady': 4610, 'dwarfed': 4611, 'walker': 4612, 'snowplowed': 4613, 'preteen': 4614, 'lessons': 4615, 'mand': 4616, 'isdoing': 4617, 'leech': 4618, 'angles': 4619, 'inning': 4620, 'footpath': 4621, 'aware': 4622, 'bustling': 4623, 'recuperate': 4624, 'fro': 4625, 'screenedin': 4626, 'scocer': 4627, 'mistress': 4628, 'tend': 4629, 'nightclub': 4630, 'thebed': 4631, 'inits': 4632, 'gumball': 4633, 'moustached': 4634, 'electronic': 4635, 'circuit': 4636, 'root': 4637, 'bordering': 4638, 'vast': 4639, 'throngs': 4640, 'twists': 4641, 'cadre': 4642, 'ghetto': 4643, 'photographers': 4644, 'await': 4645, 'planned': 4646, 'dads': 4647, 'moored': 4648, 'igrinding': 4649, 'andor': 4650, 'found': 4651, 'appropriate': 4652, 'statute': 4653, 'darkness': 4654, 'uncrowded': 4655, 'boulevard': 4656, 'coca': 4657, 'cola': 4658, 'penned': 4659, 'grasses': 4660, 'cause': 4661, 'marathon': 4662, 'fielding': 4663, 'frightened': 4664, 'meandering': 4665, 'shelves': 4666, 'ollying': 4667, 'capable': 4668, 'propeller': 4669, 'biplanes': 4670, 'beachs': 4671, 'biplane': 4672, 'toting': 4673, 'wheeling': 4674, 'skiier': 4675, 'treks': 4676, 'skittishly': 4677, 'tim': 4678, 'lincecum': 4679, 'ownder': 4680, 'cabanas': 4681, 'motel': 4682, 'scolds': 4683, 'sceneries': 4684, 'dangles': 4685, 'seconds': 4686, 'onesy': 4687, 'hypnosis': 4688, 'bleaches': 4689, 'stormy': 4690, 'darkening': 4691, 'shields': 4692, 'democracy': 4693, 'aluminum': 4694, 'burning': 4695, 'crackling': 4696, 'skateboaard': 4697, 'escaltor': 4698, 'historic': 4699, 'uk': 4700, 'specially': 4701, 'surrealistic': 4702, 'focusing': 4703, 'resp': 4704, 'grasps': 4705, 'confusion': 4706, 'zigzag': 4707, 'crowed': 4708, 'resembling': 4709, 'peice': 4710, 'beck': 4711, 'evidence': 4712, 'previous': 4713, 'backround': 4714, 'flooded': 4715, 'rinding': 4716, 'midmaneuver': 4717, 'interacts': 4718, 'probabably': 4719, 'lolls': 4720, 'taupe': 4721, 'chipping': 4722, 'golfing': 4723, 'childrenhorsecow': 4724, 'foreign': 4725, 'mountainn': 4726, 'accepted': 4727, 'please': 4728, 'fransico': 4729, 'padres': 4730, 'slalom': 4731, 'q': 4732, 'cue': 4733, 'chaits': 4734, 'umrella': 4735, 'abeach': 4736, 'mainly': 4737, 'although': 4738, 'suf': 4739, 'acknowledging': 4740, 'strikeout': 4741, 'dawn': 4742, 'kiteboard': 4743, 'parasurfing': 4744, 'charleston': 4745, 'strawberry': 4746, 'earbuds': 4747, 'preppy': 4748, 'fixture': 4749, 'standind': 4750, 'floater': 4751, 'locale': 4752, 'ipad': 4753, 'togehter': 4754, 'donkeys': 4755, 'loads': 4756, 'expertly': 4757, 'indians': 4758, 'wrote': 4759, 'redshirted': 4760, 'carrybag': 4761, 'sack': 4762, 'clutches': 4763, 'boulder': 4764, 'loan': 4765, 'association': 4766, 'wards': 4767, 'flashing': 4768, 'symbol': 4769, 'blowup': 4770, 'pastry': 4771, 'intent': 4772, 'focus': 4773, 'expo': 4774, 'coutnry': 4775, 'clearing': 4776, 'squating': 4777, 'recliners': 4778, 'basic': 4779, 'marines': 4780, 'jewelry': 4781, 'pictues': 4782, 'holidays': 4783, 'pages': 4784, 'ling': 4785, 'concreat': 4786, 'eyeing': 4787, 'intel': 4788, 'spins': 4789, 'sweats': 4790, 'sitiing': 4791, 'academy': 4792, 'trophies': 4793, 'seriously': 4794, 'perfecting': 4795, 'coastline': 4796, 'cuddles': 4797, 'cabinets': 4798, 'therere': 4799, 'allowing': 4800, 'lick': 4801, 'fooball': 4802, 'confines': 4803, 'scrappy': 4804, 'portrayed': 4805, 'pineapple': 4806, 'boars': 4807, 'sunning': 4808, 'korean': 4809, 'denim': 4810, 'broadly': 4811, 'descends': 4812, 'buidling': 4813, 'doorwat': 4814, 'helmetwearing': 4815, 'pirates': 4816, 'mortorcycle': 4817, 'panache': 4818, 'channel': 4819, 'confined': 4820, 'gettign': 4821, 'floppy': 4822, 'cellphones': 4823, 'gates': 4824, 'cove': 4825, 'jug': 4826, 'gallon': 4827, 'firsbe': 4828, 'goose': 4829, 'emperor': 4830, 'fench': 4831, 'playoff': 4832, 'woolen': 4833, 'abdomen': 4834, 'healthy': 4835, 'mature': 4836, 'swirling': 4837, 'cues': 4838, 'closest': 4839, 'ripening': 4840, 'bundle': 4841, 'decapitated': 4842, 'shabby': 4843, 'stomachs': 4844, '29': 4845, 'suburbs': 4846, 'skatebaords': 4847, 'notice': 4848, 'ugliness': 4849, 'fading': 4850, 'definitely': 4851, 'cay': 4852, 'suburbia': 4853, 'grins': 4854, 'ries': 4855, 'tatooed': 4856, 'causally': 4857, 'unban': 4858, 'cartons': 4859, 'pastil': 4860, 'gorup': 4861, 'slobbery': 4862, 'activity': 4863, 'dugouts': 4864, 'stocky': 4865, 'colnett': 4866, 'need': 4867, 'manmade': 4868, 'traveler': 4869, 'boomarang': 4870, 'contorted': 4871, 'mo': 4872, 'blowdrying': 4873, 'abundant': 4874, 'common': 4875, 'handheld': 4876, 'pepsi': 4877, 'camelflage': 4878, 'certainly': 4879, 'liquid': 4880, 'socceron': 4881, 'headboard': 4882, 'goyard': 4883, 'horizon': 4884, 'faintly': 4885, 'vee': 4886, 'wing': 4887, 'fliers': 4888, 'airspace': 4889, 'witting': 4890, 'scared': 4891, 'ballpark': 4892, 'stylist': 4893, 'beauty': 4894, 'haircutting': 4895, 'barber': 4896, 'co': 4897, 'op': 4898, 'exterior': 4899, 'montana': 4900, 'hear': 4901, 'rendering': 4902, 'ng': 4903, 'charater': 4904, 'puff': 4905, 'onthe': 4906, 'awkwardly': 4907, 'frizzebee': 4908, 'prominent': 4909, 'beign': 4910, 'showcased': 4911, 'nationals': 4912, 'commanded': 4913, 'hope': 4914, 'bamboo': 4915, 'whitehaired': 4916, 'trudges': 4917, 'ascending': 4918, 'digging': 4919, 'injuries': 4920, 'wrap': 4921, 'dumping': 4922, 'watcher': 4923, 'plaque': 4924, 'birching': 4925, 'autographed': 4926, 'spotlights': 4927, 'skit': 4928, '6': 4929, '6th': 4930, 'preparations': 4931, 'leftovers': 4932, 'cheers': 4933, 'planing': 4934, 'storing': 4935, 'sunken': 4936, 'dusting': 4937, 'viewed': 4938, 'punts': 4939, 'negotiate': 4940, 'polaroidlooking': 4941, 'harmonica': 4942, 'gaudily': 4943, 'musician': 4944, 'decides': 4945, 'bushels': 4946, 'unripe': 4947, 'parter': 4948, '749': 4949, 'surboard': 4950, 'fine': 4951, 'wan': 4952, 'inn': 4953, 'unimaginable': 4954, 'stillness': 4955, 'development': 4956, 'adjacent': 4957, 'leanding': 4958, 'cameramen': 4959, 'online': 4960, 'inset': 4961, 'remainder': 4962, 'twilight': 4963, 'composed': 4964, 'wimbledon': 4965, '121mph': 4966, 'underneat': 4967, 'swat': 4968, 'miniskirt': 4969, 'guitars': 4970, 'cosplay': 4971, 'sherpard': 4972, 'parkland': 4973, 'article': 4974, 'preteenaged': 4975, 'slight': 4976, 'conducting': 4977, 'textbook': 4978, 'freez': 4979, 'distorted': 4980, 'amidst': 4981, 'volleyballs': 4982, 'graffied': 4983, 'poured': 4984, 'physical': 4985, 'education': 4986, 'effected': 4987, 'briefcase': 4988, 'closing': 4989, 'shephard': 4990, 'toolbox': 4991, 'stained': 4992, 'diagonally': 4993, 'gourmet': 4994, 'belongs': 4995, 'assisting': 4996, 'imperfections': 4997, 'tyke': 4998, 'skimpy': 4999, 'bizarre': 5000, 'rake': 5001, 'vaulting': 5002, 'fumping': 5003, 'amatch': 5004, 'awnings': 5005, 'steadying': 5006, 'imperial': 5007, 'stormtroopers': 5008, 'statuettes': 5009, 'ballcap': 5010, 'freely': 5011, 'vinyl': 5012, 'find': 5013, 'ouch': 5014, 'paused': 5015, 'managers': 5016, 'basefield': 5017, 'presented': 5018, 'chess': 5019, 'recess': 5020, 'indicate': 5021, 'icebox': 5022, 'stan': 5023, 'cloaks': 5024, 'mulitple': 5025, 'unnatural': 5026, 'bate': 5027, 'bracket': 5028, 'extension': 5029, 'thumbnail': 5030, 'michael': 5031, 'jordan': 5032, 'exposed': 5033, 'transporting': 5034, 'femlae': 5035, 'shar': 5036, 'pei': 5037, 'indescribable': 5038, 'heritage': 5039, 'anticipating': 5040, 'actual': 5041, 'cocks': 5042, 'listen': 5043, 'inground': 5044, 'dash': 5045, 'gazes': 5046, 'shin': 5047, 'glare': 5048, 'graceful': 5049, 'flare': 5050, 'amateurs': 5051, 'flipflop': 5052, 'delicacy': 5053, 'lips': 5054, 'parts': 5055, 'bottoms': 5056, '14': 5057, 'agile': 5058, 'cinder': 5059, 'wage': 5060, 'peace': 5061, 'scrounges': 5062, 'bails': 5063, 'cosutme': 5064, 'sundae': 5065, 'og': 5066, 'blank': 5067, 'till': 5068, 'death': 5069, 'playyard': 5070, 'cracked': 5071, 'kent': 5072, 'concave': 5073, 'twisty': 5074, 'bater': 5075, 'liter': 5076, 'papasan': 5077, 'saint': 5078, 'planet': 5079, 'fields': 5080, 'refferee': 5081, 'challenging': 5082, 'quietly': 5083, 'adn': 5084, 'balk': 5085, 'happen': 5086, 'exerting': 5087, 'discussion': 5088, 'soceer': 5089, 'directs': 5090, 'lobbed': 5091, 'pol': 5092, '10': 5093, 'hiting': 5094, 'pyramid': 5095, 'firld': 5096, 'permanent': 5097, 'cruise': 5098, 'sinewy': 5099, 'hardened': 5100, 'indiana': 5101, 'jones': 5102, 'furlined': 5103, 'skins': 5104, 'disagreement': 5105, 'surely': 5106, '25': 5107, 'formed': 5108, 'grid': 5109, 'thirsty': 5110, 'embrace': 5111, 'victorian': 5112, 'marking': 5113, 'sleeveless': 5114, 'groupd': 5115, 'shedded': 5116, 'shelter': 5117, '9': 5118, 'offer': 5119, 'frantically': 5120, 'skateboads': 5121, 'happens': 5122, 'spreading': 5123, 'roles': 5124, 'coart': 5125, 'holders': 5126, 'chances': 5127, 'combination': 5128, 'ont': 5129, 'fists': 5130, 'cesars': 5131, 'babys': 5132, 'intersections': 5133, 'adorn': 5134, 'honoring': 5135, 'stars': 5136, 'aarons': 5137, 'fault': 5138, 'peoople': 5139, 'talentedly': 5140, 'whitebearded': 5141, 'told': 5142, 'pavements': 5143, 'tripped': 5144, 'delicately': 5145, 'motorcyle': 5146, 'perpendicular': 5147, 'lfield': 5148, 'warms': 5149, 'campstove': 5150, 'campsite': 5151, 'barbecue': 5152, 'moderately': 5153, 'ann': 5154, 'ideas': 5155, 'crossigna': 5156, 'kerchief': 5157, 'refrlection': 5158, 'returing': 5159, 'lowered': 5160, 'mirrors': 5161, 'reflextion': 5162, 'review': 5163, 'saw': 5164, 'pigeon': 5165, 'swab': 5166, 'sown': 5167, 'cleaned': 5168, 'cliffy': 5169, 'corn': 5170, 'abou': 5171, 'tot': 5172, 'ships': 5173, 'mutt': 5174, 'jeff': 5175, 'photoed': 5176, 'deflect': 5177, 'leathers': 5178, 'waterskiis': 5179, 'campground': 5180, 'crests': 5181, 'allwhite': 5182, 'tyedye': 5183, 'album': 5184, 'snuggling': 5185, 'dogson': 5186, 'skatebloarding': 5187, 'freshly': 5188, 'olympic': 5189, 'doen': 5190, 'piicture': 5191, 'nightstand': 5192, 'playrt': 5193, 'tackle': 5194, 'larg': 5195, 'skatingstreet': 5196, 'luging': 5197, 'searching': 5198, 'cases': 5199, 'thirties': 5200, 'forties': 5201, 'fastfood': 5202, 'juming': 5203, 'dresswear': 5204, 'creates': 5205, 'gravity': 5206, 'widewalk': 5207, 'readied': 5208, 'custom': 5209, 'boogie': 5210, 'mowers': 5211, 'lefthanded': 5212, 'ging': 5213, 'thte': 5214, 'aer': 5215, 'natural': 5216, 'pre': 5217, 'valleys': 5218, 'scaring': 5219, 'french': 5220, 'fries': 5221, 'discarded': 5222, 'wicket': 5223, 'sips': 5224, 'canned': 5225, 'towars': 5226, 'yellowish': 5227, 'dispenser': 5228, 'gaze': 5229, 'portions': 5230, 'doberman': 5231, 'concerned': 5232, 'headdress': 5233, 'carring': 5234, 'veggie': 5235, 'lurching': 5236, 'enroute': 5237, 'outfielders': 5238, 'spandex': 5239, 'fringed': 5240, 'erection': 5241, 'cruz': 5242, 'knick': 5243, 'nacks': 5244, 'joker': 5245, 'ceramics': 5246, 'canopies': 5247, 'companies': 5248, 'teh': 5249, 'wax': 5250, 'simultaneously': 5251, 'sloe': 5252, 'ant': 5253, 'scours': 5254, 'swatting': 5255, 'unsuccessfully': 5256, 'pines': 5257, 'labs': 5258, 'othes': 5259, 'anxious': 5260, 'fanny': 5261, 'washes': 5262, 'soaked': 5263, 'project': 5264, 'wires': 5265, 'automobile': 5266, 'disheveled': 5267, 'winning': 5268, 'experiences': 5269, 'victory': 5270, 'vs': 5271, 'congratulate': 5272, 'pump': 5273, 'documenting': 5274, 'gropes': 5275, 'eighteen': 5276, 'skateboarer': 5277, 'skidding': 5278, '18': 5279, 'flab': 5280, 'gang': 5281, 'coping': 5282, 'leaguers': 5283, 'bill': 5284, 'ass': 5285, 'scrapping': 5286, 'signature': 5287, 'sculpted': 5288, 'shattered': 5289, 'drugs': 5290, 'search': 5291, 'roaming': 5292, 'sectioned': 5293, 'mariner': 5294, 'crates': 5295, 'bonfire': 5296, 'gaining': 5297, 'timey': 5298, 'hoods': 5299, 'chanced': 5300, 'handler': 5301, 'length': 5302, 'inquisitively': 5303, 'femaales': 5304, 'midway': 5305, 'duffle': 5306, 'amp': 5307, 'decorative': 5308, 'ferry': 5309, 'gains': 5310, 'witha': 5311, 'everything': 5312, 'stocking': 5313, 'booed': 5314, 'ineptness': 5315, 'basset': 5316, 'blueandwhite': 5317, 'witnessing': 5318, '360': 5319, 'prepairing': 5320, 'conducts': 5321, 'load': 5322, 'handlebar': 5323, 'handlebars': 5324, 'think': 5325, 'shrugs': 5326, 'irish': 5327, 'setter': 5328, 'gearing': 5329, 'femqle': 5330, 'standards': 5331, 'crooked': 5332, 'hurdling': 5333, 'beaches': 5334, 'locals': 5335, 'fearfully': 5336, 'grave': 5337, 'beachside': 5338, 'girlw': 5339, 'petioner': 5340, 'platter': 5341, 'tht': 5342, 'lanky': 5343, 'barnred': 5344, 'thinly': 5345, 'incredibly': 5346, 'nd': 5347, 'peple': 5348, 'calmly': 5349, 'brow': 5350, 'coughs': 5351, 'interested': 5352, 'baskets': 5353, 'basked': 5354, 'wheeler': 5355, 'quad': 5356, 'tote': 5357, 'drawer': 5358, 'draped': 5359, 'illusional': 5360, 'meshed': 5361, 'welcome': 5362, 'disturb': 5363, 'efforts': 5364, 'peron': 5365, 'imges': 5366, 'headbutting': 5367, 'trips': 5368, 'coupl': 5369, 'perspiring': 5370, 'packers': 5371, 'backpackers': 5372, 'mountainside': 5373, 'twine': 5374, 'wining': 5375, 'whiteclad': 5376, 'dong': 5377, 'super': 5378, 'reachig': 5379, 'femal': 5380, 'parkour': 5381, 'nordic': 5382, 'tablecloth': 5383, 'lifevest': 5384, 'snowless': 5385, 'encompassing': 5386, 'demonstrated': 5387, 'barstool': 5388, 'pizzeria': 5389, 'workshop': 5390, 'phillies': 5391, 'deal': 5392, 'brand': 5393, 'racy': 5394, 'scantily': 5395, 'thegrass': 5396, 'lads': 5397, 'often': 5398, 'baseballers': 5399, 'slabs': 5400, 'upset': 5401, 'asking': 5402, 'question': 5403, 'mad': 5404, 'unanticipated': 5405, 'supported': 5406, 'stun': 5407, 'skatebaorder': 5408, 'moribilia': 5409, 'memorabilia': 5410, 'batsballs': 5411, 'baseballrelated': 5412, 'syringes': 5413, 'vials': 5414, 'prior': 5415, 'laden': 5416, 'bubble': 5417, 'mouthed': 5418, 'peeing': 5419, 'pressing': 5420, 'walled': 5421, 'rale': 5422, 'freesbee': 5423, '3rd': 5424, 'truly': 5425, 'wonderful': 5426, 'retired': 5427, 'rummaging': 5428, 'sparkly': 5429, 'metallic': 5430, 'sparkling': 5431, 'hhouse': 5432, 'rounded': 5433, 'nicely': 5434, 'shoelaces': 5435, 'promenade': 5436, 'flowering': 5437, 'trotting': 5438, 'mascots': 5439, 'staris': 5440, 'trashcan': 5441, 'signaling': 5442, 'teamate': 5443, 'helper': 5444, 'droping': 5445, 'instructors': 5446, 'unfolds': 5447, '20th': 5448, 'sunday': 5449, 'brim': 5450, 'nailed': 5451, 'mains': 5452, 'shuttlecock': 5453, 'fuels': 5454, 'accomplishes': 5455, 'faced': 5456, 'grumpy': 5457, 'uphill': 5458, 'holing': 5459, 'wooding': 5460, 'afence': 5461, 'columned': 5462, 'completes': 5463, 'circles': 5464, 'bumps': 5465, 'curves': 5466, 'raqcuet': 5467, 'hearding': 5468, 'attendees': 5469, 'dramatic': 5470, 'ia': 5471, 'staining': 5472, 'aspect': 5473, 'digitally': 5474, 'unattended': 5475, 'sparked': 5476, 'slinging': 5477, 'bisected': 5478, 'printed': 5479, 'logos': 5480, 'whitewearing': 5481, 'browsing': 5482, 'literature': 5483, 'merchandise': 5484, 'immersed': 5485, 'crest': 5486, 'fully': 5487, 'respective': 5488, 'downs': 5489, 'shapes': 5490, 'departing': 5491, 'snuggie': 5492, 'rugged': 5493, 'wraps': 5494, 'hardcourt': 5495, 'backroad': 5496, 'slapping': 5497, 'congratulatory': 5498, 'basebakl': 5499, 'skateboader': 5500, 'sidewalkwith': 5501, 'lets': 5502, 'name': 5503, 'gomez': 5504, 'senior': 5505, 'citizen': 5506, 'grandma': 5507, 'execute': 5508, 'chats': 5509, 'cellular': 5510, 'colar': 5511, 'eis': 5512, 'amazing': 5513, 'muscular': 5514, 'holster': 5515, 'chaps': 5516, 'railslide': 5517, 'skaterink': 5518, 'defends': 5519, 'ahs': 5520, 'sat': 5521, 'drooping': 5522, 'batch': 5523, 'drown': 5524, 'beings': 5525, 'ranchers': 5526, 'skirts': 5527, 'historical': 5528, 'skatebosrd': 5529, 'spectates': 5530, 'graphicssign': 5531, 'tenders': 5532, 'spiky': 5533, 'surprise': 5534, 'teeters': 5535, 'verandah': 5536, 'average': 5537, 'contestants': 5538, 'vain': 5539, 'metro': 5540, 'degraded': 5541, 'swiveling': 5542, 'weaves': 5543, 'knelt': 5544, 'assembled': 5545, 'powder': 5546, 'ackwardly': 5547, 'drum': 5548, 'tubular': 5549, 'standng': 5550, 'helemt': 5551, 'certificate': 5552, 'achievement': 5553, 'dunks': 5554, 'whitedressed': 5555, 'halloween': 5556, 'trekking': 5557, 'sunrise': 5558, 'relatively': 5559, 'granite': 5560, 'planters': 5561, 'seemingly': 5562, 'downwards': 5563, 'allow': 5564, 'hooding': 5565, 'wiith': 5566, 'teennis': 5567, 'hoisted': 5568, 'trycycle': 5569, 'towers': 5570, 'futon': 5571, 'climbers': 5572, 'craws': 5573, 'risk': 5574, 'strapping': 5575, 'securing': 5576, 'runway': 5577, 'leisure': 5578, 'streetlight': 5579, 'gesturing': 5580, 'egg': 5581, 'handsfree': 5582, 'fabric': 5583, 'gain': 5584, 'offensively': 5585, 'rods': 5586, 'steroid': 5587, 'aspects': 5588, 'trials': 5589, 'completed': 5590, 'propelled': 5591, 'scenes': 5592, 'concept': 5593, 'current': 5594, 'venus': 5595, 'williams': 5596, 'plunge': 5597, 'cominmg': 5598, 'likes': 5599, 'flyimg': 5600, 'ither': 5601, 'hurries': 5602, '12': 5603, 'protesting': 5604, 'petland': 5605, 'boycotting': 5606, 'mills': 5607, 'whil': 5608, 'deflecting': 5609, 'crunched': 5610, 'steady': 5611, 'soar': 5612, 'confident': 5613, 'hesitant': 5614, 'fried': 5615, 'opponet': 5616, 'tenis': 5617, 'fluorescentcolored': 5618, 'abook': 5619, 'daughters': 5620, 'oil': 5621, 'changing': 5622, 'enforcement': 5623, 'patting': 5624, 'operator': 5625, 'kayaking': 5626, 'skype': 5627, 'geared': 5628, 'youngest': 5629, 'trucker': 5630, 'rearing': 5631, 'hitterat': 5632, 'trys': 5633, 'traditionally': 5634, 'growing': 5635, 'cardigan': 5636, 'content': 5637, 'showed': 5638, 'hippie': 5639, 'ongoing': 5640, 'divides': 5641, 'backyards': 5642, 'abilities': 5643, 'flagpole': 5644, 'battercatcher': 5645, 'skaterboader': 5646, 'rush': 5647, 'paraglider': 5648, 'song': 5649, 'movements': 5650, 'paddleboard': 5651, 'paddler': 5652, 'jersies': 5653, 'sleds': 5654, 'bob': 5655, 'moan': 5656, 'noodles': 5657, 'pliers': 5658, 'nutcrackers': 5659, 'powered': 5660, 'salutes': 5661, 'modified': 5662, 'tires': 5663, 'monster': 5664, 'yoing': 5665, 'fondling': 5666, 'kittens': 5667, 'peers': 5668, 'acoustic': 5669, 'ceramic': 5670, 'hustling': 5671, 'doodling': 5672, 'patk': 5673, 'whike': 5674, 'builing': 5675, 'bapp': 5676, 'os': 5677, 'shrine': 5678, 'continue': 5679, 'readys': 5680, 'racking': 5681, 'oblivious': 5682, 'eagles': 5683, 'ticks': 5684, 'linger': 5685, 'hurling': 5686, 'studding': 5687, 'madonna': 5688, 'stiletto': 5689, 'sheettent': 5690, 'fort': 5691, 'curbside': 5692, 'nonetheless': 5693, 'cringes': 5694, 'pride': 5695, 'doublegripping': 5696, 'tapping': 5697, 'expectant': 5698, 'toned': 5699, 'excersise': 5700, 'sheltered': 5701, 'responsible': 5702, 'overalls': 5703, 'backgrund': 5704, 'whispering': 5705, 'hatched': 5706, 'canoes': 5707, 'tends': 5708, 'congratulates': 5709, 'skatebosrding': 5710, 'thermos': 5711, 'ottoman': 5712, 'sectional': 5713, 'map': 5714, 'yankee': 5715, 'lumber': 5716, 'poeple': 5717, 'contruction': 5718, 'downstairs': 5719, 'cartoons': 5720, 'lighting': 5721, 'berm': 5722, 'reader': 5723, 'bly': 5724, 'mum': 5725, 'motherly': 5726, 'sksteboard': 5727, 'sightone': 5728, 'celebration': 5729, 'spin': 5730, 'describe': 5731, 'homework': 5732, 'manuevering': 5733, 'converses': 5734, 'argument': 5735, 'consult': 5736, 'conrete': 5737, 'autumnal': 5738, 'laft': 5739, 'slugged': 5740, 'ylthe': 5741, 'attentive': 5742, 'brushes': 5743, 'masters': 5744, 'banners': 5745, 'wi': 5746, 'beaning': 5747, 'flyers': 5748, 'slate': 5749, 'bparder': 5750, 'vertically': 5751, 'musical': 5752, 'insturments': 5753, 'magicians': 5754, 'dudes': 5755, 'wrack': 5756, 'backstop': 5757, 'result': 5758, 'viadock': 5759, 'task': 5760, 'drug': 5761, 'corridor': 5762, '21st': 5763, 'purchases': 5764, 'bend': 5765, 'w': 5766, 'puddles': 5767, 'abiut': 5768, 'transported': 5769, 'motocycle': 5770, 'clearly': 5771, 'decide': 5772, 'champ': 5773, 'failed': 5774, 'bulding': 5775, 'streetseated': 5776, 'unplanted': 5777, 'stormtrooper': 5778, 'resemble': 5779, 'replicates': 5780, 'knickknacks': 5781, 'hosing': 5782, 'daddy': 5783, 'raincoats': 5784, 'argyle': 5785, 'cout': 5786, 'tanding': 5787, 'grafifti': 5788, 'kill': 5789, 'die': 5790, 'bard': 5791, 'asphalted': 5792, 'accidentally': 5793, 'aboard': 5794, 'banister': 5795, 'stay': 5796, 'lage': 5797, 'cord': 5798, 'dozen': 5799, 'fearless': 5800, 'tackles': 5801, 'menswear': 5802, 'darkened': 5803, 'stays': 5804, 'loveseat': 5805, 'knock': 5806, 'vendors': 5807, 'normally': 5808, 'observed': 5809, 'hgh': 5810, 'change': 5811, 'cracks': 5812, 'mastering': 5813, 'profoundly': 5814, 'beneficial': 5815, 'teacher': 5816, 'badly': 5817, 'zipping': 5818, 'obscuring': 5819, 'recover': 5820, 'brilliant': 5821, 'shave': 5822, 'reclined': 5823, 'experimenting': 5824, 'unoccupied': 5825, 'crab': 5826, 'lobster': 5827, 'saddle': 5828, 'rns': 5829, 'hop': 5830, 'contentedly': 5831, 'scratched': 5832, 'clothed': 5833, 'playes': 5834, 'orders': 5835, 'buying': 5836, 'chinese': 5837, 'diced': 5838, 'chopped': 5839, 'chopping': 5840, 'chops': 5841, 'seattle': 5842, 'betting': 5843, 'designated': 5844, 'speckle': 5845, 'sunbathers': 5846, 'guru': 5847, 'cashier': 5848, 'rapping': 5849, 'volleyed': 5850, 'engages': 5851, 'diamonds': 5852, 'unattractive': 5853, 'uninspired': 5854, 'sheriff': 5855, 'retail': 5856, 'farmhouse': 5857, 'frizbees': 5858, 'tussle': 5859, 'elevator': 5860, 'gauges': 5861, 'protecting': 5862, 'danger': 5863, 'lodged': 5864, 'miles': 5865, 'scaling': 5866, 'behinds': 5867, 'solit': 5868, 'jumpingfalling': 5869, 'wetsuits': 5870, 'coordinating': 5871, 'forceful': 5872, 'slipped': 5873, 'hurl': 5874, 'umberellas': 5875, 'demolition': 5876, 'den': 5877, 'dusty': 5878, 'ornate': 5879, 'pleasure': 5880, 'vacation': 5881, 'dream': 5882, 'wife': 5883, 'overview': 5884, 'handling': 5885, 'scenic': 5886, 'sidestreet': 5887, 'touristy': 5888, 'vet': 5889, 'coasts': 5890, 'girlfriend': 5891, 'glider': 5892, 'browse': 5893, 'browses': 5894, 'pamphlet': 5895, 'catalog': 5896, 'chips': 5897, 'stating': 5898, 'im': 5899, 'wrapper': 5900, 'taste': 5901, 'bunny': 5902, 'ivy': 5903, 'curiously': 5904, 'undressed': 5905, 'heat': 5906, 'dued': 5907, 'mattresses': 5908, 'spraypainted': 5909, 'eatery': 5910, 'uniformthrowing': 5911, 'gropu': 5912, 'laxidaisy': 5913, 'frown': 5914, 'blat': 5915, 'punting': 5916, 'mmutl': 5917, 'icolored': 5918, 'gree': 5919, 'tucks': 5920, 'stopmotion': 5921, 'chubby': 5922, 'bracelets': 5923, 'sister': 5924, 'outreached': 5925, 'tuxedo': 5926, 'beachgoers': 5927, 'emotion': 5928, 'arizona': 5929, 'diamondbacks': 5930, 'festive': 5931, 'confidently': 5932, '4th': 5933, 'patriotically': 5934, 'fourth': 5935, 'helment': 5936, 'protection': 5937, 'talented': 5938, 'settings': 5939, 'whilte': 5940, 'commands': 5941, 'indicating': 5942, 'bundled': 5943, 'earing': 5944, 'bonet': 5945, 'dag': 5946, 'ganging': 5947, 'selves': 5948, 'aside': 5949, 'evade': 5950, 'errant': 5951, 'championship': 5952, 'wigged': 5953, 'festivities': 5954, 'sneakered': 5955, 'somebodys': 5956, 'desserts': 5957, 'dessert': 5958, 'rub': 5959, 'checkerboard': 5960, 'rugs': 5961, 'interior': 5962, 'less': 5963, 'provocative': 5964, 'seethru': 5965, 'lacy': 5966, 'anyone': 5967, 'loud': 5968, 'situated': 5969, 'bisecting': 5970, 'banking': 5971, 'turnings': 5972, 'tattoes': 5973, 'volcom': 5974, 'later': 5975, 'ensues': 5976, 'tide': 5977, 'waxed': 5978, 'expose': 5979, 'steam': 5980, 'tags': 5981, 'selfie': 5982, 'warded': 5983, 'awarded': 5984, 'wieters': 5985, 'presenting': 5986, '32': 5987, 'results': 5988, 'organizing': 5989, 'paintings': 5990, 'denims': 5991, 'splendid': 5992, 'upskirt': 5993, 'crotch': 5994, 'televised': 5995, 'again': 5996, 'sandich': 5997, 'curious': 5998, 'products': 5999, 'tiptoes': 6000, 'tanning': 6001, 'cockpit': 6002, 'braces': 6003, 'perfect': 6004, 'craft': 6005, 'cameral': 6006, 'india': 6007, '99': 6008, 'cent': 6009, 'marine': 6010, 'sportsmen': 6011, 'backed': 6012, 'ahill': 6013, 'inches': 6014, 'obese': 6015, 'prepping': 6016, 'dangled': 6017, 'logoemblazoned': 6018, 'skort': 6019, 'doublehanded': 6020, 'drawings': 6021, 'mitton': 6022, 'gane': 6023, 'watiting': 6024, 'dynamic': 6025, 'interaction': 6026, 'officiate': 6027, 'tentatively': 6028, 'period': 6029, 'celebrate': 6030, 'interference': 6031, 'praying': 6032, 'huddling': 6033, 'thanksgiving': 6034, 'determinedly': 6035, 'perched': 6036, 'picnicking': 6037, 'picnickers': 6038, 'forfor': 6039, 'gothic': 6040, 'emo': 6041, 'chick': 6042, 'shutters': 6043, 'longlegged': 6044, 'weiner': 6045, 'cooling': 6046, 'detour': 6047, 'zooming': 6048, 'skim': 6049, 'forlorn': 6050, 'overcast': 6051, 'boatfilled': 6052, 'rippling': 6053, 'calfhigh': 6054, 'floatboard': 6055, 'ceremonial': 6056, 'astronaut': 6057, 'offered': 6058, 'staricase': 6059, 'tunes': 6060, 'balding': 6061, 'regards': 6062, 'font': 6063, 'vrieling': 6064, 'retaining': 6065, 'offroad': 6066, 'tourist': 6067, 'attraction': 6068, 'vines': 6069, 'pinoy': 6070, 'barricades': 6071, 'conferring': 6072, 'escaping': 6073, 'weeping': 6074, 'willows': 6075, 'catchng': 6076, 'righthanded': 6077, 'variant': 6078, 'fmily': 6079, 'un': 6080, 'bernese': 6081, 'teased': 6082, 'plies': 6083, 'trade': 6084, 'wildcats': 6085, 'environment': 6086, 'peope': 6087, 'nobles': 6088, 'chiguagua': 6089, 'fives': 6090, 'highfiveing': 6091, 'jon': 6092, 'katz': 6093, 'district': 6094, 'charges': 6095, 'gillette': 6096, 'sided': 6097, 'sneaks': 6098, 'freezeframe': 6099, 'manicured': 6100, 'tatoos': 6101, 'stumbling': 6102, 'boad': 6103, 'formally': 6104, 'ana': 6105, 'carmel': 6106, 'fork': 6107, 'utensils': 6108, 'variation': 6109, 'madly': 6110, 'hate': 6111, 'overgrown': 6112, 'vegetation': 6113, 'stood': 6114, 'amphitheater': 6115, 'glide': 6116, 'grade': 6117, 'overlook': 6118, 'sexes': 6119, 'states': 6120, 'cullifer': 6121, 'skateb': 6122, 'becoming': 6123, 'ptich': 6124, 'lean': 6125, 'differnet': 6126, 'goalpost': 6127, 'soulful': 6128, 'colide': 6129, 'underground': 6130, 'fenchh': 6131, 'battering': 6132, 'aball': 6133, 'midtrick': 6134, 'lensed': 6135, 'leage': 6136, 'dodges': 6137, 'voice': 6138, 'powers': 6139, 'stiicking': 6140, 'resume': 6141, 'invisible': 6142, 'ghostly': 6143, 'bink': 6144, 'counters': 6145, 'menu': 6146, 'deli': 6147, 'certain': 6148, 'smooth': 6149, 'surfs': 6150, 'wicker': 6151, 'ballduring': 6152, 'plaerys': 6153, 'stable': 6154, 'copying': 6155, 'enraged': 6156, 'skatebords': 6157, 'styling': 6158, 'address': 6159, 'luge': 6160, 'bet': 6161, 'champion': 6162, 'recket': 6163, 'twohanded': 6164, 'connection': 6165, 'tapes': 6166, 'daredevil': 6167, 'smokes': 6168, 'raincovered': 6169, 'firsbee': 6170, 'entangled': 6171, 'advert': 6172, 'phases': 6173, 'gaily': 6174, 'cruises': 6175, 'sweet': 6176, 'galloping': 6177, 'skeateboard': 6178, 'cloud': 6179, 'marshall': 6180, 'arts': 6181, 'overall': 6182, 'karate': 6183, 'checked': 6184, 'basebat': 6185, 'flings': 6186, 'engines': 6187, 'waterslicked': 6188, 'ninety': 6189, 'coed': 6190, 'picturesque': 6191, 'streamers': 6192, 'freighter': 6193, 'masts': 6194, 'galling': 6195, 'decline': 6196, 'locking': 6197, 'knitted': 6198, 'slacks': 6199, 'usual': 6200, 'bees': 6201, 'express': 6202, 'mailbox': 6203, 'ranch': 6204, 'ona': 6205, 'azn': 6206, 'sk8rs': 6207, 'chillin': 6208, 'gnarr': 6209, 'wimbeldon': 6210, 'scree': 6211, 'ginger': 6212, 'mosaic': 6213, 'tiles': 6214, 'italy': 6215, 'ariel': 6216, 'proceeding': 6217, 'pens': 6218, 'autograph': 6219, '711': 6220, 'tosaing': 6221, 'authority': 6222, 'gunman': 6223, 'ranger': 6224, 'admire': 6225, 'draft': 6226, 'sleigh': 6227, 'clydesdale': 6228, 'dummy': 6229, 'swong': 6230, 'tailed': 6231, 'ht': 6232, 'ata': 6233, 'lazy': 6234, 'amusement': 6235, 'gallop': 6236, 'mallet': 6237, 'uncooked': 6238, 'baked': 6239, 'glow': 6240, 'captivity': 6241, 'bundles': 6242, 'brewers': 6243, 'bracketed': 6244, 'support': 6245, 'fix': 6246, 'gazebo': 6247, 'pavilion': 6248, 'roads': 6249, 'sequenced': 6250, 'gone': 6251, 'fling': 6252, 'caring': 6253, 'skatebarding': 6254, 'guarded': 6255, 'wtih': 6256, 'bushel': 6257, 'nestled': 6258, 'achieved': 6259, 'containers': 6260, 'handled': 6261, 'midfield': 6262, 'nature': 6263, 'crocs': 6264, 'peach': 6265, 'pasenger': 6266, 'peel': 6267, 'bananna': 6268, '11': 6269, 'windy': 6270, 'shield': 6271, 'huddle': 6272, 'successive': 6273, 'powdered': 6274, 'breakfast': 6275, 'dows': 6276, 'hi': 6277, 'te': 6278, 'derelict': 6279, 'palyer': 6280, 'comp': 6281, 'warmlylit': 6282, 'correct': 6283, 'blinding': 6284, 'technical': 6285, 'chalked': 6286, 'write': 6287, 'note': 6288, 'spiked': 6289, 'somehwat': 6290, 'bagging': 6291, 'easel': 6292, 'biscuit': 6293, 'hungry': 6294, 'coin': 6295, 'sock': 6296, 'hides': 6297, 'elses': 6298, 'sheering': 6299, 'shorn': 6300, 'shearing': 6301, 'pedigree': 6302, 'lassy': 6303, 'charge': 6304, 'free': 6305, 'ph': 6306, 'resplendent': 6307, 'billboards': 6308, 'supporting': 6309, 'kimono': 6310, 'users': 6311, 'recently': 6312, 'startled': 6313, 'piled': 6314, 'exposing': 6315, 'buttock': 6316, 'scratches': 6317, 'harnessed': 6318, 'biard': 6319, 'restraints': 6320, 'ding': 6321, 'skip': 6322, 'longboards': 6323, 'grapple': 6324, 'goals': 6325, 'cgi': 6326, 'bombarded': 6327, 'virtual': 6328, 'pelted': 6329, 'mallets': 6330, 'discuss': 6331, 'congregated': 6332, 'prizes': 6333, 'creativity': 6334, 'globe': 6335, 'elaborate': 6336, 'poolside': 6337, 'flied': 6338, 'cradled': 6339, 'furnished': 6340, 'skillful': 6341, 'pncbank': 6342, 'rick': 6343, 'mule': 6344, 'wrigley': 6345, 'twins': 6346, 'stading': 6347, 'terrace': 6348, 'hoops': 6349, 'stilts': 6350, 'beright': 6351, 'years': 6352, 'ladyare': 6353, 'loose': 6354, 'dressings': 6355, 'crazy': 6356, 'wellmowed': 6357, 'pennant': 6358, 'emote': 6359, 'media': 6360, 'depicts': 6361, 'ran': 6362, 'standoff': 6363, 'sheepherder': 6364, 'trailing': 6365, 'hairstyle': 6366, 'culvert': 6367, 'aqueduct': 6368, 'shined': 6369, 'unbuttoned': 6370, 'roadparking': 6371, 'mastered': 6372, 'canada': 6373, 'patrons': 6374, 'coast': 6375, 'kept': 6376, 'drawera': 6377, 'amid': 6378, 'specatcular': 6379, 'triangle': 6380, 'quest': 6381, 'fender': 6382, 'tryng': 6383, 'trap': 6384, 'tails': 6385, 'everyday': 6386, 'arpir': 6387, 'trcok': 6388, 'whisper': 6389, 'mighty': 6390, 'bathe': 6391, 'bodies': 6392, 'bach': 6393, 'final': 6394, 'shares': 6395, 'chelseafc': 6396, 'jumper': 6397, 'compilation': 6398, 'cocker': 6399, 'snuggles': 6400, 'outboard': 6401, 'airl': 6402, 'complicated': 6403, 'gnarly': 6404, 'indy': 6405, 'gradd': 6406, 'skatingboard': 6407, 'preschool': 6408, 'tunic': 6409, 'allows': 6410, 'ben': 6411, 'chars': 6412, 'parke': 6413, 'dive': 6414, 'emergency': 6415, 'defecating': 6416, 'fieldgetting': 6417, 'temple': 6418, 'tattood': 6419, 'surveys': 6420, 'swerving': 6421, 'pupping': 6422, 'incredible': 6423, 'minute': 6424, 'knew': 6425, 'nikes': 6426, 'penguins': 6427, 'kicker': 6428}\n"
          ]
        }
      ],
      "source": [
        "print(total_words)\n",
        "print(tokenizer.word_index)\n"
      ]
    },
    {
      "cell_type": "code",
      "source": [
        "dataset_list = list(dataset)\n",
        "\n",
        "\n",
        "sample_link = dataset_list[0]\n",
        "\n",
        "\n",
        "sample_captions = dataset[sample_link]\n",
        "\n",
        "\n",
        "sample_link, sample_captions"
      ],
      "metadata": {
        "colab": {
          "base_uri": "https://localhost:8080/"
        },
        "id": "C4YlfkJY7Qe9",
        "outputId": "b82aafba-aac4-439f-ac8e-eb717b00944f"
      },
      "id": "C4YlfkJY7Qe9",
      "execution_count": null,
      "outputs": [
        {
          "output_type": "execute_result",
          "data": {
            "text/plain": [
              "('http://images.cocodataset.org/train2017/000000457478.jpg',\n",
              " ['<start> a dog in a public swimming pool swimming <end>',\n",
              "  '<start> dog swimming in outdoor pool on sunny day <end>',\n",
              "  '<start> a dog splashes through a public water pool in a park <end>',\n",
              "  '<start> dog enjoying a splash through a plaza lake on a sunny day <end>',\n",
              "  '<start> a dog splashing and swimming in a public lake <end>'])"
            ]
          },
          "metadata": {},
          "execution_count": 37
        }
      ]
    },
    {
      "cell_type": "code",
      "source": [
        "def process_an_image(img, imsize = (299,299)):\n",
        "\n",
        "  # io.imread -> image \"img 파일은 http 주소 형태\" #\n",
        "  # \n",
        "\n",
        "# for img in tqdm(dataset.keys()):\n",
        "    image = io.imread(img)\n",
        "    if image.ndim != 3:\n",
        "        image = cv2.cvtColor(image,cv2.COLOR_GRAY2RGB)\n",
        "    \n",
        "    # Resize each image size 299 x 299\n",
        "    image = cv2.resize(image,imsize)\n",
        "    image = np.expand_dims(image, axis=0)\n",
        "    \n",
        "    # Normalize image pixels\n",
        "    image = image/127.5\n",
        "    image = image - 1.0\n",
        "    return image\n",
        "\n",
        "test_img = process_an_image(sample_link)\n",
        "\n",
        "test_img.shape\n",
        "\n",
        "\n"
      ],
      "metadata": {
        "colab": {
          "base_uri": "https://localhost:8080/"
        },
        "id": "nyCD6Bz776o2",
        "outputId": "3de833c8-1d2c-4d7c-deca-9702aaa67ad1"
      },
      "id": "nyCD6Bz776o2",
      "execution_count": null,
      "outputs": [
        {
          "output_type": "execute_result",
          "data": {
            "text/plain": [
              "(1, 299, 299, 3)"
            ]
          },
          "metadata": {},
          "execution_count": 47
        }
      ]
    },
    {
      "cell_type": "markdown",
      "id": "a70f6538",
      "metadata": {
        "id": "a70f6538",
        "papermill": {
          "duration": 0.073175,
          "end_time": "2022-09-14T19:06:05.796956",
          "exception": false,
          "start_time": "2022-09-14T19:06:05.723781",
          "status": "completed"
        },
        "tags": []
      },
      "source": [
        "# Preprocess and caching the features extracted from InceptionV3\n",
        "\n",
        "I will use InceptionV3 (which is pretrained on Imagenet) to classify each image. I will extract features from the last convolutional layer. This is also called a tranfer learning.\n",
        "\n",
        "Since the Xception model was originally built for **imagenet**, we will do little changes for integrating with our model. Here, the Xception model takes **100 x 100 x 3** image size as input. We will remove the last classification layer and get the **2048 feature vector**."
      ]
    },
    {
      "cell_type": "code",
      "execution_count": null,
      "id": "cE1H-eZtLd62",
      "metadata": {
        "id": "cE1H-eZtLd62"
      },
      "outputs": [],
      "source": [
        "\n",
        "from tensorflow.keras.layers import GlobalAveragePooling1D\n",
        "\n",
        "def CNN_Encoder(): # Inception\n",
        "    inception_v3 = tf.keras.applications.InceptionV3(\n",
        "        include_top=False,\n",
        "        weights='imagenet'\n",
        "    )\n",
        "\n",
        "    output = inception_v3.output\n",
        "    print(\"output1\\n\", output,\"\\n------------------------------------------------------------\")\n",
        "    # inception_v3.output , 즉    (None, 2048) \n",
        "\n",
        "    output = tf.keras.layers.Reshape(\n",
        "        (-1, output.shape[-1]))(output)\n",
        "    # output after reshape\n",
        "\n",
        "    print(\"output2\\n\", output,\"\\n------------------------------------------------------------\")\n",
        "\n",
        "    output = GlobalAveragePooling1D()(output)\n",
        "\n",
        "    cnn_model = tf.keras.models.Model(inception_v3.input, output)\n",
        "    return cnn_model, output\n",
        "\n"
      ]
    },
    {
      "cell_type": "code",
      "source": [],
      "metadata": {
        "id": "LNS7G9Ji6kuX"
      },
      "id": "LNS7G9Ji6kuX",
      "execution_count": null,
      "outputs": []
    },
    {
      "cell_type": "code",
      "execution_count": null,
      "id": "eTejVthcSWzT",
      "metadata": {
        "id": "eTejVthcSWzT",
        "colab": {
          "base_uri": "https://localhost:8080/"
        },
        "outputId": "0621268a-f961-41ba-9341-89f9d0139f2f"
      },
      "outputs": [
        {
          "output_type": "stream",
          "name": "stdout",
          "text": [
            "output1\n",
            " KerasTensor(type_spec=TensorSpec(shape=(None, None, None, 2048), dtype=tf.float32, name=None), name='mixed10/concat:0', description=\"created by layer 'mixed10'\") \n",
            "------------------------------------------------------------\n",
            "output2\n",
            " KerasTensor(type_spec=TensorSpec(shape=(None, None, 2048), dtype=tf.float32, name=None), name='reshape_5/Reshape:0', description=\"created by layer 'reshape_5'\") \n",
            "------------------------------------------------------------\n"
          ]
        },
        {
          "output_type": "execute_result",
          "data": {
            "text/plain": [
              "TensorShape([1, 2048])"
            ]
          },
          "metadata": {},
          "execution_count": 49
        }
      ],
      "source": [
        "model_incep = CNN_Encoder()[0]\n",
        "\n",
        "test_features = model_incep(test_img)\n",
        "\n",
        "\n",
        "test_features.shape\n",
        "\n"
      ]
    },
    {
      "cell_type": "code",
      "execution_count": null,
      "id": "k4lZuxPQYT3P",
      "metadata": {
        "id": "k4lZuxPQYT3P"
      },
      "outputs": [],
      "source": [
        "# model_incep.summary()"
      ]
    },
    {
      "cell_type": "code",
      "execution_count": null,
      "id": "6f6fd7a0",
      "metadata": {
        "execution": {
          "iopub.execute_input": "2022-09-14T19:06:05.944031Z",
          "iopub.status.busy": "2022-09-14T19:06:05.943407Z",
          "iopub.status.idle": "2022-09-14T20:49:45.464578Z",
          "shell.execute_reply": "2022-09-14T20:49:45.463636Z"
        },
        "id": "6f6fd7a0",
        "papermill": {
          "duration": 6219.59657,
          "end_time": "2022-09-14T20:49:45.466654",
          "exception": false,
          "start_time": "2022-09-14T19:06:05.870084",
          "status": "completed"
        },
        "tags": []
      },
      "outputs": [],
      "source": [
        "# model = Xception(include_top=False, pooling='avg',  weights='imagenet')\n",
        "\n",
        "# image_features = {}\n",
        "\n",
        "# imsize = (299,299)\n",
        "# # dataset.keys()\n",
        "\n",
        "# def img_preprocess(imsize = imsize,dataset = dataset, model=model ):\n",
        "\n",
        "#   for img in tqdm(dataset.keys()):\n",
        "#       image = io.imread(img)\n",
        "#       if image.ndim != 3:\n",
        "#           image = cv2.cvtColor(image,cv2.COLOR_GRAY2RGB)\n",
        "      \n",
        "#       # Resize each image size 299 x 299\n",
        "#       image = cv2.resize(image,imsize)\n",
        "#       image = np.expand_dims(image, axis=0)\n",
        "      \n",
        "#       # Normalize image pixels\n",
        "#       image = image/127.5\n",
        "#       image = image - 1.0\n",
        "\n",
        "#       # Extract features from image\n",
        "#       feature = model.predict(image)\n",
        "#       image_features[img] = feature\n",
        "\n",
        "# img_preprocess(dataset =testsample_dict)\n",
        "    \n",
        "# print(\"Image features length: \", len(image_features))"
      ]
    },
    {
      "cell_type": "code",
      "source": [],
      "metadata": {
        "id": "5uWAcCkD628m"
      },
      "id": "5uWAcCkD628m",
      "execution_count": null,
      "outputs": []
    },
    {
      "cell_type": "code",
      "source": [],
      "metadata": {
        "id": "cFzcgQml63E6"
      },
      "id": "cFzcgQml63E6",
      "execution_count": null,
      "outputs": []
    },
    {
      "cell_type": "code",
      "source": [],
      "metadata": {
        "id": "cNajsOan63QQ"
      },
      "id": "cNajsOan63QQ",
      "execution_count": null,
      "outputs": []
    },
    {
      "cell_type": "code",
      "execution_count": null,
      "id": "6ixhR6SIeNCL",
      "metadata": {
        "id": "6ixhR6SIeNCL"
      },
      "outputs": [],
      "source": [
        "# mykeys = list(image_features.keys())\n",
        "# my_key = mykeys[0]\n",
        "# image_features[my_key].shape"
      ]
    },
    {
      "cell_type": "code",
      "execution_count": null,
      "id": "1a20379f",
      "metadata": {
        "execution": {
          "iopub.execute_input": "2022-09-14T20:49:45.612865Z",
          "iopub.status.busy": "2022-09-14T20:49:45.612355Z",
          "iopub.status.idle": "2022-09-14T20:49:45.617402Z",
          "shell.execute_reply": "2022-09-14T20:49:45.616442Z"
        },
        "id": "1a20379f",
        "papermill": {
          "duration": 0.081132,
          "end_time": "2022-09-14T20:49:45.619701",
          "exception": false,
          "start_time": "2022-09-14T20:49:45.538569",
          "status": "completed"
        },
        "tags": []
      },
      "outputs": [],
      "source": [
        "\n",
        "# from keras.utils import plot_model\n",
        "\n",
        "# model.summary()\n",
        "\n",
        "# plot_model(model, to_file='model.png')\n"
      ]
    },
    {
      "cell_type": "markdown",
      "id": "4edac401",
      "metadata": {
        "id": "4edac401",
        "papermill": {
          "duration": 0.073009,
          "end_time": "2022-09-14T20:49:45.763223",
          "exception": false,
          "start_time": "2022-09-14T20:49:45.690214",
          "status": "completed"
        },
        "tags": []
      },
      "source": [
        "Here, I have found the max_length among the captions which will help to pad each caption with the same length."
      ]
    },
    {
      "cell_type": "code",
      "execution_count": null,
      "id": "ac7b96e8",
      "metadata": {
        "colab": {
          "base_uri": "https://localhost:8080/"
        },
        "execution": {
          "iopub.execute_input": "2022-09-14T20:49:45.911606Z",
          "iopub.status.busy": "2022-09-14T20:49:45.911083Z",
          "iopub.status.idle": "2022-09-14T20:49:45.968674Z",
          "shell.execute_reply": "2022-09-14T20:49:45.967614Z"
        },
        "id": "ac7b96e8",
        "outputId": "d164e860-a93a-4a74-eaf9-c1326010b152",
        "papermill": {
          "duration": 0.134647,
          "end_time": "2022-09-14T20:49:45.970919",
          "exception": false,
          "start_time": "2022-09-14T20:49:45.836272",
          "status": "completed"
        },
        "tags": []
      },
      "outputs": [
        {
          "output_type": "execute_result",
          "data": {
            "text/plain": [
              "51"
            ]
          },
          "metadata": {},
          "execution_count": 33
        }
      ],
      "source": [
        "testsample_dict\n",
        "\n",
        "\n",
        "def dict_to_list(descriptions):\n",
        "    all_desc = []\n",
        "    for key in descriptions.keys():\n",
        "        [all_desc.append(d) for d in descriptions[key]]\n",
        "    return all_desc\n",
        "\n",
        "def max_length(descriptions):\n",
        "    desc_list = dict_to_list(descriptions)\n",
        "    return max(len(d.split()) for d in desc_list)\n",
        "    \n",
        "max_length = max_length(dataset)\n",
        "max_length"
      ]
    },
    {
      "cell_type": "markdown",
      "id": "ce595c87",
      "metadata": {
        "id": "ce595c87",
        "papermill": {
          "duration": 0.07619,
          "end_time": "2022-09-14T20:49:46.118676",
          "exception": false,
          "start_time": "2022-09-14T20:49:46.042486",
          "status": "completed"
        },
        "tags": []
      },
      "source": [
        "# Make a Data Generator\n",
        "\n",
        "We have to train our model on 6221 images and each image will contain 2048 length feature vector and caption is also represented as numbers. This amount of data for 6221 images is not possible to hold into memory so we will be using a generator method that will yield batches.\n",
        "\n",
        "**The generator will yield the input and output sequence.**\n",
        "\n",
        "##### For example:\n",
        "\n",
        "The input to our model is [x1, x2] and the output will be y, where x1 is the 2048 feature vector of that image, x2 is the input text sequence and y is the output text sequence that the model has to predict.\n",
        "\n",
        "![Capture.PNG](attachment:abfdd0f4-ece1-4fe8-a9db-4060a31f10fd.PNG)"
      ]
    },
    {
      "cell_type": "code",
      "execution_count": null,
      "id": "6bf62f78",
      "metadata": {
        "execution": {
          "iopub.execute_input": "2022-09-14T20:49:46.267155Z",
          "iopub.status.busy": "2022-09-14T20:49:46.266616Z",
          "iopub.status.idle": "2022-09-14T20:49:46.277061Z",
          "shell.execute_reply": "2022-09-14T20:49:46.276065Z"
        },
        "id": "6bf62f78",
        "papermill": {
          "duration": 0.086813,
          "end_time": "2022-09-14T20:49:46.279283",
          "exception": false,
          "start_time": "2022-09-14T20:49:46.192470",
          "status": "completed"
        },
        "tags": []
      },
      "outputs": [],
      "source": [
        "# #create input-output sequence pairs from the image description.\n",
        "\n",
        "# def data_generator(descriptions, features, tokenizer, max_length):\n",
        "#     while 1:\n",
        "#         for key, description_list in descriptions.items():\n",
        "\n",
        "#             feature = features[key][0]\n",
        "#             input_image, input_sequence, output_word = create_sequences(tokenizer, max_length, description_list, feature)\n",
        "#             yield ([input_image, input_sequence], output_word)\n",
        "            \n",
        "\n",
        "# def create_sequences(tokenizer, max_length, desc_list, feature):\n",
        "#     X1, X2, y = list(), list(), list()\n",
        "    \n",
        "#     # walk through each description for the image\n",
        "#     for desc in desc_list:\n",
        "        \n",
        "#         # encode the sequence\n",
        "#         seq = tokenizer.texts_to_sequences([desc])[0]\n",
        "        \n",
        "#         # split one sequence into multiple X,y pairs\n",
        "#         for i in range(1, len(seq)):\n",
        "            \n",
        "#             # split into input and output pair\n",
        "#             in_seq, out_seq = seq[:i], seq[i]\n",
        "            \n",
        "#             # pad input sequence\n",
        "#             in_seq = pad_sequences([in_seq], maxlen=max_length)[0]\n",
        "            \n",
        "#             # encode output sequence\n",
        "#             out_seq = to_categorical([out_seq], num_classes=total_words)[0]\n",
        "            \n",
        "#             # store\n",
        "#             X1.append(feature) # image features\n",
        "#             X2.append(in_seq)  # Caption input\n",
        "#             y.append(out_seq)  # Caption output\n",
        "            \n",
        "#     return np.array(X1), np.array(X2), np.array(y)\n"
      ]
    },
    {
      "cell_type": "code",
      "execution_count": null,
      "id": "YMAVVQ7kJnIp",
      "metadata": {
        "id": "YMAVVQ7kJnIp"
      },
      "outputs": [],
      "source": []
    },
    {
      "cell_type": "markdown",
      "id": "91c23c73",
      "metadata": {
        "id": "91c23c73",
        "papermill": {
          "duration": 0.072331,
          "end_time": "2022-09-14T20:49:46.422204",
          "exception": false,
          "start_time": "2022-09-14T20:49:46.349873",
          "status": "completed"
        },
        "tags": []
      },
      "source": [
        "# Define CNN-LSTM Model\n",
        "\n",
        "#### CNN (Convolution Neural Network)\n",
        "\n",
        "Technically, deep learning CNN models to train and test, each input image will pass it through a series of convolution layers with filters (Kernals), Pooling, fully connected layers (FC) and apply Softmax function to classify an object with probabilistic values between 0 and 1.\n",
        "\n",
        "\n",
        "#### [Click here](https://www.analyticsvidhya.com/blog/2018/12/guide-convolutional-neural-network-cnn/) to know more about CNN.\n",
        "\n",
        "<br>\n",
        "\n",
        "#### LSTM (Long short-term memory)\n",
        "\n",
        "\n",
        "Long Short-Term Memory (LSTM) networks are a type of recurrent neural network capable of learning order dependence in sequence prediction problems. This is a behavior required in complex problem domains like machine translation, speech recognition, and more. LSTMs are a complex area of deep learning\n",
        "\n",
        "\n",
        "#### [Click here](https://www.analyticsvidhya.com/blog/2017/12/fundamentals-of-deep-learning-introduction-to-lstm/) to know more about LSTM.\n"
      ]
    },
    {
      "cell_type": "markdown",
      "id": "64c7770e",
      "metadata": {
        "id": "64c7770e",
        "papermill": {
          "duration": 0.075212,
          "end_time": "2022-09-14T20:49:46.571168",
          "exception": false,
          "start_time": "2022-09-14T20:49:46.495956",
          "status": "completed"
        },
        "tags": []
      },
      "source": [
        "# Model Architechture \n",
        "\n",
        "### CNN-LSTM model:\n",
        "\n",
        "- CNN is used for extracting features from the image. We will use the pre-trained model Xception.\n",
        "- LSTM will use the information from CNN to help generate a description of the image.\n",
        "\n",
        "\n",
        "### Model structure\n",
        "\n",
        "![model.png](attachment:5e082228-cfa2-49fe-9526-fd31a45a9868.png)\n",
        "\n",
        "\n",
        "* The feature extracted from the image has a size of 2048, with a dense layer, we will reduce the dimensions to 256 nodes.<br> \n",
        "* An embedding layer will handle the text input,followed by the LSTM layer.\n",
        "<br>\n",
        "* Then By merging the output from the above two layers, we will process by the dense layer to make the final prediction. The final layer will contain the number of nodes equal to our vocabulary size."
      ]
    },
    {
      "cell_type": "code",
      "execution_count": null,
      "id": "a51fd454",
      "metadata": {
        "execution": {
          "iopub.execute_input": "2022-09-14T20:49:46.719185Z",
          "iopub.status.busy": "2022-09-14T20:49:46.718566Z",
          "iopub.status.idle": "2022-09-14T20:49:46.729579Z",
          "shell.execute_reply": "2022-09-14T20:49:46.728638Z"
        },
        "id": "a51fd454",
        "papermill": {
          "duration": 0.08795,
          "end_time": "2022-09-14T20:49:46.731703",
          "exception": false,
          "start_time": "2022-09-14T20:49:46.643753",
          "status": "completed"
        },
        "tags": []
      },
      "outputs": [],
      "source": [
        "# from tensorflow.keras.utils import plot_model\n",
        "\n",
        "# # define the captioning model\n",
        "# def define_model(total_words, max_length):\n",
        "\n",
        "#     # features from the CNN model squeezed from 2048 to 256 nodes\n",
        "#     inputs1 = Input(shape=(2048,))\n",
        "#     fe1 = Dropout(0.5)(inputs1)\n",
        "#     fe2 = Dense(256, activation='relu')(fe1)\n",
        "\n",
        "#     # LSTM sequence model\n",
        "#     inputs2 = Input(shape=(max_length,))\n",
        "#     se1 = Embedding(total_words, 256, mask_zero=True)(inputs2)\n",
        "#     se2 = Dropout(0.5)(se1)\n",
        "#     se3 = LSTM(256)(se2)\n",
        "\n",
        "#     # Merging both models\n",
        "#     decoder1 = add([fe2, se3])\n",
        "#     decoder2 = Dense(256, activation='relu')(decoder1)\n",
        "#     outputs = Dense(total_words, activation='softmax')(decoder2)\n",
        "\n",
        "#     # tie it together [image, seq] [word]\n",
        "#     model = Model(inputs=[inputs1, inputs2], outputs=outputs)\n",
        "#     model.compile(loss='categorical_crossentropy', optimizer='adam')\n",
        "\n",
        "#     # summarize model\n",
        "#     print(model.summary())\n",
        "#     plot_model(model, to_file='model.png', show_shapes=True)\n",
        "\n",
        "#     return model\n",
        "\n",
        "\n",
        "# # define the captioning model\n",
        "# def define_model2(total_words, max_length):\n",
        "\n",
        "#     # features from the CNN model squeezed from 2048 to 256 nodes\n",
        "\n",
        "#     # inputs1 = Input(shape=(2048,))\n",
        "\n",
        "#     # remove code below \n",
        "\n",
        "#     # cnnmodel = CNN_Encoder()\n",
        "#     inputs1 =  CNN_Encoder()[1]\n",
        "\n",
        "#     fe1 = Dropout(0.5)(inputs1)\n",
        "#     fe2 = Dense(256, activation='relu')(fe1)\n",
        "\n",
        "#     # LSTM sequence model\n",
        "#     inputs2 = Input(shape=(max_length,))\n",
        "#     se1 = Embedding(total_words, 256, mask_zero=True)(inputs2)\n",
        "#     se2 = Dropout(0.5)(se1)\n",
        "#     se3 = LSTM(256)(se2)\n",
        "\n",
        "#     # Merging both models\n",
        "#     decoder1 = add([fe2, se3])\n",
        "#     decoder2 = Dense(256, activation='relu')(decoder1)\n",
        "#     outputs = Dense(total_words, activation='softmax')(decoder2)\n",
        "\n",
        "#     # tie it together [image, seq] [word]\n",
        "#     model = Model(inputs=[inputs1, inputs2], outputs=outputs)\n",
        "#     model.compile(loss='categorical_crossentropy', optimizer='adam')\n",
        "\n",
        "#     # summarize model\n",
        "#     print(model.summary())\n",
        "#     plot_model(model, to_file='model.png', show_shapes=True)\n",
        "\n",
        "#     return model\n"
      ]
    },
    {
      "cell_type": "code",
      "execution_count": null,
      "id": "LRDkrqQcl8P7",
      "metadata": {
        "id": "LRDkrqQcl8P7"
      },
      "outputs": [],
      "source": [
        "# # train our model\n",
        "# import os\n",
        "\n",
        "# # os.mkdir(models)\n",
        "\n",
        "# # testsample_dict\n",
        "# model1 = define_model(total_words, max_length)\n"
      ]
    },
    {
      "cell_type": "code",
      "execution_count": null,
      "id": "R01G8mxSmW2i",
      "metadata": {
        "id": "R01G8mxSmW2i"
      },
      "outputs": [],
      "source": [
        "# model2 = define_model2(total_words, max_length)\n"
      ]
    },
    {
      "cell_type": "code",
      "execution_count": null,
      "id": "G8KvAx8818yD",
      "metadata": {
        "id": "G8KvAx8818yD"
      },
      "outputs": [],
      "source": [
        "def process_an_image(img, imsize = (299,299)):\n",
        "\n",
        "  # io.imread -> image \"img 파일은 http 주소 형태\" #\n",
        "  # \n",
        "\n",
        "# for img in tqdm(dataset.keys()):\n",
        "    image = io.imread(img)\n",
        "    if image.ndim != 3:\n",
        "        image = cv2.cvtColor(image,cv2.COLOR_GRAY2RGB)\n",
        "    \n",
        "    # Resize each image size 299 x 299\n",
        "    image = cv2.resize(image,imsize)\n",
        "    image = np.expand_dims(image, axis=0)\n",
        "    \n",
        "    # Normalize image pixels\n",
        "    image = image/127.5\n",
        "    image = image - 1.0\n",
        "    return image\n",
        "    # # Extract features from image\n",
        "    # feature = model.predict(image)\n",
        "    # image_features[img] = feature\n"
      ]
    },
    {
      "cell_type": "code",
      "execution_count": null,
      "id": "kY3GPGIdszqh",
      "metadata": {
        "colab": {
          "base_uri": "https://localhost:8080/",
          "height": 49,
          "referenced_widgets": [
            "fe4deed4e6364a9a95f5ba38df020d05",
            "ccae57db9f074e8d8e3f68cfaf46d587",
            "b7d3fc9fd9c54be4960cecfc646406c4",
            "0411f9f527f14a5b92bdcadc027484a3",
            "46b599eaf412421c9e7ee5c02656905f",
            "a88056f6e72a4978bf7f7e3bfc353b89",
            "f1b53b77dc144464aefc63b245cd156f",
            "7f07b45bbaeb4e3a854a580da7d97c26",
            "37bdc5e6abec4acfa8c0de004e659296",
            "206347f7adf7468796c46a9df3937ac6",
            "cd8a84f4694442329579c0a75d9eab73"
          ]
        },
        "id": "kY3GPGIdszqh",
        "outputId": "669c91a8-d538-428f-c2de-56eae64bf06a"
      },
      "outputs": [
        {
          "output_type": "display_data",
          "data": {
            "text/plain": [
              "  0%|          | 0/10 [00:00<?, ?it/s]"
            ],
            "application/vnd.jupyter.widget-view+json": {
              "version_major": 2,
              "version_minor": 0,
              "model_id": "fe4deed4e6364a9a95f5ba38df020d05"
            }
          },
          "metadata": {}
        }
      ],
      "source": [
        "\n",
        "# shape = [(None,2048),(None,51)]\n",
        "\n",
        "# model = Model(inputs=[inputs1, inputs2], outputs=outputs) # img, seq, \n",
        "\n",
        "# inputs1=  train_inputs ???\n",
        "\n",
        "for img_links in tqdm(list(dataset.keys())[:10]) : \n",
        "  process_an_image(img_links)\n",
        "\n",
        "\n",
        "# inputs2 = seq_inputs ?? 어떻게 수정\n",
        "\n",
        "\n",
        "# inputs1, inputs2 관계?\n",
        "\n",
        "\n",
        "# input_data =\n",
        "\n",
        "# model2.fit(input_data,epochs=1, steps_per_epoch= steps, verbose=1)"
      ]
    },
    {
      "cell_type": "code",
      "execution_count": null,
      "id": "W3c9NeiQ17n0",
      "metadata": {
        "id": "W3c9NeiQ17n0"
      },
      "outputs": [],
      "source": []
    },
    {
      "cell_type": "code",
      "execution_count": null,
      "id": "20oSjQJ_u9vE",
      "metadata": {
        "id": "20oSjQJ_u9vE"
      },
      "outputs": [],
      "source": []
    },
    {
      "cell_type": "code",
      "execution_count": null,
      "id": "3xCzfvQjwRng",
      "metadata": {
        "colab": {
          "base_uri": "https://localhost:8080/",
          "height": 610
        },
        "id": "3xCzfvQjwRng",
        "outputId": "abfc8109-e9de-42e5-90c7-125b2f9e9a63"
      },
      "outputs": [
        {
          "output_type": "stream",
          "name": "stdout",
          "text": [
            "http://images.cocodataset.org/train2017/000000179520.jpg \n",
            " ['<start> a team of baseball players playing a game of baseball <end>', '<start> an image of a baseball player trying to throw the batter out <end>', '<start> a baseball player in midstride on a baseball diamond <end>', '<start> a baseball player is running on the field <end>', '<start> a baseball player is running as an outfielder approaches <end>']\n"
          ]
        },
        {
          "output_type": "stream",
          "name": "stderr",
          "text": [
            "WARNING:matplotlib.image:Clipping input data to the valid range for imshow with RGB data ([0..1] for floats or [0..255] for integers).\n"
          ]
        },
        {
          "output_type": "stream",
          "name": "stdout",
          "text": [
            "(1, 299, 299, 3)\n"
          ]
        },
        {
          "output_type": "execute_result",
          "data": {
            "text/plain": [
              "<matplotlib.image.AxesImage at 0x7f29f6f09bb0>"
            ]
          },
          "metadata": {},
          "execution_count": 40
        },
        {
          "output_type": "display_data",
          "data": {
            "text/plain": [
              "<Figure size 576x720 with 1 Axes>"
            ],
            "image/png": "[encoded data removed]"
          },
          "metadata": {
            "needs_background": "light"
          }
        }
      ],
      "source": [
        "# an_image = process_an_image(\"http://images.cocodataset.org/train2017/000000156510.jpg\")\n",
        "\n",
        "\n",
        "a_key = list(dataset.keys())[0]\n",
        "img_location= a_key\n",
        "captions = dataset[a_key]\n",
        "print(img_location,\"\\n\", captions)\n",
        "\n",
        "\n",
        "imgdata = process_an_image(a_key)\n",
        "\n",
        "print(imgdata.shape)\n",
        "\n",
        "plt.imshow(imgdata[0])\n"
      ]
    },
    {
      "cell_type": "code",
      "execution_count": null,
      "id": "5ED8RUqN3O7L",
      "metadata": {
        "id": "5ED8RUqN3O7L"
      },
      "outputs": [],
      "source": [
        "# def create_sequences2(tokenizer, max_length, desc_list):\n",
        "#   X2, y = list(), list()\n",
        "    \n",
        "#     # walk through each description for the image\n",
        "#   for desc in desc_list:\n",
        "        \n",
        "#         # encode the sequence\n",
        "#     seq = tokenizer.texts_to_sequences([desc])[0]\n",
        "\n",
        "#     # split one sequence into multiple X,y pairs\n",
        "#     for i in range(1, len(seq)):\n",
        "\n",
        "#       # split into input and output pair\n",
        "#       in_seq, out_seq = seq[:i], seq[i]\n",
        "\n",
        "#       # pad input sequence\n",
        "#       in_seq = pad_sequences([in_seq], maxlen=max_length)[0]\n",
        "\n",
        "#       # encode output sequence\n",
        "#       out_seq = to_categorical([out_seq], num_classes=total_words)[0]\n",
        "\n",
        "#       # store\n",
        "\n",
        "#       X2.append(in_seq)  # Caption input\n",
        "#       y.append(out_seq)  # Caption output\n",
        "\n",
        "#   return  np.array(X2), np.array(y)\n",
        "\n",
        "\n",
        "# create_sequences2(tokenizer, max_length, captions)\n"
      ]
    },
    {
      "cell_type": "code",
      "execution_count": null,
      "id": "UjlIIS1y4Xto",
      "metadata": {
        "id": "UjlIIS1y4Xto"
      },
      "outputs": [],
      "source": [
        "\n",
        "# def data_generator2(descriptions, tokenizer, max_length):\n",
        "#   while 1:\n",
        "#     for key, description_list in descriptions.items():\n",
        "#       print(key,description_list)\n",
        "#       input_image = process_an_image(key)\n",
        "#       input_sequence, output_word = create_sequences2(tokenizer, max_length, description_list)\n",
        "#       print(input_image.shape, input_sequence.shape, output_word.shape)\n",
        "#     yield ([input_image, input_sequence], output_word)\n",
        "\n",
        "# gen2 = data_generator2(dataset, tokenizer, max_length)"
      ]
    },
    {
      "cell_type": "code",
      "execution_count": null,
      "id": "93aNljPU6yHY",
      "metadata": {
        "id": "93aNljPU6yHY"
      },
      "outputs": [],
      "source": [
        "# for i in gen2:\n",
        "#   i"
      ]
    },
    {
      "cell_type": "code",
      "execution_count": null,
      "id": "q0f0axCHAvV6",
      "metadata": {
        "id": "q0f0axCHAvV6"
      },
      "outputs": [],
      "source": [
        "# generator = data_generator(dataset, image_features, tokenizer, max_length)\n",
        "\n",
        "# for i in generator:\n",
        "#   i\n"
      ]
    },
    {
      "cell_type": "markdown",
      "id": "fM94FOEY4hra",
      "metadata": {
        "id": "fM94FOEY4hra"
      },
      "source": []
    },
    {
      "cell_type": "code",
      "execution_count": null,
      "id": "bad1472d",
      "metadata": {
        "execution": {
          "iopub.execute_input": "2022-09-14T20:49:46.891387Z",
          "iopub.status.busy": "2022-09-14T20:49:46.890852Z",
          "iopub.status.idle": "2022-09-14T22:49:27.273365Z",
          "shell.execute_reply": "2022-09-14T22:49:27.271273Z"
        },
        "id": "bad1472d",
        "papermill": {
          "duration": 7180.46365,
          "end_time": "2022-09-14T22:49:27.276736",
          "exception": false,
          "start_time": "2022-09-14T20:49:46.813086",
          "status": "completed"
        },
        "tags": []
      },
      "outputs": [],
      "source": [
        "\n",
        "# def train_our_model(dataset):\n",
        "\n",
        "\n",
        "#   print('Dataset: ', len(dataset))\n",
        "#   print('Descriptions: train=', len(dataset))\n",
        "#   print('Photos: train=', len(image_features))\n",
        "#   print('Vocabulary Size:', total_words)\n",
        "#   print('Description Length: ', max_length)\n",
        "\n",
        "#   epochs=2\n",
        "#   steps = len(dataset)\n",
        "\n",
        "#   # making a directory models to save our models\n",
        "\n",
        "  \n",
        "#   for i in range(epochs):\n",
        "#       generator = data_generator(dataset, image_features, tokenizer, max_length)\n",
        "#       model.fit(generator, epochs=1, steps_per_epoch= steps, verbose=1)\n",
        "#       model.save(\"models/model_\" + str(i) + \".h5\")\n"
      ]
    },
    {
      "cell_type": "code",
      "execution_count": null,
      "id": "3Uom5qr7GhPA",
      "metadata": {
        "id": "3Uom5qr7GhPA"
      },
      "outputs": [],
      "source": [
        "# model =model1\n",
        "\n",
        "# train_our_model(testsample_dict)"
      ]
    },
    {
      "cell_type": "code",
      "execution_count": null,
      "id": "SFDDSopuGcj1",
      "metadata": {
        "id": "SFDDSopuGcj1"
      },
      "outputs": [],
      "source": [
        "\n",
        "# def train_our_model1(dataset,model = model1, tokenizer= tokenizer,max_length=max_length):\n",
        "\n",
        "\n",
        "#   print('Dataset: ', len(dataset))\n",
        "#   print('Descriptions: train=', len(dataset))\n",
        "#   print('Photos: train=', len(image_features))\n",
        "#   print('Vocabulary Size:', total_words)\n",
        "#   print('Description Length: ', max_length)\n",
        "\n",
        "#   epochs=2\n",
        "#   steps = len(dataset)\n",
        "\n",
        "#   # making a directory models to save our models\n",
        "\n",
        "  \n",
        "#   for i in range(epochs):\n",
        "#       generator = data_generator(dataset, image_features, tokenizer, max_length)\n",
        "#       model.fit(generator, epochs=1, steps_per_epoch= steps, verbose=1)\n",
        "#       model.save(\"models/model_\" + str(i) + \".h5\")\n"
      ]
    },
    {
      "cell_type": "code",
      "execution_count": null,
      "id": "NqPFF71EH2b5",
      "metadata": {
        "id": "NqPFF71EH2b5"
      },
      "outputs": [],
      "source": [
        "# train_our_model1(testsample_dict)"
      ]
    },
    {
      "cell_type": "code",
      "execution_count": null,
      "id": "CE53bwvJ6HW8",
      "metadata": {
        "id": "CE53bwvJ6HW8"
      },
      "outputs": [],
      "source": [
        "\n",
        "# def train_our_model2(dataset,model = model):\n",
        "\n",
        "\n",
        "#   print('Dataset: ', len(dataset))\n",
        "#   print('Descriptions: train=', len(dataset))\n",
        "#   # print('Photos: train=', len(image_features))\n",
        "#   print('Vocabulary Size:', total_words)\n",
        "#   print('Description Length: ', max_length)\n",
        "\n",
        "#   epochs=1\n",
        "#   steps = len(dataset)\n",
        "\n",
        "#   # making a directory models to save our models\n",
        "\n",
        "  \n",
        "#   for i in range(epochs):\n",
        "#       print(i)\n",
        "#       gen2 = data_generator2(dataset, tokenizer, max_length)\n",
        "#       print(1)\n",
        "\n",
        "#       model.fit(gen2, epochs=1, steps_per_epoch= steps, verbose=1)\n",
        "#       model.save(\"models/model_\" + str(i) + \".h5\")\n"
      ]
    },
    {
      "cell_type": "code",
      "execution_count": null,
      "id": "o4N-Tz9Fl-LA",
      "metadata": {
        "id": "o4N-Tz9Fl-LA"
      },
      "outputs": [],
      "source": [
        "# train_our_model2(testsample_dict,model2)"
      ]
    },
    {
      "cell_type": "code",
      "execution_count": null,
      "id": "khqy0voWbU56",
      "metadata": {
        "id": "khqy0voWbU56"
      },
      "outputs": [],
      "source": [
        "# train_our_model2(testsample_dict,model2)\n",
        "\n",
        "\n"
      ]
    },
    {
      "cell_type": "code",
      "execution_count": null,
      "id": "VTwGZ_M3JHk3",
      "metadata": {
        "id": "VTwGZ_M3JHk3"
      },
      "outputs": [],
      "source": [
        "# model2.summary()"
      ]
    },
    {
      "cell_type": "code",
      "execution_count": null,
      "id": "hBRt3QV3m0ZN",
      "metadata": {
        "id": "hBRt3QV3m0ZN"
      },
      "outputs": [],
      "source": [
        "# model1.name"
      ]
    },
    {
      "cell_type": "code",
      "execution_count": null,
      "id": "ll3vC5tC3hXO",
      "metadata": {
        "id": "ll3vC5tC3hXO"
      },
      "outputs": [],
      "source": [
        "# model1.save(\"models/model1_f.h5\")"
      ]
    },
    {
      "cell_type": "code",
      "execution_count": null,
      "id": "686d0d7f",
      "metadata": {
        "execution": {
          "iopub.execute_input": "2022-09-14T22:49:32.739335Z",
          "iopub.status.busy": "2022-09-14T22:49:32.738963Z",
          "iopub.status.idle": "2022-09-14T22:49:32.886038Z",
          "shell.execute_reply": "2022-09-14T22:49:32.884675Z"
        },
        "id": "686d0d7f",
        "papermill": {
          "duration": 2.854148,
          "end_time": "2022-09-14T22:49:32.890449",
          "exception": false,
          "start_time": "2022-09-14T22:49:30.036301",
          "status": "completed"
        },
        "tags": []
      },
      "outputs": [],
      "source": []
    },
    {
      "cell_type": "code",
      "execution_count": null,
      "id": "bNHyAMF6ahQ4",
      "metadata": {
        "id": "bNHyAMF6ahQ4"
      },
      "outputs": [],
      "source": [
        "# # model_incep_lstm\n",
        "\n",
        "\n",
        "# # os.mkdir(models)\n",
        "\n",
        "\n",
        "  \n",
        "# train_our_model(testsample_dict, model2)\n",
        "# model2.name\n",
        "# model2.save(\"models/model2_f.h5\")"
      ]
    },
    {
      "cell_type": "code",
      "execution_count": null,
      "id": "XqQkqW1CQ5WH",
      "metadata": {
        "id": "XqQkqW1CQ5WH"
      },
      "outputs": [],
      "source": [
        "\n",
        "# import numpy as np\n",
        "# from PIL import Image\n",
        "# import matplotlib.pyplot as plt\n",
        "# import glob\n",
        "# img_paths = []\n",
        "# for filename in glob.glob('./drive/MyDrive/3조/sample_train_coco (1)/sample_train_coco/*.jpg'): #assuming jpg\n",
        "#     # im=Image.open(filename)\n",
        "#     # print(filename)\n",
        "#     # print(im)\n",
        "#     img_paths.append(filename)\n",
        "\n",
        "#     if len(img_paths)>10:\n",
        "#       break\n",
        "# print(img_paths)\n"
      ]
    },
    {
      "cell_type": "code",
      "execution_count": null,
      "id": "85329b25",
      "metadata": {
        "execution": {
          "iopub.execute_input": "2022-09-14T22:49:38.569411Z",
          "iopub.status.busy": "2022-09-14T22:49:38.568925Z",
          "iopub.status.idle": "2022-09-14T22:49:43.048559Z",
          "shell.execute_reply": "2022-09-14T22:49:43.047586Z"
        },
        "id": "85329b25",
        "papermill": {
          "duration": 7.476473,
          "end_time": "2022-09-14T22:49:43.051530",
          "exception": false,
          "start_time": "2022-09-14T22:49:35.575057",
          "status": "completed"
        },
        "tags": []
      },
      "outputs": [],
      "source": [
        "\n",
        "# def extract_features(filename, model):\n",
        "#         try:\n",
        "#             image = Image.open(filename)\n",
        "\n",
        "#         except:\n",
        "#             print(\"ERROR: Couldn't open image! Make sure the image path and extension is correct\")\n",
        "#         image = image.resize((299,299))\n",
        "#         image = np.array(image)\n",
        "        \n",
        "#         # for images that has 4 channels, we convert them into 3 channels\n",
        "#         if image.shape[2] == 4: \n",
        "#             image = image[..., :3]\n",
        "#         image = np.expand_dims(image, axis=0)\n",
        "#         image = image/127.5\n",
        "#         image = image - 1.0\n",
        "#         feature = model.predict(image)\n",
        "#         return feature\n",
        "\n",
        "# def word_for_id(integer, tokenizer):\n",
        "#     for word, index in tokenizer.word_index.items():\n",
        "#         if index == integer:\n",
        "#             return word\n",
        "#     return None\n",
        "\n",
        "\n",
        "# def generate_desc(model, tokenizer, photo, max_length):\n",
        "#     in_text = 'start'\n",
        "#     for i in range(max_length):\n",
        "#         sequence = tokenizer.texts_to_sequences([in_text])[0]\n",
        "#         sequence = pad_sequences([sequence], maxlen=max_length)\n",
        "#         pred = model.predict([photo,sequence], verbose=0)\n",
        "#         pred = np.argmax(pred)\n",
        "#         word = word_for_id(pred, tokenizer)\n",
        "        \n",
        "#         if word is None:\n",
        "#             break\n",
        "#         in_text += ' ' + word\n",
        "        \n",
        "#         if word == 'end':\n",
        "#             break\n",
        "#     return in_text\n",
        "\n",
        "\n",
        "    \n"
      ]
    },
    {
      "cell_type": "code",
      "execution_count": null,
      "id": "eyrg0SUZnuNn",
      "metadata": {
        "id": "eyrg0SUZnuNn"
      },
      "outputs": [],
      "source": [
        "\n",
        "# xception_model = Xception(include_top=False, pooling=\"avg\")\n",
        "\n",
        "\n"
      ]
    },
    {
      "cell_type": "code",
      "execution_count": null,
      "id": "sJh9DRNZ2oqN",
      "metadata": {
        "id": "sJh9DRNZ2oqN"
      },
      "outputs": [],
      "source": [
        "# print(max_length)\n",
        "# print(model1.name)\n",
        "\n",
        "# from keras.utils import plot_model\n",
        "# plot_model(model1, to_file='model.png')\n"
      ]
    },
    {
      "cell_type": "code",
      "execution_count": null,
      "id": "l79Zb4exoJoA",
      "metadata": {
        "id": "l79Zb4exoJoA"
      },
      "outputs": [],
      "source": [
        "# print(max_length)\n",
        "# print(model2.name)\n",
        "\n",
        "# from keras.utils import plot_model\n",
        "# plot_model(model2, to_file='model.png')\n"
      ]
    },
    {
      "cell_type": "code",
      "execution_count": null,
      "id": "6ORXoAzUny-H",
      "metadata": {
        "id": "6ORXoAzUny-H"
      },
      "outputs": [],
      "source": [
        "# photo = extract_features(img_paths[0], xception_model)\n",
        "# img = Image.open(img_paths[0])\n",
        "# description = generate_desc(model1, tokenizer, photo, max_length)\n",
        "# print(\"\\n\\n\")\n",
        "# print(description)\n",
        "# plt.imshow(img)"
      ]
    },
    {
      "cell_type": "code",
      "execution_count": null,
      "id": "sX1Aow2GVKnn",
      "metadata": {
        "id": "sX1Aow2GVKnn"
      },
      "outputs": [],
      "source": [
        "# copy_model2 = load_model('./drive/MyDrive/3조/best_model.h5')\n",
        "# copy_ssd = load_model('/content/drive/MyDrive/3조/ssd300.h5')\n",
        "\n",
        "# copy_model2.summary()\n",
        "# copy_ssd.summary()\n"
      ]
    },
    {
      "cell_type": "code",
      "execution_count": null,
      "id": "AU1U4Alb6Ul_",
      "metadata": {
        "id": "AU1U4Alb6Ul_"
      },
      "outputs": [],
      "source": [
        "# plot_model(copy_ssd, to_file='model0.png')\n"
      ]
    },
    {
      "cell_type": "code",
      "execution_count": null,
      "id": "GX1R-cuV6W5f",
      "metadata": {
        "id": "GX1R-cuV6W5f"
      },
      "outputs": [],
      "source": [
        "# plot_model(copy_model2, to_file='model1.png')\n"
      ]
    },
    {
      "cell_type": "code",
      "execution_count": null,
      "id": "BE_Xcloww61h",
      "metadata": {
        "id": "BE_Xcloww61h"
      },
      "outputs": [],
      "source": [
        "# max_length =42\n",
        "# generator = data_generator(dataset, image_features, tokenizer, max_length)\n"
      ]
    },
    {
      "cell_type": "code",
      "execution_count": null,
      "id": "NMA2aSvpusy-",
      "metadata": {
        "id": "NMA2aSvpusy-"
      },
      "outputs": [],
      "source": [
        "\n",
        "# photo = extract_features(img_paths[0], copy_ssd)\n",
        "# img = Image.open(img_paths[0])\n",
        "# description = generate_desc(copy_model2, tokenizer, photo, 42)\n",
        "# print(\"\\n\\n\")\n",
        "# print(description)\n",
        "# plt.imshow(img)"
      ]
    },
    {
      "cell_type": "code",
      "execution_count": null,
      "id": "IpTBDNzNhdiD",
      "metadata": {
        "id": "IpTBDNzNhdiD"
      },
      "outputs": [],
      "source": [
        "\n",
        "# photo = extract_features(img_paths[1], copy_ssd)\n",
        "# img = Image.open(img_paths[1])\n",
        "# description = generate_desc(copy_model2, tokenizer, photo, 42)\n",
        "# print(\"\\n\\n\")\n",
        "# print(description)\n",
        "# plt.imshow(img)"
      ]
    },
    {
      "cell_type": "markdown",
      "id": "He129qkRudxb",
      "metadata": {
        "id": "He129qkRudxb"
      },
      "source": []
    },
    {
      "cell_type": "code",
      "execution_count": null,
      "id": "BuluAbu2KaH2",
      "metadata": {
        "id": "BuluAbu2KaH2"
      },
      "outputs": [],
      "source": [
        "import tensorflow as tf\n",
        "import numpy as np\n",
        "import json\n",
        "from tqdm import tqdm\n",
        "from sklearn.utils import shuffle"
      ]
    },
    {
      "cell_type": "code",
      "execution_count": null,
      "id": "mPPiQZb3Qo-_",
      "metadata": {
        "colab": {
          "base_uri": "https://localhost:8080/"
        },
        "id": "mPPiQZb3Qo-_",
        "outputId": "e8118109-ad6c-4995-fa76-412353d52c21"
      },
      "outputs": [
        {
          "output_type": "stream",
          "name": "stdout",
          "text": [
            "Model: \"model\"\n",
            "__________________________________________________________________________________________________\n",
            " Layer (type)                   Output Shape         Param #     Connected to                     \n",
            "==================================================================================================\n",
            " input_2 (InputLayer)           [(None, 299, 299, 3  0           []                               \n",
            "                                )]                                                                \n",
            "                                                                                                  \n",
            " inception_v3 (Functional)      (None, 2048)         21802784    ['input_2[0][0]']                \n",
            "                                                                                                  \n",
            " input_3 (InputLayer)           [(None, 51)]         0           []                               \n",
            "                                                                                                  \n",
            " dense (Dense)                  (None, 256)          524544      ['inception_v3[0][0]']           \n",
            "                                                                                                  \n",
            " embedding (Embedding)          (None, 51, 256)      1645824     ['input_3[0][0]']                \n",
            "                                                                                                  \n",
            " dropout (Dropout)              (None, 256)          0           ['dense[0][0]']                  \n",
            "                                                                                                  \n",
            " lstm (LSTM)                    (None, 51, 256)      525312      ['embedding[0][0]']              \n",
            "                                                                                                  \n",
            " batch_normalization_94 (BatchN  (None, 256)         1024        ['dropout[0][0]']                \n",
            " ormalization)                                                                                    \n",
            "                                                                                                  \n",
            " dropout_1 (Dropout)            (None, 51, 256)      0           ['lstm[0][0]']                   \n",
            "                                                                                                  \n",
            " repeat_vector (RepeatVector)   (None, 51, 256)      0           ['batch_normalization_94[0][0]'] \n",
            "                                                                                                  \n",
            " batch_normalization_95 (BatchN  (None, 51, 256)     1024        ['dropout_1[0][0]']              \n",
            " ormalization)                                                                                    \n",
            "                                                                                                  \n",
            " concatenate_2 (Concatenate)    (None, 51, 512)      0           ['repeat_vector[0][0]',          \n",
            "                                                                  'batch_normalization_95[0][0]'] \n",
            "                                                                                                  \n",
            " lstm_1 (LSTM)                  (None, 51, 256)      787456      ['concatenate_2[0][0]']          \n",
            "                                                                                                  \n",
            " dropout_2 (Dropout)            (None, 51, 256)      0           ['lstm_1[0][0]']                 \n",
            "                                                                                                  \n",
            " batch_normalization_96 (BatchN  (None, 51, 256)     1024        ['dropout_2[0][0]']              \n",
            " ormalization)                                                                                    \n",
            "                                                                                                  \n",
            " lstm_2 (LSTM)                  (None, 256)          525312      ['batch_normalization_96[0][0]'] \n",
            "                                                                                                  \n",
            " dropout_3 (Dropout)            (None, 256)          0           ['lstm_2[0][0]']                 \n",
            "                                                                                                  \n",
            " batch_normalization_97 (BatchN  (None, 256)         1024        ['dropout_3[0][0]']              \n",
            " ormalization)                                                                                    \n",
            "                                                                                                  \n",
            " dense_1 (Dense)                (None, 6429)         1652253     ['batch_normalization_97[0][0]'] \n",
            "                                                                                                  \n",
            "==================================================================================================\n",
            "Total params: 27,467,581\n",
            "Trainable params: 5,662,749\n",
            "Non-trainable params: 21,804,832\n",
            "__________________________________________________________________________________________________\n"
          ]
        }
      ],
      "source": [
        "import tensorflow as tf\n",
        "from tensorflow.keras.models import Model\n",
        "from tensorflow.keras.layers import Input, Dense, Embedding, LSTM, Dropout, BatchNormalization\n",
        "from tensorflow.keras.layers import GlobalAveragePooling2D, Concatenate\n",
        "from tensorflow.keras.applications import InceptionV3\n",
        "from tensorflow.keras.layers import RepeatVector\n",
        "\n",
        "\n",
        "\n",
        "def build_cnn_lstm(vocab_size, max_length, embedding_dim=256, units=256):\n",
        "    # CNN Encoder (InceptionV3 pre-trained model)\n",
        "    inception = InceptionV3(include_top=False, weights='imagenet', pooling='avg')\n",
        "    for layer in inception.layers:\n",
        "        layer.trainable = False\n",
        "\n",
        "    input_image = Input(shape=(299, 299, 3))\n",
        "    encoded_image = inception(input_image)\n",
        "    encoded_image = Dense(embedding_dim, activation='relu')(encoded_image)\n",
        "    encoded_image = Dropout(0.5)(encoded_image)\n",
        "    encoded_image = BatchNormalization()(encoded_image)\n",
        "    encoded_image = RepeatVector(max_length)(encoded_image)\n",
        "\n",
        "    # LSTM Decoder\n",
        "    input_caption = Input(shape=(max_length,))\n",
        "    embedding = Embedding(vocab_size, embedding_dim)(input_caption)\n",
        "    lstm_layer = LSTM(units, return_sequences=True)(embedding)\n",
        "    lstm_layer = Dropout(0.5)(lstm_layer)\n",
        "    lstm_layer = BatchNormalization()(lstm_layer)\n",
        "    \n",
        "    # Merge CNN and LSTM layers\n",
        "    merged = Concatenate()([encoded_image, lstm_layer])\n",
        "\n",
        "    # Dense layers\n",
        "    decoder = LSTM(units, return_sequences=True)(merged)\n",
        "    decoder = Dropout(0.5)(decoder)\n",
        "    decoder = BatchNormalization()(decoder)\n",
        "    decoder = LSTM(units, return_sequences=False)(decoder)\n",
        "    decoder = Dropout(0.5)(decoder)\n",
        "    decoder = BatchNormalization()(decoder)\n",
        "    output_caption = Dense(vocab_size, activation='softmax')(decoder)\n",
        "\n",
        "    # Define the model\n",
        "    model = Model(inputs=[input_image, input_caption], outputs=output_caption)\n",
        "\n",
        "    return model\n",
        "vocab_size = total_words  # Size of your vocabulary (adjust according to your dataset)\n",
        "max_length = max_length  # Maximum length of a caption (adjust according to your dataset)\n",
        "embedding_dim = 256  # Dimension of the word embeddings\n",
        "units = 256  # Number of LSTM units\n",
        "\n",
        "model = build_cnn_lstm(vocab_size, max_length, embedding_dim, units)\n",
        "model.summary()"
      ]
    },
    {
      "cell_type": "code",
      "execution_count": null,
      "id": "GtEhpL1BUDZo",
      "metadata": {
        "id": "GtEhpL1BUDZo"
      },
      "outputs": [],
      "source": [
        "def data_generator(images, captions, tokenizer, max_length, batch_size=10):\n",
        "    X1, X2, y = [], [], []\n",
        "    n = 0\n",
        "    while True:\n",
        "        for img_path, img_captions in zip(images, captions):\n",
        "            for caption in img_captions:\n",
        "                n += 1\n",
        "\n",
        "                # Preprocess image\n",
        "                img = process_an_image(img_path)\n",
        "\n",
        "                # Preprocess caption\n",
        "                seq = tokenizer.texts_to_sequences([caption])[0]\n",
        "                seq = pad_sequences([seq], maxlen=max_length, padding='post', truncating='post')[0]\n",
        "\n",
        "                # Prepare input-output pairs\n",
        "                for j in range(1, len(seq)):\n",
        "                    in_seq, out_seq = seq[:j], seq[j]\n",
        "                    out_seq = to_categorical([out_seq], num_classes=vocab_size)[0]\n",
        "                    X1.append(img)\n",
        "                    X2.append(in_seq)\n",
        "                    y.append(out_seq)\n",
        "\n",
        "                if n == batch_size:\n",
        "                    print(f\"X1 shape: {np.array(X1).shape}, X2 shape: {np.array(X2).shape}, y shape: {np.array(y).shape}\")\n",
        "                    yield ([np.array(X1, dtype=object), np.array(X2, dtype=object)], np.array(y, dtype=object))\n",
        "                    X1, X2, y = [], [], []\n",
        "                    n = 0\n",
        "\n",
        "\n"
      ]
    },
    {
      "cell_type": "code",
      "execution_count": null,
      "id": "XoDd6TMPU-S5",
      "metadata": {
        "colab": {
          "base_uri": "https://localhost:8080/"
        },
        "id": "XoDd6TMPU-S5",
        "outputId": "519ab580-5c46-4689-8cfb-126155c9549e"
      },
      "outputs": [
        {
          "output_type": "stream",
          "name": "stderr",
          "text": [
            "\r  0%|          | 0/10 [00:00<?, ?it/s]<ipython-input-85-b22846ed2b04>:25: VisibleDeprecationWarning: Creating an ndarray from ragged nested sequences (which is a list-or-tuple of lists-or-tuples-or ndarrays with different lengths or shapes) is deprecated. If you meant to do this, you must specify 'dtype=object' when creating the ndarray.\n",
            "  print(f\"X1 shape: {np.array(X1).shape}, X2 shape: {np.array(X2).shape}, y shape: {np.array(y).shape}\")\n"
          ]
        },
        {
          "output_type": "stream",
          "name": "stdout",
          "text": [
            "X1 shape: (500, 1, 299, 299, 3), X2 shape: (500,), y shape: (500, 6429)\n"
          ]
        },
        {
          "output_type": "stream",
          "name": "stderr",
          "text": [
            "\r 10%|█         | 1/10 [00:19<02:51, 19.01s/it]"
          ]
        }
      ],
      "source": [
        "data_gen = data_generator(list(testsample_dict.keys()), list(testsample_dict.values()), tokenizer=sample_tokenizer, max_length=max_length)\n",
        "iter = 0\n",
        "for i in tqdm(data_gen, total=10):\n",
        "    iter += 1\n",
        "    if iter > 10:\n",
        "        break"
      ]
    },
    {
      "cell_type": "code",
      "source": [],
      "metadata": {
        "id": "hcOhjmlF43m_"
      },
      "id": "hcOhjmlF43m_",
      "execution_count": null,
      "outputs": []
    },
    {
      "cell_type": "code",
      "execution_count": null,
      "id": "IvzQdkUGXgxv",
      "metadata": {
        "colab": {
          "base_uri": "https://localhost:8080/"
        },
        "id": "IvzQdkUGXgxv",
        "outputId": "e9e9d0d7-4a73-46c6-8fc1-003c9e0d35ef"
      },
      "outputs": [
        {
          "output_type": "stream",
          "name": "stderr",
          "text": [
            "\r0it [00:00, ?it/s]"
          ]
        },
        {
          "output_type": "stream",
          "name": "stdout",
          "text": [
            "0\n",
            "1 1 1\n",
            "2 2 2\n",
            "3 3 3\n",
            "4 4 4\n",
            "5 5 5\n",
            "6 6 6\n",
            "7 7 7\n",
            "8 8 8\n",
            "9 9 9\n",
            "10 10 10\n",
            "11 11 11\n",
            "12 12 12\n",
            "13 13 13\n",
            "14 14 14\n",
            "15 15 15\n",
            "16 16 16\n",
            "17 17 17\n",
            "18 18 18\n",
            "19 19 19\n",
            "20 20 20\n",
            "21 21 21\n",
            "22 22 22\n",
            "23 23 23\n",
            "24 24 24\n",
            "25 25 25\n",
            "26 26 26\n",
            "27 27 27\n",
            "28 28 28\n",
            "29 29 29\n",
            "30 30 30\n",
            "31 31 31\n",
            "32 32 32\n",
            "33 33 33\n",
            "34 34 34\n",
            "35 35 35\n",
            "36 36 36\n",
            "37 37 37\n",
            "38 38 38\n",
            "39 39 39\n",
            "40 40 40\n",
            "41 41 41\n",
            "42 42 42\n",
            "43 43 43\n",
            "44 44 44\n",
            "45 45 45\n",
            "46 46 46\n",
            "47 47 47\n",
            "48 48 48\n",
            "49 49 49\n",
            "50 50 50\n",
            "1\n",
            "51 51 51\n",
            "52 52 52\n",
            "53 53 53\n",
            "54 54 54\n",
            "55 55 55\n",
            "56 56 56\n",
            "57 57 57\n",
            "58 58 58\n",
            "59 59 59\n",
            "60 60 60\n",
            "61 61 61\n",
            "62 62 62\n",
            "63 63 63\n",
            "64 64 64\n",
            "65 65 65\n",
            "66 66 66\n",
            "67 67 67\n",
            "68 68 68\n",
            "69 69 69\n",
            "70 70 70\n",
            "71 71 71\n",
            "72 72 72\n",
            "73 73 73\n",
            "74 74 74\n",
            "75 75 75\n",
            "76 76 76\n",
            "77 77 77\n",
            "78 78 78\n",
            "79 79 79\n",
            "80 80 80\n",
            "81 81 81\n",
            "82 82 82\n",
            "83 83 83\n",
            "84 84 84\n",
            "85 85 85\n",
            "86 86 86\n",
            "87 87 87\n",
            "88 88 88\n",
            "89 89 89\n",
            "90 90 90\n",
            "91 91 91\n",
            "92 92 92\n",
            "93 93 93\n",
            "94 94 94\n",
            "95 95 95\n",
            "96 96 96\n",
            "97 97 97\n",
            "98 98 98\n",
            "99 99 99\n",
            "100 100 100\n",
            "2\n",
            "101 101 101\n",
            "102 102 102\n",
            "103 103 103\n",
            "104 104 104\n",
            "105 105 105\n",
            "106 106 106\n",
            "107 107 107\n",
            "108 108 108\n",
            "109 109 109\n",
            "110 110 110\n",
            "111 111 111\n",
            "112 112 112\n",
            "113 113 113\n",
            "114 114 114\n",
            "115 115 115\n",
            "116 116 116\n",
            "117 117 117\n",
            "118 118 118\n",
            "119 119 119\n",
            "120 120 120\n",
            "121 121 121\n",
            "122 122 122\n",
            "123 123 123\n",
            "124 124 124\n",
            "125 125 125\n",
            "126 126 126\n",
            "127 127 127\n",
            "128 128 128\n",
            "129 129 129\n",
            "130 130 130\n",
            "131 131 131\n",
            "132 132 132\n",
            "133 133 133\n",
            "134 134 134\n",
            "135 135 135\n",
            "136 136 136\n",
            "137 137 137\n",
            "138 138 138\n",
            "139 139 139\n",
            "140 140 140\n",
            "141 141 141\n",
            "142 142 142\n",
            "143 143 143\n",
            "144 144 144\n",
            "145 145 145\n",
            "146 146 146\n",
            "147 147 147\n",
            "148 148 148\n",
            "149 149 149\n",
            "150 150 150\n",
            "3\n",
            "151 151 151\n",
            "152 152 152\n",
            "153 153 153\n",
            "154 154 154\n",
            "155 155 155\n",
            "156 156 156\n",
            "157 157 157\n",
            "158 158 158\n",
            "159 159 159\n",
            "160 160 160\n",
            "161 161 161\n",
            "162 162 162\n",
            "163 163 163\n",
            "164 164 164\n",
            "165 165 165\n",
            "166 166 166\n",
            "167 167 167\n",
            "168 168 168\n",
            "169 169 169\n",
            "170 170 170\n",
            "171 171 171\n",
            "172 172 172\n",
            "173 173 173\n",
            "174 174 174\n",
            "175 175 175\n",
            "176 176 176\n",
            "177 177 177\n",
            "178 178 178\n",
            "179 179 179\n",
            "180 180 180\n",
            "181 181 181\n",
            "182 182 182\n",
            "183 183 183\n",
            "184 184 184\n",
            "185 185 185\n",
            "186 186 186\n",
            "187 187 187\n",
            "188 188 188\n",
            "189 189 189\n",
            "190 190 190\n",
            "191 191 191\n",
            "192 192 192\n",
            "193 193 193\n",
            "194 194 194\n",
            "195 195 195\n",
            "196 196 196\n",
            "197 197 197\n",
            "198 198 198\n",
            "199 199 199\n",
            "200 200 200\n",
            "4\n",
            "201 201 201\n",
            "202 202 202\n",
            "203 203 203\n",
            "204 204 204\n",
            "205 205 205\n",
            "206 206 206\n",
            "207 207 207\n",
            "208 208 208\n",
            "209 209 209\n",
            "210 210 210\n",
            "211 211 211\n",
            "212 212 212\n",
            "213 213 213\n",
            "214 214 214\n",
            "215 215 215\n",
            "216 216 216\n",
            "217 217 217\n",
            "218 218 218\n",
            "219 219 219\n",
            "220 220 220\n",
            "221 221 221\n",
            "222 222 222\n",
            "223 223 223\n",
            "224 224 224\n",
            "225 225 225\n",
            "226 226 226\n",
            "227 227 227\n",
            "228 228 228\n",
            "229 229 229\n",
            "230 230 230\n",
            "231 231 231\n",
            "232 232 232\n",
            "233 233 233\n",
            "234 234 234\n",
            "235 235 235\n",
            "236 236 236\n",
            "237 237 237\n",
            "238 238 238\n",
            "239 239 239\n",
            "240 240 240\n",
            "241 241 241\n",
            "242 242 242\n",
            "243 243 243\n",
            "244 244 244\n",
            "245 245 245\n",
            "246 246 246\n",
            "247 247 247\n",
            "248 248 248\n",
            "249 249 249\n",
            "250 250 250\n",
            "5\n",
            "251 251 251\n",
            "252 252 252\n",
            "253 253 253\n",
            "254 254 254\n",
            "255 255 255\n",
            "256 256 256\n",
            "257 257 257\n",
            "258 258 258\n",
            "259 259 259\n",
            "260 260 260\n",
            "261 261 261\n",
            "262 262 262\n",
            "263 263 263\n",
            "264 264 264\n",
            "265 265 265\n",
            "266 266 266\n",
            "267 267 267\n",
            "268 268 268\n",
            "269 269 269\n",
            "270 270 270\n",
            "271 271 271\n",
            "272 272 272\n",
            "273 273 273\n",
            "274 274 274\n",
            "275 275 275\n",
            "276 276 276\n",
            "277 277 277\n",
            "278 278 278\n",
            "279 279 279\n",
            "280 280 280\n",
            "281 281 281\n",
            "282 282 282\n",
            "283 283 283\n",
            "284 284 284\n",
            "285 285 285\n",
            "286 286 286\n",
            "287 287 287\n",
            "288 288 288\n",
            "289 289 289\n",
            "290 290 290\n",
            "291 291 291\n",
            "292 292 292\n",
            "293 293 293\n",
            "294 294 294\n",
            "295 295 295\n",
            "296 296 296\n",
            "297 297 297\n",
            "298 298 298\n",
            "299 299 299\n",
            "300 300 300\n",
            "6\n",
            "301 301 301\n",
            "302 302 302\n",
            "303 303 303\n",
            "304 304 304\n",
            "305 305 305\n",
            "306 306 306\n",
            "307 307 307\n",
            "308 308 308\n",
            "309 309 309\n",
            "310 310 310\n",
            "311 311 311\n",
            "312 312 312\n",
            "313 313 313\n",
            "314 314 314\n",
            "315 315 315\n",
            "316 316 316\n",
            "317 317 317\n",
            "318 318 318\n",
            "319 319 319\n",
            "320 320 320\n",
            "321 321 321\n",
            "322 322 322\n",
            "323 323 323\n",
            "324 324 324\n",
            "325 325 325\n",
            "326 326 326\n",
            "327 327 327\n",
            "328 328 328\n",
            "329 329 329\n",
            "330 330 330\n",
            "331 331 331\n",
            "332 332 332\n",
            "333 333 333\n",
            "334 334 334\n",
            "335 335 335\n",
            "336 336 336\n",
            "337 337 337\n",
            "338 338 338\n",
            "339 339 339\n",
            "340 340 340\n",
            "341 341 341\n",
            "342 342 342\n",
            "343 343 343\n",
            "344 344 344\n",
            "345 345 345\n",
            "346 346 346\n",
            "347 347 347\n",
            "348 348 348\n",
            "349 349 349\n",
            "350 350 350\n",
            "7\n",
            "351 351 351\n",
            "352 352 352\n",
            "353 353 353\n",
            "354 354 354\n",
            "355 355 355\n",
            "356 356 356\n",
            "357 357 357\n",
            "358 358 358\n",
            "359 359 359\n",
            "360 360 360\n",
            "361 361 361\n",
            "362 362 362\n",
            "363 363 363\n",
            "364 364 364\n",
            "365 365 365\n",
            "366 366 366\n",
            "367 367 367\n",
            "368 368 368\n",
            "369 369 369\n",
            "370 370 370\n",
            "371 371 371\n",
            "372 372 372\n",
            "373 373 373\n",
            "374 374 374\n",
            "375 375 375\n",
            "376 376 376\n",
            "377 377 377\n",
            "378 378 378\n",
            "379 379 379\n",
            "380 380 380\n",
            "381 381 381\n",
            "382 382 382\n",
            "383 383 383\n",
            "384 384 384\n",
            "385 385 385\n",
            "386 386 386\n",
            "387 387 387\n",
            "388 388 388\n",
            "389 389 389\n",
            "390 390 390\n",
            "391 391 391\n",
            "392 392 392\n",
            "393 393 393\n",
            "394 394 394\n",
            "395 395 395\n",
            "396 396 396\n",
            "397 397 397\n",
            "398 398 398\n",
            "399 399 399\n",
            "400 400 400\n",
            "8\n",
            "401 401 401\n",
            "402 402 402\n",
            "403 403 403\n",
            "404 404 404\n",
            "405 405 405\n",
            "406 406 406\n",
            "407 407 407\n",
            "408 408 408\n",
            "409 409 409\n",
            "410 410 410\n",
            "411 411 411\n",
            "412 412 412\n",
            "413 413 413\n",
            "414 414 414\n",
            "415 415 415\n",
            "416 416 416\n",
            "417 417 417\n",
            "418 418 418\n",
            "419 419 419\n",
            "420 420 420\n",
            "421 421 421\n",
            "422 422 422\n",
            "423 423 423\n",
            "424 424 424\n",
            "425 425 425\n",
            "426 426 426\n",
            "427 427 427\n",
            "428 428 428\n",
            "429 429 429\n",
            "430 430 430\n",
            "431 431 431\n",
            "432 432 432\n",
            "433 433 433\n",
            "434 434 434\n",
            "435 435 435\n",
            "436 436 436\n",
            "437 437 437\n",
            "438 438 438\n",
            "439 439 439\n",
            "440 440 440\n",
            "441 441 441\n",
            "442 442 442\n",
            "443 443 443\n",
            "444 444 444\n",
            "445 445 445\n",
            "446 446 446\n",
            "447 447 447\n",
            "448 448 448\n",
            "449 449 449\n",
            "450 450 450\n",
            "9\n",
            "451 451 451\n",
            "452 452 452\n",
            "453 453 453\n",
            "454 454 454\n",
            "455 455 455\n",
            "456 456 456\n",
            "457 457 457\n",
            "458 458 458\n",
            "459 459 459\n",
            "460 460 460\n",
            "461 461 461\n",
            "462 462 462\n",
            "463 463 463\n",
            "464 464 464\n",
            "465 465 465\n",
            "466 466 466\n",
            "467 467 467\n",
            "468 468 468\n",
            "469 469 469\n",
            "470 470 470\n",
            "471 471 471\n",
            "472 472 472\n",
            "473 473 473\n",
            "474 474 474\n",
            "475 475 475\n",
            "476 476 476\n",
            "477 477 477\n",
            "478 478 478\n",
            "479 479 479\n",
            "480 480 480\n",
            "481 481 481\n",
            "482 482 482\n",
            "483 483 483\n",
            "484 484 484\n",
            "485 485 485\n",
            "486 486 486\n",
            "487 487 487\n",
            "488 488 488\n",
            "489 489 489\n",
            "490 490 490\n",
            "491 491 491\n",
            "492 492 492\n",
            "493 493 493\n",
            "494 494 494\n",
            "495 495 495\n",
            "496 496 496\n",
            "497 497 497\n",
            "498 498 498\n",
            "499 499 499\n",
            "500 500 500\n"
          ]
        },
        {
          "output_type": "stream",
          "name": "stderr",
          "text": [
            "\r1it [00:23, 23.92s/it]"
          ]
        },
        {
          "output_type": "stream",
          "name": "stdout",
          "text": [
            "0\n",
            "1 1 1\n",
            "2 2 2\n",
            "3 3 3\n",
            "4 4 4\n",
            "5 5 5\n",
            "6 6 6\n",
            "7 7 7\n",
            "8 8 8\n",
            "9 9 9\n",
            "10 10 10\n",
            "11 11 11\n",
            "12 12 12\n",
            "13 13 13\n",
            "14 14 14\n",
            "15 15 15\n",
            "16 16 16\n",
            "17 17 17\n",
            "18 18 18\n",
            "19 19 19\n",
            "20 20 20\n",
            "21 21 21\n",
            "22 22 22\n",
            "23 23 23\n",
            "24 24 24\n",
            "25 25 25\n",
            "26 26 26\n",
            "27 27 27\n",
            "28 28 28\n",
            "29 29 29\n",
            "30 30 30\n",
            "31 31 31\n",
            "32 32 32\n",
            "33 33 33\n",
            "34 34 34\n",
            "35 35 35\n",
            "36 36 36\n",
            "37 37 37\n",
            "38 38 38\n",
            "39 39 39\n",
            "40 40 40\n",
            "41 41 41\n",
            "42 42 42\n",
            "43 43 43\n",
            "44 44 44\n",
            "45 45 45\n",
            "46 46 46\n",
            "47 47 47\n",
            "48 48 48\n",
            "49 49 49\n",
            "50 50 50\n",
            "1\n",
            "51 51 51\n",
            "52 52 52\n",
            "53 53 53\n",
            "54 54 54\n",
            "55 55 55\n",
            "56 56 56\n",
            "57 57 57\n",
            "58 58 58\n",
            "59 59 59\n",
            "60 60 60\n",
            "61 61 61\n",
            "62 62 62\n",
            "63 63 63\n",
            "64 64 64\n",
            "65 65 65\n",
            "66 66 66\n",
            "67 67 67\n",
            "68 68 68\n",
            "69 69 69\n",
            "70 70 70\n",
            "71 71 71\n",
            "72 72 72\n",
            "73 73 73\n",
            "74 74 74\n",
            "75 75 75\n",
            "76 76 76\n",
            "77 77 77\n",
            "78 78 78\n",
            "79 79 79\n",
            "80 80 80\n",
            "81 81 81\n",
            "82 82 82\n",
            "83 83 83\n",
            "84 84 84\n",
            "85 85 85\n",
            "86 86 86\n",
            "87 87 87\n",
            "88 88 88\n",
            "89 89 89\n",
            "90 90 90\n",
            "91 91 91\n",
            "92 92 92\n",
            "93 93 93\n",
            "94 94 94\n",
            "95 95 95\n",
            "96 96 96\n",
            "97 97 97\n",
            "98 98 98\n",
            "99 99 99\n",
            "100 100 100\n",
            "2\n",
            "101 101 101\n",
            "102 102 102\n",
            "103 103 103\n",
            "104 104 104\n",
            "105 105 105\n",
            "106 106 106\n",
            "107 107 107\n",
            "108 108 108\n",
            "109 109 109\n",
            "110 110 110\n",
            "111 111 111\n",
            "112 112 112\n",
            "113 113 113\n",
            "114 114 114\n",
            "115 115 115\n",
            "116 116 116\n",
            "117 117 117\n",
            "118 118 118\n",
            "119 119 119\n",
            "120 120 120\n",
            "121 121 121\n",
            "122 122 122\n",
            "123 123 123\n",
            "124 124 124\n",
            "125 125 125\n",
            "126 126 126\n",
            "127 127 127\n",
            "128 128 128\n",
            "129 129 129\n",
            "130 130 130\n",
            "131 131 131\n",
            "132 132 132\n",
            "133 133 133\n",
            "134 134 134\n",
            "135 135 135\n",
            "136 136 136\n",
            "137 137 137\n",
            "138 138 138\n",
            "139 139 139\n",
            "140 140 140\n",
            "141 141 141\n",
            "142 142 142\n",
            "143 143 143\n",
            "144 144 144\n",
            "145 145 145\n",
            "146 146 146\n",
            "147 147 147\n",
            "148 148 148\n",
            "149 149 149\n",
            "150 150 150\n",
            "3\n",
            "151 151 151\n",
            "152 152 152\n",
            "153 153 153\n",
            "154 154 154\n",
            "155 155 155\n",
            "156 156 156\n",
            "157 157 157\n",
            "158 158 158\n",
            "159 159 159\n",
            "160 160 160\n",
            "161 161 161\n",
            "162 162 162\n",
            "163 163 163\n",
            "164 164 164\n",
            "165 165 165\n",
            "166 166 166\n",
            "167 167 167\n",
            "168 168 168\n",
            "169 169 169\n",
            "170 170 170\n",
            "171 171 171\n",
            "172 172 172\n",
            "173 173 173\n",
            "174 174 174\n",
            "175 175 175\n",
            "176 176 176\n",
            "177 177 177\n",
            "178 178 178\n",
            "179 179 179\n",
            "180 180 180\n",
            "181 181 181\n",
            "182 182 182\n",
            "183 183 183\n",
            "184 184 184\n",
            "185 185 185\n",
            "186 186 186\n",
            "187 187 187\n",
            "188 188 188\n",
            "189 189 189\n",
            "190 190 190\n",
            "191 191 191\n",
            "192 192 192\n",
            "193 193 193\n",
            "194 194 194\n",
            "195 195 195\n",
            "196 196 196\n",
            "197 197 197\n",
            "198 198 198\n",
            "199 199 199\n",
            "200 200 200\n",
            "4\n",
            "201 201 201\n",
            "202 202 202\n",
            "203 203 203\n",
            "204 204 204\n",
            "205 205 205\n",
            "206 206 206\n",
            "207 207 207\n",
            "208 208 208\n",
            "209 209 209\n",
            "210 210 210\n",
            "211 211 211\n",
            "212 212 212\n",
            "213 213 213\n",
            "214 214 214\n",
            "215 215 215\n",
            "216 216 216\n",
            "217 217 217\n",
            "218 218 218\n",
            "219 219 219\n",
            "220 220 220\n",
            "221 221 221\n",
            "222 222 222\n",
            "223 223 223\n",
            "224 224 224\n",
            "225 225 225\n",
            "226 226 226\n",
            "227 227 227\n",
            "228 228 228\n",
            "229 229 229\n",
            "230 230 230\n",
            "231 231 231\n",
            "232 232 232\n",
            "233 233 233\n",
            "234 234 234\n",
            "235 235 235\n",
            "236 236 236\n",
            "237 237 237\n",
            "238 238 238\n",
            "239 239 239\n",
            "240 240 240\n",
            "241 241 241\n",
            "242 242 242\n",
            "243 243 243\n",
            "244 244 244\n",
            "245 245 245\n",
            "246 246 246\n",
            "247 247 247\n",
            "248 248 248\n",
            "249 249 249\n",
            "250 250 250\n",
            "5\n",
            "251 251 251\n",
            "252 252 252\n",
            "253 253 253\n",
            "254 254 254\n",
            "255 255 255\n",
            "256 256 256\n",
            "257 257 257\n",
            "258 258 258\n",
            "259 259 259\n",
            "260 260 260\n",
            "261 261 261\n",
            "262 262 262\n",
            "263 263 263\n",
            "264 264 264\n",
            "265 265 265\n",
            "266 266 266\n",
            "267 267 267\n",
            "268 268 268\n",
            "269 269 269\n",
            "270 270 270\n",
            "271 271 271\n",
            "272 272 272\n",
            "273 273 273\n",
            "274 274 274\n",
            "275 275 275\n",
            "276 276 276\n",
            "277 277 277\n",
            "278 278 278\n",
            "279 279 279\n",
            "280 280 280\n",
            "281 281 281\n",
            "282 282 282\n",
            "283 283 283\n",
            "284 284 284\n",
            "285 285 285\n",
            "286 286 286\n",
            "287 287 287\n",
            "288 288 288\n",
            "289 289 289\n",
            "290 290 290\n",
            "291 291 291\n",
            "292 292 292\n",
            "293 293 293\n",
            "294 294 294\n",
            "295 295 295\n",
            "296 296 296\n",
            "297 297 297\n",
            "298 298 298\n",
            "299 299 299\n",
            "300 300 300\n",
            "6\n",
            "301 301 301\n",
            "302 302 302\n",
            "303 303 303\n",
            "304 304 304\n",
            "305 305 305\n",
            "306 306 306\n",
            "307 307 307\n",
            "308 308 308\n",
            "309 309 309\n",
            "310 310 310\n",
            "311 311 311\n",
            "312 312 312\n",
            "313 313 313\n",
            "314 314 314\n",
            "315 315 315\n",
            "316 316 316\n",
            "317 317 317\n",
            "318 318 318\n",
            "319 319 319\n",
            "320 320 320\n",
            "321 321 321\n",
            "322 322 322\n",
            "323 323 323\n",
            "324 324 324\n",
            "325 325 325\n",
            "326 326 326\n",
            "327 327 327\n",
            "328 328 328\n",
            "329 329 329\n",
            "330 330 330\n",
            "331 331 331\n",
            "332 332 332\n",
            "333 333 333\n",
            "334 334 334\n",
            "335 335 335\n",
            "336 336 336\n",
            "337 337 337\n",
            "338 338 338\n",
            "339 339 339\n",
            "340 340 340\n",
            "341 341 341\n",
            "342 342 342\n",
            "343 343 343\n",
            "344 344 344\n",
            "345 345 345\n",
            "346 346 346\n",
            "347 347 347\n",
            "348 348 348\n",
            "349 349 349\n",
            "350 350 350\n",
            "7\n",
            "351 351 351\n",
            "352 352 352\n",
            "353 353 353\n",
            "354 354 354\n",
            "355 355 355\n",
            "356 356 356\n",
            "357 357 357\n",
            "358 358 358\n",
            "359 359 359\n",
            "360 360 360\n",
            "361 361 361\n",
            "362 362 362\n",
            "363 363 363\n",
            "364 364 364\n",
            "365 365 365\n",
            "366 366 366\n",
            "367 367 367\n",
            "368 368 368\n",
            "369 369 369\n",
            "370 370 370\n",
            "371 371 371\n",
            "372 372 372\n",
            "373 373 373\n",
            "374 374 374\n",
            "375 375 375\n",
            "376 376 376\n",
            "377 377 377\n",
            "378 378 378\n",
            "379 379 379\n",
            "380 380 380\n",
            "381 381 381\n",
            "382 382 382\n",
            "383 383 383\n",
            "384 384 384\n",
            "385 385 385\n",
            "386 386 386\n",
            "387 387 387\n",
            "388 388 388\n",
            "389 389 389\n",
            "390 390 390\n",
            "391 391 391\n",
            "392 392 392\n",
            "393 393 393\n",
            "394 394 394\n",
            "395 395 395\n",
            "396 396 396\n",
            "397 397 397\n",
            "398 398 398\n",
            "399 399 399\n",
            "400 400 400\n",
            "8\n",
            "401 401 401\n",
            "402 402 402\n",
            "403 403 403\n",
            "404 404 404\n",
            "405 405 405\n",
            "406 406 406\n",
            "407 407 407\n",
            "408 408 408\n",
            "409 409 409\n",
            "410 410 410\n",
            "411 411 411\n",
            "412 412 412\n",
            "413 413 413\n",
            "414 414 414\n",
            "415 415 415\n",
            "416 416 416\n",
            "417 417 417\n",
            "418 418 418\n",
            "419 419 419\n",
            "420 420 420\n",
            "421 421 421\n",
            "422 422 422\n",
            "423 423 423\n",
            "424 424 424\n",
            "425 425 425\n",
            "426 426 426\n",
            "427 427 427\n",
            "428 428 428\n",
            "429 429 429\n",
            "430 430 430\n",
            "431 431 431\n",
            "432 432 432\n",
            "433 433 433\n",
            "434 434 434\n",
            "435 435 435\n",
            "436 436 436\n",
            "437 437 437\n",
            "438 438 438\n",
            "439 439 439\n",
            "440 440 440\n",
            "441 441 441\n",
            "442 442 442\n",
            "443 443 443\n",
            "444 444 444\n",
            "445 445 445\n",
            "446 446 446\n",
            "447 447 447\n",
            "448 448 448\n",
            "449 449 449\n",
            "450 450 450\n",
            "9\n"
          ]
        }
      ],
      "source": [
        "data_gen = data_generator( list(testsample_dict.keys()),  list(testsample_dict.values()) ,tokenizer=sample_tokenizer,max_length=max_length)\n",
        "iter = 0\n",
        "for i in tqdm(data_gen):\n",
        "  iter +=1\n",
        "  if len(i >10:\n",
        "    break"
      ]
    },
    {
      "cell_type": "code",
      "execution_count": null,
      "id": "8BI-PQDYrjLT",
      "metadata": {
        "id": "8BI-PQDYrjLT"
      },
      "outputs": [],
      "source": []
    },
    {
      "cell_type": "code",
      "execution_count": null,
      "id": "sjG2BRT9rpjn",
      "metadata": {
        "id": "sjG2BRT9rpjn"
      },
      "outputs": [],
      "source": []
    },
    {
      "cell_type": "markdown",
      "source": [],
      "metadata": {
        "id": "rZF1VDSA2-cS"
      },
      "id": "rZF1VDSA2-cS"
    },
    {
      "cell_type": "code",
      "execution_count": null,
      "id": "zh6S-X2ZWIC0",
      "metadata": {
        "id": "zh6S-X2ZWIC0"
      },
      "outputs": [],
      "source": [
        "train_images = list(testsample_dict.keys())\n",
        "\n",
        "train_captions = list(testsample_dict.values())"
      ]
    },
    {
      "cell_type": "code",
      "execution_count": null,
      "id": "xdLjUUy0VC1E",
      "metadata": {
        "id": "xdLjUUy0VC1E"
      },
      "outputs": [],
      "source": [
        "# Compile the model\n",
        "model.compile(optimizer='adam', loss='categorical_crossentropy')\n",
        "\n",
        "# Set parameters\n",
        "epochs = 2\n",
        "batch_size = 10\n",
        "steps_per_epoch = len(train_images) // batch_size\n",
        "\n",
        "# Train the model\n",
        "for i in tqdm(range(epochs)):\n",
        "    generator = data_generator(train_images, train_captions, tokenizer, max_length)\n",
        "    model.fit(generator, epochs=1, steps_per_epoch=steps_per_epoch, verbose=1)\n",
        "    model.save('model_' + str(i) + '.h5')"
      ]
    },
    {
      "cell_type": "code",
      "execution_count": null,
      "id": "8IX3f7dNXq_b",
      "metadata": {
        "id": "8IX3f7dNXq_b"
      },
      "outputs": [],
      "source": []
    }
  ],
  "metadata": {
    "accelerator": "GPU",
    "colab": {
      "provenance": [],
      "include_colab_link": true
    },
    "gpuClass": "standard",
    "kernelspec": {
      "display_name": "Python 3 (ipykernel)",
      "language": "python",
      "name": "python3"
    },
    "language_info": {
      "codemirror_mode": {
        "name": "ipython",
        "version": 3
      },
      "file_extension": ".py",
      "mimetype": "text/x-python",
      "name": "python",
      "nbconvert_exporter": "python",
      "pygments_lexer": "ipython3",
      "version": "3.10.5"
    },
    "papermill": {
      "default_parameters": {},
      "duration": 13760.196806,
      "end_time": "2022-09-14T22:53:28.261521",
      "environment_variables": {},
      "exception": null,
      "input_path": "__notebook__.ipynb",
      "output_path": "__notebook__.ipynb",
      "parameters": {},
      "start_time": "2022-09-14T19:04:08.064715",
      "version": "2.3.4"
    },
    "widgets": {
      "application/vnd.jupyter.widget-state+json": {
        "fe4deed4e6364a9a95f5ba38df020d05": {
          "model_module": "@jupyter-widgets/controls",
          "model_name": "HBoxModel",
          "model_module_version": "1.5.0",
          "state": {
            "_dom_classes": [],
            "_model_module": "@jupyter-widgets/controls",
            "_model_module_version": "1.5.0",
            "_model_name": "HBoxModel",
            "_view_count": null,
            "_view_module": "@jupyter-widgets/controls",
            "_view_module_version": "1.5.0",
            "_view_name": "HBoxView",
            "box_style": "",
            "children": [
              "IPY_MODEL_ccae57db9f074e8d8e3f68cfaf46d587",
              "IPY_MODEL_b7d3fc9fd9c54be4960cecfc646406c4",
              "IPY_MODEL_0411f9f527f14a5b92bdcadc027484a3"
            ],
            "layout": "IPY_MODEL_46b599eaf412421c9e7ee5c02656905f"
          }
        },
        "ccae57db9f074e8d8e3f68cfaf46d587": {
          "model_module": "@jupyter-widgets/controls",
          "model_name": "HTMLModel",
          "model_module_version": "1.5.0",
          "state": {
            "_dom_classes": [],
            "_model_module": "@jupyter-widgets/controls",
            "_model_module_version": "1.5.0",
            "_model_name": "HTMLModel",
            "_view_count": null,
            "_view_module": "@jupyter-widgets/controls",
            "_view_module_version": "1.5.0",
            "_view_name": "HTMLView",
            "description": "",
            "description_tooltip": null,
            "layout": "IPY_MODEL_a88056f6e72a4978bf7f7e3bfc353b89",
            "placeholder": "​",
            "style": "IPY_MODEL_f1b53b77dc144464aefc63b245cd156f",
            "value": "100%"
          }
        },
        "b7d3fc9fd9c54be4960cecfc646406c4": {
          "model_module": "@jupyter-widgets/controls",
          "model_name": "FloatProgressModel",
          "model_module_version": "1.5.0",
          "state": {
            "_dom_classes": [],
            "_model_module": "@jupyter-widgets/controls",
            "_model_module_version": "1.5.0",
            "_model_name": "FloatProgressModel",
            "_view_count": null,
            "_view_module": "@jupyter-widgets/controls",
            "_view_module_version": "1.5.0",
            "_view_name": "ProgressView",
            "bar_style": "success",
            "description": "",
            "description_tooltip": null,
            "layout": "IPY_MODEL_7f07b45bbaeb4e3a854a580da7d97c26",
            "max": 10,
            "min": 0,
            "orientation": "horizontal",
            "style": "IPY_MODEL_37bdc5e6abec4acfa8c0de004e659296",
            "value": 10
          }
        },
        "0411f9f527f14a5b92bdcadc027484a3": {
          "model_module": "@jupyter-widgets/controls",
          "model_name": "HTMLModel",
          "model_module_version": "1.5.0",
          "state": {
            "_dom_classes": [],
            "_model_module": "@jupyter-widgets/controls",
            "_model_module_version": "1.5.0",
            "_model_name": "HTMLModel",
            "_view_count": null,
            "_view_module": "@jupyter-widgets/controls",
            "_view_module_version": "1.5.0",
            "_view_name": "HTMLView",
            "description": "",
            "description_tooltip": null,
            "layout": "IPY_MODEL_206347f7adf7468796c46a9df3937ac6",
            "placeholder": "​",
            "style": "IPY_MODEL_cd8a84f4694442329579c0a75d9eab73",
            "value": " 10/10 [00:11&lt;00:00,  1.14s/it]"
          }
        },
        "46b599eaf412421c9e7ee5c02656905f": {
          "model_module": "@jupyter-widgets/base",
          "model_name": "LayoutModel",
          "model_module_version": "1.2.0",
          "state": {
            "_model_module": "@jupyter-widgets/base",
            "_model_module_version": "1.2.0",
            "_model_name": "LayoutModel",
            "_view_count": null,
            "_view_module": "@jupyter-widgets/base",
            "_view_module_version": "1.2.0",
            "_view_name": "LayoutView",
            "align_content": null,
            "align_items": null,
            "align_self": null,
            "border": null,
            "bottom": null,
            "display": null,
            "flex": null,
            "flex_flow": null,
            "grid_area": null,
            "grid_auto_columns": null,
            "grid_auto_flow": null,
            "grid_auto_rows": null,
            "grid_column": null,
            "grid_gap": null,
            "grid_row": null,
            "grid_template_areas": null,
            "grid_template_columns": null,
            "grid_template_rows": null,
            "height": null,
            "justify_content": null,
            "justify_items": null,
            "left": null,
            "margin": null,
            "max_height": null,
            "max_width": null,
            "min_height": null,
            "min_width": null,
            "object_fit": null,
            "object_position": null,
            "order": null,
            "overflow": null,
            "overflow_x": null,
            "overflow_y": null,
            "padding": null,
            "right": null,
            "top": null,
            "visibility": null,
            "width": null
          }
        },
        "a88056f6e72a4978bf7f7e3bfc353b89": {
          "model_module": "@jupyter-widgets/base",
          "model_name": "LayoutModel",
          "model_module_version": "1.2.0",
          "state": {
            "_model_module": "@jupyter-widgets/base",
            "_model_module_version": "1.2.0",
            "_model_name": "LayoutModel",
            "_view_count": null,
            "_view_module": "@jupyter-widgets/base",
            "_view_module_version": "1.2.0",
            "_view_name": "LayoutView",
            "align_content": null,
            "align_items": null,
            "align_self": null,
            "border": null,
            "bottom": null,
            "display": null,
            "flex": null,
            "flex_flow": null,
            "grid_area": null,
            "grid_auto_columns": null,
            "grid_auto_flow": null,
            "grid_auto_rows": null,
            "grid_column": null,
            "grid_gap": null,
            "grid_row": null,
            "grid_template_areas": null,
            "grid_template_columns": null,
            "grid_template_rows": null,
            "height": null,
            "justify_content": null,
            "justify_items": null,
            "left": null,
            "margin": null,
            "max_height": null,
            "max_width": null,
            "min_height": null,
            "min_width": null,
            "object_fit": null,
            "object_position": null,
            "order": null,
            "overflow": null,
            "overflow_x": null,
            "overflow_y": null,
            "padding": null,
            "right": null,
            "top": null,
            "visibility": null,
            "width": null
          }
        },
        "f1b53b77dc144464aefc63b245cd156f": {
          "model_module": "@jupyter-widgets/controls",
          "model_name": "DescriptionStyleModel",
          "model_module_version": "1.5.0",
          "state": {
            "_model_module": "@jupyter-widgets/controls",
            "_model_module_version": "1.5.0",
            "_model_name": "DescriptionStyleModel",
            "_view_count": null,
            "_view_module": "@jupyter-widgets/base",
            "_view_module_version": "1.2.0",
            "_view_name": "StyleView",
            "description_width": ""
          }
        },
        "7f07b45bbaeb4e3a854a580da7d97c26": {
          "model_module": "@jupyter-widgets/base",
          "model_name": "LayoutModel",
          "model_module_version": "1.2.0",
          "state": {
            "_model_module": "@jupyter-widgets/base",
            "_model_module_version": "1.2.0",
            "_model_name": "LayoutModel",
            "_view_count": null,
            "_view_module": "@jupyter-widgets/base",
            "_view_module_version": "1.2.0",
            "_view_name": "LayoutView",
            "align_content": null,
            "align_items": null,
            "align_self": null,
            "border": null,
            "bottom": null,
            "display": null,
            "flex": null,
            "flex_flow": null,
            "grid_area": null,
            "grid_auto_columns": null,
            "grid_auto_flow": null,
            "grid_auto_rows": null,
            "grid_column": null,
            "grid_gap": null,
            "grid_row": null,
            "grid_template_areas": null,
            "grid_template_columns": null,
            "grid_template_rows": null,
            "height": null,
            "justify_content": null,
            "justify_items": null,
            "left": null,
            "margin": null,
            "max_height": null,
            "max_width": null,
            "min_height": null,
            "min_width": null,
            "object_fit": null,
            "object_position": null,
            "order": null,
            "overflow": null,
            "overflow_x": null,
            "overflow_y": null,
            "padding": null,
            "right": null,
            "top": null,
            "visibility": null,
            "width": null
          }
        },
        "37bdc5e6abec4acfa8c0de004e659296": {
          "model_module": "@jupyter-widgets/controls",
          "model_name": "ProgressStyleModel",
          "model_module_version": "1.5.0",
          "state": {
            "_model_module": "@jupyter-widgets/controls",
            "_model_module_version": "1.5.0",
            "_model_name": "ProgressStyleModel",
            "_view_count": null,
            "_view_module": "@jupyter-widgets/base",
            "_view_module_version": "1.2.0",
            "_view_name": "StyleView",
            "bar_color": null,
            "description_width": ""
          }
        },
        "206347f7adf7468796c46a9df3937ac6": {
          "model_module": "@jupyter-widgets/base",
          "model_name": "LayoutModel",
          "model_module_version": "1.2.0",
          "state": {
            "_model_module": "@jupyter-widgets/base",
            "_model_module_version": "1.2.0",
            "_model_name": "LayoutModel",
            "_view_count": null,
            "_view_module": "@jupyter-widgets/base",
            "_view_module_version": "1.2.0",
            "_view_name": "LayoutView",
            "align_content": null,
            "align_items": null,
            "align_self": null,
            "border": null,
            "bottom": null,
            "display": null,
            "flex": null,
            "flex_flow": null,
            "grid_area": null,
            "grid_auto_columns": null,
            "grid_auto_flow": null,
            "grid_auto_rows": null,
            "grid_column": null,
            "grid_gap": null,
            "grid_row": null,
            "grid_template_areas": null,
            "grid_template_columns": null,
            "grid_template_rows": null,
            "height": null,
            "justify_content": null,
            "justify_items": null,
            "left": null,
            "margin": null,
            "max_height": null,
            "max_width": null,
            "min_height": null,
            "min_width": null,
            "object_fit": null,
            "object_position": null,
            "order": null,
            "overflow": null,
            "overflow_x": null,
            "overflow_y": null,
            "padding": null,
            "right": null,
            "top": null,
            "visibility": null,
            "width": null
          }
        },
        "cd8a84f4694442329579c0a75d9eab73": {
          "model_module": "@jupyter-widgets/controls",
          "model_name": "DescriptionStyleModel",
          "model_module_version": "1.5.0",
          "state": {
            "_model_module": "@jupyter-widgets/controls",
            "_model_module_version": "1.5.0",
            "_model_name": "DescriptionStyleModel",
            "_view_count": null,
            "_view_module": "@jupyter-widgets/base",
            "_view_module_version": "1.2.0",
            "_view_name": "StyleView",
            "description_width": ""
          }
        }
      }
    }
  },
  "nbformat": 4,
  "nbformat_minor": 5
}