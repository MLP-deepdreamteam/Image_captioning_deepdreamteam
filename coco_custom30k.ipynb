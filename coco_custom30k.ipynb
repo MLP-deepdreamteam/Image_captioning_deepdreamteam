{
  "nbformat": 4,
  "nbformat_minor": 0,
  "metadata": {
    "colab": {
      "provenance": [],
      "authorship_tag": "ABX9TyO0guypZoQ3gz9ac5rQBAqX",
      "include_colab_link": true
    },
    "kernelspec": {
      "name": "python3",
      "display_name": "Python 3"
    },
    "language_info": {
      "name": "python"
    }
  },
  "cells": [
    {
      "cell_type": "markdown",
      "metadata": {
        "id": "view-in-github",
        "colab_type": "text"
      },
      "source": [
        "<a href=\"https://colab.research.google.com/github/MLP-deepdreamteam/Practice_captioning/blob/branch_%EA%B9%80%EC%9C%A4%EC%84%B1/coco_custom30k.ipynb\" target=\"_parent\"><img src=\"https://colab.research.google.com/assets/colab-badge.svg\" alt=\"Open In Colab\"/></a>"
      ]
    },
    {
      "cell_type": "code",
      "source": [
        "from google.colab import drive\n",
        "drive.mount('/content/drive', force_remount=True)"
      ],
      "metadata": {
        "colab": {
          "base_uri": "https://localhost:8080/"
        },
        "id": "XLGmZhpbzYZv",
        "outputId": "1c539a7f-c7e6-4c9b-9b18-0920ce8a33ca"
      },
      "execution_count": 3,
      "outputs": [
        {
          "output_type": "stream",
          "name": "stdout",
          "text": [
            "Mounted at /content/drive\n"
          ]
        }
      ]
    },
    {
      "cell_type": "code",
      "execution_count": 5,
      "metadata": {
        "colab": {
          "base_uri": "https://localhost:8080/"
        },
        "id": "GZc3QSDIzHJ6",
        "outputId": "d4959939-8a9a-4ad3-bebc-a0222d0298f0"
      },
      "outputs": [
        {
          "output_type": "stream",
          "name": "stdout",
          "text": [
            "/bin/bash: gs://coco_custom30k/custom30k.zip: No such file or directory\n"
          ]
        }
      ],
      "source": [
        "#  gs://coco_custom30k/custom30k.zip"
      ]
    },
    {
      "cell_type": "code",
      "source": [
        "from zipfile import ZipFile"
      ],
      "metadata": {
        "id": "VeU0qg5bz8cz"
      },
      "execution_count": 7,
      "outputs": []
    },
    {
      "cell_type": "code",
      "source": [
        "from google.colab import auth\n",
        "auth.authenticate_user()"
      ],
      "metadata": {
        "id": "BSBE1qZ42Fzd"
      },
      "execution_count": 18,
      "outputs": []
    },
    {
      "cell_type": "code",
      "source": [
        "# !wget http://images.cocodataset.org/zips/train2017.zip -O coco_train2017.zip # 전체롤드"
      ],
      "metadata": {
        "id": "97rXdpyG0-xD"
      },
      "execution_count": null,
      "outputs": []
    },
    {
      "cell_type": "code",
      "source": [
        "! gsutil cp gs://coco_custom30k/custom30k.zip /content/coco_custom30k"
      ],
      "metadata": {
        "colab": {
          "base_uri": "https://localhost:8080/"
        },
        "id": "nAWkqdqH1KX_",
        "outputId": "54f4286f-6af8-4f34-f77c-853d9b408add"
      },
      "execution_count": 19,
      "outputs": [
        {
          "output_type": "stream",
          "name": "stdout",
          "text": [
            "Copying gs://coco_custom30k/custom30k.zip...\n",
            "/ [0 files][    0.0 B/  4.6 GiB]                                                \r==> NOTE: You are downloading one or more large file(s), which would\n",
            "run significantly faster if you enabled sliced object downloads. This\n",
            "feature is enabled by default but requires that compiled crcmod be\n",
            "installed (see \"gsutil help crcmod\").\n",
            "\n",
            "| [1 files][  4.6 GiB/  4.6 GiB]  140.6 MiB/s                                   \n",
            "Operation completed over 1 objects/4.6 GiB.                                      \n"
          ]
        }
      ]
    },
    {
      "cell_type": "code",
      "source": [
        "with ZipFile(\"/content/coco_custom30k/custom30k.zip\") as zfile:\n",
        "  zfile.extractall(\"/content/coco_custom30k\")"
      ],
      "metadata": {
        "id": "8chUkMsAzLo4"
      },
      "execution_count": 21,
      "outputs": []
    },
    {
      "cell_type": "code",
      "source": [
        "# with GFile(\"gs://coco_custom30k/custom30k.zipl\", \"rb\") as f:\n",
        "#     dataset = pickle.load(f)"
      ],
      "metadata": {
        "id": "yiPOdd4QzNvU"
      },
      "execution_count": null,
      "outputs": []
    }
  ]
}